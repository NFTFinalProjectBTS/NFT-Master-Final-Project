{
 "cells": [
  {
   "cell_type": "code",
   "execution_count": 1,
   "id": "d6b3ece7",
   "metadata": {},
   "outputs": [],
   "source": [
    "import matplotlib.pyplot as plt\n",
    "import numpy as np \n",
    "import pandas as pd \n",
    "import seaborn as sns\n",
    "import plotly.express as px"
   ]
  },
  {
   "cell_type": "code",
   "execution_count": 2,
   "id": "8bbb89eb",
   "metadata": {},
   "outputs": [],
   "source": [
    "from pyspark.sql import SparkSession\n",
    "from pyspark.sql.functions import datediff\n",
    "from pyspark.ml.feature import VectorAssembler, StandardScaler, MinMaxScaler\n",
    "from pyspark.ml.regression import LinearRegression\n",
    "from pyspark.mllib.evaluation import RegressionMetrics\n",
    "from pyspark.ml import Pipeline\n",
    "from pyspark.ml.tuning import ParamGridBuilder, CrossValidator, CrossValidatorModel\n",
    "from pyspark.ml.feature import VectorAssembler, StandardScaler\n",
    "from pyspark.ml.evaluation import RegressionEvaluator\n",
    "from pyspark import SparkContext"
   ]
  },
  {
   "cell_type": "code",
   "execution_count": 3,
   "id": "82078bce",
   "metadata": {},
   "outputs": [],
   "source": [
    "spark = SparkSession.builder \\\n",
    "    .appName(\"ML_model\") \\\n",
    "    .getOrCreate()"
   ]
  },
  {
   "cell_type": "code",
   "execution_count": 207,
   "id": "4f0237f4",
   "metadata": {},
   "outputs": [],
   "source": [
    "#Loading the prepared dataset with a confidence interval\n",
    "sparkDF = spark.read.csv(\"punks_lim.csv\",header=True,inferSchema=True)"
   ]
  },
  {
   "cell_type": "code",
   "execution_count": 208,
   "id": "d7fc3e55",
   "metadata": {},
   "outputs": [
    {
     "name": "stdout",
     "output_type": "stream",
     "text": [
      "+---+----------+----+--------+-----+-----+-----------------+\n",
      "|_c0|N_elements|Rank|   Score|Items|Price|  close_price_eth|\n",
      "+---+----------+----+--------+-----+-----+-----------------+\n",
      "|  5|       618|4632| 62.3671|    2|24.99| 1626.57568359375|\n",
      "|  8|      1186|6436|  54.763|    2| 48.0|3013.732666015625|\n",
      "| 10|      1316|7545| 50.9701|    2|14.66| 1935.60107421875|\n",
      "| 11|      1316|7545| 50.9701|    2| 10.5| 1935.60107421875|\n",
      "| 12|      1316|7545| 50.9701|    2|34.45|2724.619873046875|\n",
      "| 15|      1633|9464|  38.252|    2| 67.8| 3319.25732421875|\n",
      "| 19|      1711| 451|186.7855|    2|72.69| 3319.25732421875|\n",
      "| 20|      1711| 451|186.7855|    2|44.99|2827.328857421875|\n",
      "| 22|      2036|9464|  38.252|    2|19.49|  2316.0595703125|\n",
      "| 23|      2036|9464|  38.252|    2|17.99|  3785.8486328125|\n",
      "| 25|      2036|9464|  38.252|    2| 5.55|359.9378662109375|\n",
      "| 26|      2036|9464|  38.252|    2|  5.0|359.9378662109375|\n",
      "| 28|      2572|7072|  52.494|    2|47.99|2139.353271484375|\n",
      "| 29|      2572|7072|  52.494|    2|36.69| 1716.49462890625|\n",
      "| 30|      2572|7072|  52.494|    2|41.99|    2403.53515625|\n",
      "| 31|      2572|7072|  52.494|    2| 48.0|1541.914306640625|\n",
      "| 32|      2572|7072|  52.494|    2| 44.9| 2321.72412109375|\n",
      "| 34|      2733|3503| 65.4884|    2|15.55| 1935.60107421875|\n",
      "| 35|      2733|3503| 65.4884|    2|  2.3|349.3555908203125|\n",
      "| 36|      2733|3503| 65.4884|    2| 2.65|352.1832580566406|\n",
      "+---+----------+----+--------+-----+-----+-----------------+\n",
      "only showing top 20 rows\n",
      "\n"
     ]
    }
   ],
   "source": [
    "sparkDF.show()"
   ]
  },
  {
   "cell_type": "code",
   "execution_count": 209,
   "id": "4443e97c",
   "metadata": {},
   "outputs": [
    {
     "name": "stdout",
     "output_type": "stream",
     "text": [
      "root\n",
      " |-- _c0: integer (nullable = true)\n",
      " |-- N_elements: integer (nullable = true)\n",
      " |-- Rank: integer (nullable = true)\n",
      " |-- Score: double (nullable = true)\n",
      " |-- Items: integer (nullable = true)\n",
      " |-- Price: double (nullable = true)\n",
      " |-- close_price_eth: double (nullable = true)\n",
      "\n"
     ]
    }
   ],
   "source": [
    "#Dataset schema\n",
    "sparkDF.printSchema()"
   ]
  },
  {
   "cell_type": "code",
   "execution_count": 251,
   "id": "9d0223e4",
   "metadata": {},
   "outputs": [],
   "source": [
    "train, test = sparkDF.randomSplit([0.8, 0.2], seed=42)"
   ]
  },
  {
   "cell_type": "code",
   "execution_count": 252,
   "id": "50f05254",
   "metadata": {},
   "outputs": [],
   "source": [
    "#Adding columns to our model\n",
    "featureCols = [\"Score\",\"close_price_eth\",\"Rank\",'Items']"
   ]
  },
  {
   "cell_type": "code",
   "execution_count": 253,
   "id": "01ad390c",
   "metadata": {},
   "outputs": [],
   "source": [
    "# put features into a feature vector column\n",
    "assembler = VectorAssembler(inputCols=featureCols, outputCol=\"features\")"
   ]
  },
  {
   "cell_type": "code",
   "execution_count": 254,
   "id": "c7aaeb89",
   "metadata": {},
   "outputs": [],
   "source": [
    "#transform our data\n",
    "train = assembler.transform(train)"
   ]
  },
  {
   "cell_type": "code",
   "execution_count": 255,
   "id": "0f118097",
   "metadata": {},
   "outputs": [],
   "source": [
    "test = assembler.transform(test)"
   ]
  },
  {
   "cell_type": "code",
   "execution_count": 256,
   "id": "86f36381",
   "metadata": {},
   "outputs": [],
   "source": [
    "# Initialize the `standardScaler`\n",
    "standardScaler = StandardScaler(inputCol=\"features\", outputCol=\"features_new\")"
   ]
  },
  {
   "cell_type": "code",
   "execution_count": 257,
   "id": "dd3e70c4",
   "metadata": {},
   "outputs": [],
   "source": [
    "# Fit the DataFrame to the scaler\n",
    "scaled = standardScaler.fit(train)"
   ]
  },
  {
   "cell_type": "code",
   "execution_count": 258,
   "id": "b5d23f53",
   "metadata": {},
   "outputs": [],
   "source": [
    "train = scaled.transform(train)\n",
    "test = scaled.transform(test)"
   ]
  },
  {
   "cell_type": "code",
   "execution_count": 259,
   "id": "92e9aae9",
   "metadata": {},
   "outputs": [],
   "source": [
    "# Initialize `lr`\n",
    "lr = (LinearRegression(featuresCol='features_new', labelCol=\"Price\", predictionCol='pred', \n",
    "                               maxIter=10, regParam=0.3, elasticNetParam=0.8, standardization=False))"
   ]
  },
  {
   "cell_type": "code",
   "execution_count": 260,
   "id": "60247a3a",
   "metadata": {},
   "outputs": [],
   "source": [
    "# Fit the data to the model\n",
    "linearModel = lr.fit(train)"
   ]
  },
  {
   "cell_type": "code",
   "execution_count": 261,
   "id": "866e14e8",
   "metadata": {},
   "outputs": [
    {
     "data": {
      "text/plain": [
       "DenseVector([0.2625, 14.4532, -1.151, 0.0])"
      ]
     },
     "execution_count": 261,
     "metadata": {},
     "output_type": "execute_result"
    }
   ],
   "source": [
    "# Coefficients for the model\n",
    "linearModel.coefficients"
   ]
  },
  {
   "cell_type": "code",
   "execution_count": 262,
   "id": "3aabbbd0",
   "metadata": {},
   "outputs": [
    {
     "data": {
      "text/plain": [
       "1.1347672754997922"
      ]
     },
     "execution_count": 262,
     "metadata": {},
     "output_type": "execute_result"
    }
   ],
   "source": [
    "# Intercept for the model\n",
    "linearModel.intercept"
   ]
  },
  {
   "cell_type": "code",
   "execution_count": 263,
   "id": "36350ea6",
   "metadata": {},
   "outputs": [],
   "source": [
    "# Generate predictions\n",
    "predictions = linearModel.transform(test)"
   ]
  },
  {
   "cell_type": "code",
   "execution_count": 264,
   "id": "77607396",
   "metadata": {},
   "outputs": [
    {
     "name": "stdout",
     "output_type": "stream",
     "text": [
      "+-------------------+-----+\n",
      "|               pred|Price|\n",
      "+-------------------+-----+\n",
      "| 45.993956837071345|72.69|\n",
      "|   28.5264792902446|19.49|\n",
      "| 42.460501178711525| 85.0|\n",
      "| 51.477009170648884|  0.0|\n",
      "|  44.15165522331917| 67.8|\n",
      "|  2.134810864900796|  7.5|\n",
      "|0.35939363256693224| 0.59|\n",
      "|  29.64820374848746|19.99|\n",
      "| 23.710625972113995|16.68|\n",
      "|  33.57218871446032|39.99|\n",
      "| 18.811188741685413| 20.0|\n",
      "|  2.924864867465799|  2.3|\n",
      "| 2.4400713208942104| 0.95|\n",
      "|  32.79745087562159|  0.0|\n",
      "|  39.74633822245513| 80.0|\n",
      "| 29.582520287052642| 33.0|\n",
      "| 31.853140764513036|  0.0|\n",
      "|  44.53605734025197| 59.0|\n",
      "| 5.2192446734355356| 4.99|\n",
      "|  51.68641987858546| 20.0|\n",
      "+-------------------+-----+\n",
      "only showing top 20 rows\n",
      "\n"
     ]
    }
   ],
   "source": [
    "# Extract the predictions and the \"known\" correct labels\n",
    "predn = predictions.select(\"pred\", \"Price\").show()"
   ]
  },
  {
   "cell_type": "code",
   "execution_count": 265,
   "id": "b9f5ab76",
   "metadata": {},
   "outputs": [],
   "source": [
    "test_results = linearModel.evaluate(test)"
   ]
  },
  {
   "cell_type": "code",
   "execution_count": 266,
   "id": "27912ea2",
   "metadata": {},
   "outputs": [
    {
     "name": "stdout",
     "output_type": "stream",
     "text": [
      "+--------------------+\n",
      "|           residuals|\n",
      "+--------------------+\n",
      "|  26.696043162928653|\n",
      "|    -9.0364792902446|\n",
      "|  42.539498821288475|\n",
      "| -51.477009170648884|\n",
      "|   23.64834477668083|\n",
      "|   5.365189135099204|\n",
      "| 0.23060636743306773|\n",
      "|  -9.658203748487463|\n",
      "|  -7.030625972113995|\n",
      "|   6.417811285539685|\n",
      "|   1.188811258314587|\n",
      "| -0.6248648674657993|\n",
      "| -1.4900713208942105|\n",
      "|  -32.79745087562159|\n",
      "|   40.25366177754487|\n",
      "|   3.417479712947358|\n",
      "| -31.853140764513036|\n",
      "|  14.463942659748028|\n",
      "|-0.22924467343553534|\n",
      "|  -31.68641987858546|\n",
      "+--------------------+\n",
      "only showing top 20 rows\n",
      "\n"
     ]
    }
   ],
   "source": [
    "test_results.residuals.show()"
   ]
  },
  {
   "cell_type": "code",
   "execution_count": 267,
   "id": "03a94c20",
   "metadata": {},
   "outputs": [
    {
     "name": "stdout",
     "output_type": "stream",
     "text": [
      "RMSE: 14.252562145421047\n"
     ]
    }
   ],
   "source": [
    "#We look at the errors\n",
    "print(\"RMSE: {}\".format(test_results.rootMeanSquaredError))"
   ]
  },
  {
   "cell_type": "code",
   "execution_count": 268,
   "id": "273083a5",
   "metadata": {},
   "outputs": [],
   "source": [
    "data = test.select('features_new')"
   ]
  },
  {
   "cell_type": "code",
   "execution_count": 269,
   "id": "faceecac",
   "metadata": {},
   "outputs": [],
   "source": [
    "predictions = linearModel.transform(data)"
   ]
  },
  {
   "cell_type": "code",
   "execution_count": 270,
   "id": "c9e9a175",
   "metadata": {},
   "outputs": [
    {
     "name": "stdout",
     "output_type": "stream",
     "text": [
      "+--------------------+-------------------+\n",
      "|        features_new|               pred|\n",
      "+--------------------+-------------------+\n",
      "|[0.48220321270508...| 45.993956837071345|\n",
      "|[0.09875090567734...|   28.5264792902446|\n",
      "|[0.13551788253232...| 42.460501178711525|\n",
      "|[0.16411387508427...| 51.477009170648884|\n",
      "|[0.16100615940262...|  44.15165522331917|\n",
      "|[0.11826280623678...|  2.134810864900796|\n",
      "|[0.14171679173216...|0.35939363256693224|\n",
      "|[0.14171679173216...|  29.64820374848746|\n",
      "|[0.12351375630861...| 23.710625972113995|\n",
      "|[0.26269491226863...|  33.57218871446032|\n",
      "|[0.16627776217877...| 18.811188741685413|\n",
      "|[0.13551788253232...|  2.924864867465799|\n",
      "|[0.18406206402235...| 2.4400713208942104|\n",
      "|[0.16352346589969...|  32.79745087562159|\n",
      "|[0.15313463931215...|  39.74633822245513|\n",
      "|[0.14137550579337...| 29.582520287052642|\n",
      "|[0.14137550579337...| 31.853140764513036|\n",
      "|[0.16455016346290...|  44.53605734025197|\n",
      "|[0.21126735509756...| 5.2192446734355356|\n",
      "|[0.13551788253232...|  51.68641987858546|\n",
      "+--------------------+-------------------+\n",
      "only showing top 20 rows\n",
      "\n"
     ]
    }
   ],
   "source": [
    "predictions.show()"
   ]
  },
  {
   "cell_type": "code",
   "execution_count": 271,
   "id": "fb943ece",
   "metadata": {},
   "outputs": [
    {
     "name": "stdout",
     "output_type": "stream",
     "text": [
      "RMSE: 14.252562145421047\n",
      "MSE: 203.13552770908902\n",
      "R2: 0.5247250897937524\n"
     ]
    }
   ],
   "source": [
    "#We look at the errors\n",
    "print(\"RMSE: {}\".format(test_results.rootMeanSquaredError))\n",
    "print(\"MSE: {}\".format(test_results.meanSquaredError))\n",
    "print(\"R2: {}\".format(test_results.r2))"
   ]
  },
  {
   "cell_type": "code",
   "execution_count": 272,
   "id": "cc6f2eed",
   "metadata": {},
   "outputs": [],
   "source": [
    "#Second Model"
   ]
  },
  {
   "cell_type": "code",
   "execution_count": 273,
   "id": "e1d483df",
   "metadata": {},
   "outputs": [],
   "source": [
    "from pyspark.ml import Pipeline\n",
    "from pyspark.ml.regression import GBTRegressor"
   ]
  },
  {
   "cell_type": "code",
   "execution_count": 274,
   "id": "7ef8e728",
   "metadata": {},
   "outputs": [],
   "source": [
    "#тренируем модель (градиентного регрессионого дерева бустинга)\n",
    "gbt = GBTRegressor(labelCol=\"Price\", featuresCol=\"features_new\", maxIter=10)"
   ]
  },
  {
   "cell_type": "code",
   "execution_count": 275,
   "id": "29482341",
   "metadata": {},
   "outputs": [
    {
     "name": "stdout",
     "output_type": "stream",
     "text": [
      "+---+----------+----+--------+-----+-----+-----------------+--------------------+--------------------+\n",
      "|_c0|N_elements|Rank|   Score|Items|Price|  close_price_eth|            features|        features_new|\n",
      "+---+----------+----+--------+-----+-----+-----------------+--------------------+--------------------+\n",
      "|  5|       618|4632| 62.3671|    2|24.99| 1626.57568359375|[62.3671,1626.575...|[0.16100615940262...|\n",
      "|  8|      1186|6436|  54.763|    2| 48.0|3013.732666015625|[54.763,3013.7326...|[0.14137550579337...|\n",
      "| 10|      1316|7545| 50.9701|    2|14.66| 1935.60107421875|[50.9701,1935.601...|[0.13158380051930...|\n",
      "| 11|      1316|7545| 50.9701|    2| 10.5| 1935.60107421875|[50.9701,1935.601...|[0.13158380051930...|\n",
      "| 12|      1316|7545| 50.9701|    2|34.45|2724.619873046875|[50.9701,2724.619...|[0.13158380051930...|\n",
      "| 15|      1633|9464|  38.252|    2| 67.8| 3319.25732421875|[38.252,3319.2573...|[0.09875090567734...|\n",
      "| 20|      1711| 451|186.7855|    2|44.99|2827.328857421875|[186.7855,2827.32...|[0.48220321270508...|\n",
      "| 23|      2036|9464|  38.252|    2|17.99|  3785.8486328125|[38.252,3785.8486...|[0.09875090567734...|\n",
      "| 25|      2036|9464|  38.252|    2| 5.55|359.9378662109375|[38.252,359.93786...|[0.09875090567734...|\n",
      "| 26|      2036|9464|  38.252|    2|  5.0|359.9378662109375|[38.252,359.93786...|[0.09875090567734...|\n",
      "| 28|      2572|7072|  52.494|    2|47.99|2139.353271484375|[52.494,2139.3532...|[0.13551788253232...|\n",
      "| 29|      2572|7072|  52.494|    2|36.69| 1716.49462890625|[52.494,1716.4946...|[0.13551788253232...|\n",
      "| 30|      2572|7072|  52.494|    2|41.99|    2403.53515625|[52.494,2403.5351...|[0.13551788253232...|\n",
      "| 31|      2572|7072|  52.494|    2| 48.0|1541.914306640625|[52.494,1541.9143...|[0.13551788253232...|\n",
      "| 32|      2572|7072|  52.494|    2| 44.9| 2321.72412109375|[52.494,2321.7241...|[0.13551788253232...|\n",
      "| 34|      2733|3503| 65.4884|    2|15.55| 1935.60107421875|[65.4884,1935.601...|[0.16906407014953...|\n",
      "| 35|      2733|3503| 65.4884|    2|  2.3|349.3555908203125|[65.4884,349.3555...|[0.16906407014953...|\n",
      "| 36|      2733|3503| 65.4884|    2| 2.65|352.1832580566406|[65.4884,352.1832...|[0.16906407014953...|\n",
      "| 37|      2733|3503| 65.4884|    2|  0.0| 3615.28271484375|[65.4884,3615.282...|[0.16906407014953...|\n",
      "| 39|      2980| 616|152.3167|    2| 30.0|1788.217041015625|[152.3167,1788.21...|[0.39321897089782...|\n",
      "+---+----------+----+--------+-----+-----+-----------------+--------------------+--------------------+\n",
      "only showing top 20 rows\n",
      "\n"
     ]
    }
   ],
   "source": [
    "train.show()"
   ]
  },
  {
   "cell_type": "code",
   "execution_count": 276,
   "id": "929ae66d",
   "metadata": {},
   "outputs": [],
   "source": [
    "# Chain indexer and tree in a Pipeline\n",
    "pipeline = Pipeline(stages=[gbt])\n",
    "model = pipeline.fit(train)"
   ]
  },
  {
   "cell_type": "code",
   "execution_count": 277,
   "id": "2e92bfdd",
   "metadata": {},
   "outputs": [],
   "source": [
    "# делаем предсказания на тестовой выборке\n",
    "predictions = model.transform(test)"
   ]
  },
  {
   "cell_type": "code",
   "execution_count": 278,
   "id": "4a667b2e",
   "metadata": {},
   "outputs": [
    {
     "name": "stdout",
     "output_type": "stream",
     "text": [
      "+--------------------+-----+------------------+\n",
      "|        features_new|Price|        prediction|\n",
      "+--------------------+-----+------------------+\n",
      "|[0.48220321270508...|72.69| 59.94731437448423|\n",
      "|[0.09875090567734...|19.49| 25.13716358308544|\n",
      "|[0.13551788253232...| 85.0| 60.87107290868313|\n",
      "|[0.16411387508427...|  0.0|24.540627568311578|\n",
      "|[0.16100615940262...| 67.8| 63.16069178322286|\n",
      "+--------------------+-----+------------------+\n",
      "only showing top 5 rows\n",
      "\n"
     ]
    }
   ],
   "source": [
    "# Select example rows to display.\n",
    "predictions.select(\"features_new\",\"Price\", \"prediction\").show(5)"
   ]
  },
  {
   "cell_type": "code",
   "execution_count": 279,
   "id": "b3e6e476",
   "metadata": {},
   "outputs": [
    {
     "name": "stdout",
     "output_type": "stream",
     "text": [
      "Root Mean Squared Error (RMSE) on test data = 12.5857\n"
     ]
    }
   ],
   "source": [
    "# Select (prediction, true label) and compute test error\n",
    "evaluator = RegressionEvaluator(\n",
    "    labelCol=\"Price\", predictionCol=\"prediction\", metricName=\"rmse\")\n",
    "rmse = evaluator.evaluate(predictions)\n",
    "print(\"Root Mean Squared Error (RMSE) on test data = %g\" % rmse)\n"
   ]
  },
  {
   "cell_type": "code",
   "execution_count": 280,
   "id": "f1a27b0f",
   "metadata": {},
   "outputs": [
    {
     "name": "stdout",
     "output_type": "stream",
     "text": [
      "Root Mean Squared Error (R2) on test data = 0.629395\n"
     ]
    }
   ],
   "source": [
    "# Select (prediction, true label) and compute test error\n",
    "evaluator = RegressionEvaluator(\n",
    "    labelCol=\"Price\", predictionCol=\"prediction\", metricName=\"r2\")\n",
    "r2 = evaluator.evaluate(predictions)\n",
    "print(\"Root Mean Squared Error (R2) on test data = %g\" % r2)"
   ]
  },
  {
   "cell_type": "code",
   "execution_count": 281,
   "id": "0123edb1",
   "metadata": {},
   "outputs": [],
   "source": [
    "#Third model"
   ]
  },
  {
   "cell_type": "code",
   "execution_count": 282,
   "id": "1137c287",
   "metadata": {},
   "outputs": [],
   "source": [
    "# Random Forest Regressor\n",
    "from pyspark.ml.regression import RandomForestRegressor\n",
    "\n",
    "# Define Random Forest Regressor algorithm\n",
    "rf = RandomForestRegressor(labelCol=\"Price\", featuresCol=\"features_new\",numTrees=2, maxDepth=2, seed=42) # featuresCol=\"indexedFeatures\",numTrees=2, maxDepth=2, seed=42"
   ]
  },
  {
   "cell_type": "code",
   "execution_count": 283,
   "id": "268f46c4",
   "metadata": {},
   "outputs": [],
   "source": [
    "# Chain indexer and tree in a Pipeline\n",
    "pipeline = Pipeline(stages=[rf])\n",
    "model = pipeline.fit(train)"
   ]
  },
  {
   "cell_type": "code",
   "execution_count": 284,
   "id": "a49f0271",
   "metadata": {},
   "outputs": [],
   "source": [
    "# делаем предсказания на тестовой выборке\n",
    "predictions = model.transform(test)"
   ]
  },
  {
   "cell_type": "code",
   "execution_count": 285,
   "id": "ec059fc4",
   "metadata": {},
   "outputs": [
    {
     "name": "stdout",
     "output_type": "stream",
     "text": [
      "+--------------------+-----+------------------+\n",
      "|        features_new|Price|        prediction|\n",
      "+--------------------+-----+------------------+\n",
      "|[0.48220321270508...|72.69|35.331252106354555|\n",
      "|[0.09875090567734...|19.49|26.188239104393766|\n",
      "|[0.13551788253232...| 85.0| 36.53444372562565|\n",
      "|[0.16411387508427...|  0.0|  32.7486004971095|\n",
      "|[0.16100615940262...| 67.8|  32.7486004971095|\n",
      "+--------------------+-----+------------------+\n",
      "only showing top 5 rows\n",
      "\n"
     ]
    }
   ],
   "source": [
    "# Select example rows to display.\n",
    "predictions.select(\"features_new\",\"Price\", \"prediction\").show(5)"
   ]
  },
  {
   "cell_type": "code",
   "execution_count": 286,
   "id": "e3def798",
   "metadata": {},
   "outputs": [
    {
     "name": "stdout",
     "output_type": "stream",
     "text": [
      "Root Mean Squared Error (RMSE) on test data = 15.04\n"
     ]
    }
   ],
   "source": [
    "# Select (prediction, true label) and compute test error\n",
    "evaluator = RegressionEvaluator(\n",
    "    labelCol=\"Price\", predictionCol=\"prediction\", metricName=\"rmse\")\n",
    "rmse = evaluator.evaluate(predictions)\n",
    "print(\"Root Mean Squared Error (RMSE) on test data = %g\" % rmse)\n"
   ]
  },
  {
   "cell_type": "code",
   "execution_count": 287,
   "id": "afb7dae7",
   "metadata": {},
   "outputs": [
    {
     "name": "stdout",
     "output_type": "stream",
     "text": [
      "Root Mean Squared Error (R2) on test data = 0.470755\n"
     ]
    }
   ],
   "source": [
    "# Select (prediction, true label) and compute test error\n",
    "evaluator = RegressionEvaluator(\n",
    "    labelCol=\"Price\", predictionCol=\"prediction\", metricName=\"r2\")\n",
    "r2 = evaluator.evaluate(predictions)\n",
    "print(\"Root Mean Squared Error (R2) on test data = %g\" % r2)"
   ]
  }
 ],
 "metadata": {
  "kernelspec": {
   "display_name": "Python 3 (ipykernel)",
   "language": "python",
   "name": "python3"
  },
  "language_info": {
   "codemirror_mode": {
    "name": "ipython",
    "version": 3
   },
   "file_extension": ".py",
   "mimetype": "text/x-python",
   "name": "python",
   "nbconvert_exporter": "python",
   "pygments_lexer": "ipython3",
   "version": "3.8.8"
  }
 },
 "nbformat": 4,
 "nbformat_minor": 5
}

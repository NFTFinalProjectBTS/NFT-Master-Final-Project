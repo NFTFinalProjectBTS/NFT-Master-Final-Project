{
 "cells": [
  {
   "cell_type": "code",
   "execution_count": null,
   "metadata": {},
   "outputs": [],
   "source": [
    "import numpy as np\n",
    "import pandas as pd\n",
    "from opensea import OpenseaAPI\n",
    "import requests\n",
    "from opensea import utils as opensea_utils\n",
    "import json\n",
    "import time\n",
    "import datetime\n",
    "import os\n",
    "import csv"
   ]
  },
  {
   "cell_type": "code",
   "execution_count": null,
   "metadata": {},
   "outputs": [],
   "source": [
    "# Read secret API file to retrieve the key and create an object to interact with the Opensea API\n",
    "Key = pd.read_csv('NiFTy1API.csv')\n",
    "OPENSEA_APIKEY = Key\n",
    "api = OpenseaAPI(apikey = OPENSEA_APIKEY)"
   ]
  },
  {
   "cell_type": "code",
   "execution_count": null,
   "metadata": {},
   "outputs": [],
   "source": [
    "#do not use yet!\n",
    "dfCollections = pd.read_csv('CollectionSmartContractAddress.csv') #csv and Smart Contract list in progress\n",
    "dfCollections"
   ]
  },
  {
   "cell_type": "markdown",
   "metadata": {},
   "source": [
    "### Real Time Price Feed of listed NFT Assets (Loop)"
   ]
  },
  {
   "cell_type": "code",
   "execution_count": null,
   "metadata": {},
   "outputs": [],
   "source": [
    "#set Collection and smart_contract_address\n",
    "Collection = 'Doodles'\n",
    "smart_contract_address = '0x8a90CAb2b38dba80c64b7734e58Ee1dB38B8992e'"
   ]
  },
  {
   "cell_type": "code",
   "execution_count": null,
   "metadata": {},
   "outputs": [],
   "source": [
    "#start loop to retrieve the listed price\n",
    "ListingPrice = []\n",
    "RangeList = [i for i in range (9999)] #if i != 318 for example if single NFTs are not included on OpenSea\n",
    "\n",
    "#connect to the API and create loop\n",
    "for i in RangeList:\n",
    "    import requests\n",
    "    url = f\"https://api.opensea.io/api/v1/asset/{smart_contract_address}/{i}/listings?limit=1\"\n",
    "    headers = {\n",
    "    \"Accept\": \"application/json\",\n",
    "    \"X-API-KEY\": \"b0d7b9800c4f44eba6c983d37a5b74d0\"\n",
    "    }\n",
    "\n",
    "    response = requests.get(url, headers=headers)\n",
    "\n",
    "    if response.text != '{\"listings\":[]}' and '{\"message\":\"failure to get a peer from the ring-balancer\"}':\n",
    "        currenttextprice = json.loads(response.text)['listings'][0]['current_price']\n",
    "        #text price has to be cleaned by '10**18'\n",
    "        currentprice = float(currenttextprice)/10**18\n",
    "        ListedCoin = json.loads(response.text)['listings'][0]['payment_token_contract']['symbol']\n",
    "        \n",
    "        \n",
    "    #during the Loop print ID and Price of the retrieved listed Data - helps to check if it fails to check\n",
    "        print(json.loads(response.text)['listings'][0]['metadata']['asset']['id']), print('Price', currentprice, ListedCoin)\n",
    "        \n",
    "        time.sleep(0.001)\n",
    "    \n",
    "        ListingPrice.append((i,currentprice, ListedCoin))\n",
    "        \n",
    "    #create DataFrame        \n",
    "df = pd.DataFrame(ListingPrice, columns = ['ID', 'Price', 'Symbol']).set_index('ID')\n",
    "df.to_csv(f'{Collection} Price.csv')"
   ]
  },
  {
   "cell_type": "code",
   "execution_count": null,
   "metadata": {},
   "outputs": [],
   "source": [
    "df"
   ]
  },
  {
   "cell_type": "markdown",
   "metadata": {},
   "source": [
    "### Real Time Price Feed of listed NFT Assets (Function)"
   ]
  },
  {
   "cell_type": "code",
   "execution_count": null,
   "metadata": {},
   "outputs": [],
   "source": [
    "#start loop to retrieve the listed price\n",
    "def PriceList(CollectionSlug, smart_contract_address):\n",
    "\n",
    "    ListingPrice = []\n",
    "    RangeList = [i for i in range (20)] #if i != 318 for example if single NFTs are not included on OpenSea\n",
    "\n",
    "#connect to the API and create loop\n",
    "    for i in RangeList:\n",
    "        import requests\n",
    "        url = f\"https://api.opensea.io/api/v1/asset/{smart_contract_address}/{i}/listings?limit=1\"\n",
    "        headers = {\n",
    "        \"Accept\": \"application/json\",\n",
    "        \"X-API-KEY\": \"b0d7b9800c4f44eba6c983d37a5b74d0\"\n",
    "        }\n",
    "\n",
    "        response = requests.get(url, headers=headers)\n",
    "\n",
    "        if response.text != '{\"listings\":[]}' and '{\"message\":\"failure to get a peer from the ring-balancer\"}':\n",
    "            currenttextprice = json.loads(response.text)['listings'][0]['current_price']\n",
    "            #text price has to be cleaned by '10**18'\n",
    "            currentprice = float(currenttextprice)/10**18\n",
    "            ListedCoin = json.loads(response.text)['listings'][0]['payment_token_contract']['symbol']\n",
    "        \n",
    "        \n",
    "        #during the Loop print ID and Price of the retrieved listed Data - helps to check if it fails to check\n",
    "            print(json.loads(response.text)['listings'][0]['metadata']['asset']['id']), print('Price', currentprice, ListedCoin)\n",
    "        \n",
    "            time.sleep(0.001)\n",
    "    \n",
    "            ListingPrice.append((i,currentprice, ListedCoin))\n",
    "        \n",
    "    #create DataFrame        \n",
    "            df = pd.DataFrame(ListingPrice, columns = ['ID', 'Price', 'Symbol']).set_index('ID')\n",
    "    return  df.to_csv(f'{CollectionSlug} Price.csv')"
   ]
  },
  {
   "cell_type": "code",
   "execution_count": null,
   "metadata": {},
   "outputs": [],
   "source": [
    "#CollectionSlug, smart_contract_address\n",
    "PriceList('Doodles','0x8a90CAb2b38dba80c64b7734e58Ee1dB38B8992e')"
   ]
  }
 ],
 "metadata": {
  "kernelspec": {
   "display_name": "Python 3",
   "language": "python",
   "name": "python3"
  },
  "language_info": {
   "codemirror_mode": {
    "name": "ipython",
    "version": 3
   },
   "file_extension": ".py",
   "mimetype": "text/x-python",
   "name": "python",
   "nbconvert_exporter": "python",
   "pygments_lexer": "ipython3",
   "version": "3.8.5"
  }
 },
 "nbformat": 4,
 "nbformat_minor": 4
}

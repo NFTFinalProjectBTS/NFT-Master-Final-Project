{
 "cells": [
  {
   "cell_type": "code",
   "execution_count": 1,
   "id": "54e16077",
   "metadata": {},
   "outputs": [],
   "source": [
    "# We use dataset from kaggle https://www.kaggle.com/tunguz/cryptopunks\n",
    "# Using a file with ranks\n",
    "import matplotlib.pyplot as plt\n",
    "import numpy as np \n",
    "import pandas as pd \n",
    "import seaborn as sns\n",
    "import plotly.express as px"
   ]
  },
  {
   "cell_type": "code",
   "execution_count": 2,
   "id": "1a70894a",
   "metadata": {},
   "outputs": [],
   "source": [
    "#Uploading the file with cryptopunks\n",
    "df = pd.read_json(\"txn_history-2021-10-07.jsonl\", lines=True)"
   ]
  },
  {
   "cell_type": "code",
   "execution_count": 3,
   "id": "655e720a",
   "metadata": {},
   "outputs": [
    {
     "name": "stdout",
     "output_type": "stream",
     "text": [
      "<class 'pandas.core.frame.DataFrame'>\n",
      "RangeIndex: 167492 entries, 0 to 167491\n",
      "Data columns (total 12 columns):\n",
      " #   Column               Non-Null Count   Dtype         \n",
      "---  ------               --------------   -----         \n",
      " 0   txn_type             167492 non-null  object        \n",
      " 1   from                 167492 non-null  object        \n",
      " 2   to                   167492 non-null  object        \n",
      " 3   date                 167492 non-null  datetime64[ns]\n",
      " 4   timestamp            167492 non-null  datetime64[ns]\n",
      " 5   source               167492 non-null  object        \n",
      " 6   eth                  127542 non-null  float64       \n",
      " 7   punk_id              167492 non-null  int64         \n",
      " 8   from_wallet_address  419 non-null     object        \n",
      " 9   to_wallet_address    419 non-null     object        \n",
      " 10  type                 167492 non-null  object        \n",
      " 11  accessories          167492 non-null  object        \n",
      "dtypes: datetime64[ns](2), float64(1), int64(1), object(8)\n",
      "memory usage: 15.3+ MB\n"
     ]
    }
   ],
   "source": [
    "df.info()"
   ]
  },
  {
   "cell_type": "code",
   "execution_count": 4,
   "id": "7514dfa3",
   "metadata": {},
   "outputs": [],
   "source": [
    "#Uploading the file with ranks\n",
    "rank = pd.read_csv(\"cryptopunks.csv\", sep = ',')"
   ]
  },
  {
   "cell_type": "code",
   "execution_count": 5,
   "id": "302f3835",
   "metadata": {},
   "outputs": [
    {
     "name": "stdout",
     "output_type": "stream",
     "text": [
      "<class 'pandas.core.frame.DataFrame'>\n",
      "RangeIndex: 10000 entries, 0 to 9999\n",
      "Data columns (total 3 columns):\n",
      " #   Column      Non-Null Count  Dtype \n",
      "---  ------      --------------  ----- \n",
      " 0   Unnamed: 0  10000 non-null  int64 \n",
      " 1   0           10000 non-null  object\n",
      " 2   1           10000 non-null  int64 \n",
      "dtypes: int64(2), object(1)\n",
      "memory usage: 234.5+ KB\n"
     ]
    }
   ],
   "source": [
    "rank.info()"
   ]
  },
  {
   "cell_type": "code",
   "execution_count": 6,
   "id": "f38a547a",
   "metadata": {},
   "outputs": [
    {
     "data": {
      "text/plain": [
       "0          0\n",
       "1          1\n",
       "2          2\n",
       "3          3\n",
       "4          4\n",
       "        ... \n",
       "9995    9995\n",
       "9996    9996\n",
       "9997    9997\n",
       "9998    9998\n",
       "9999    9999\n",
       "Name: Unnamed: 0, Length: 10000, dtype: int64"
      ]
     },
     "execution_count": 6,
     "metadata": {},
     "output_type": "execute_result"
    }
   ],
   "source": [
    "#Removing an extra column\n",
    "rank.pop('Unnamed: 0')"
   ]
  },
  {
   "cell_type": "code",
   "execution_count": 7,
   "id": "a69d437c",
   "metadata": {},
   "outputs": [],
   "source": [
    "# Renaming a column\n",
    "rank.rename(columns = {'0' : 'punk_id', '1' : 'Rank'}, inplace = True) "
   ]
  },
  {
   "cell_type": "code",
   "execution_count": 8,
   "id": "be2d7114",
   "metadata": {},
   "outputs": [],
   "source": [
    "# Remove the name Cryptopunks # from the column\n",
    "rank['punk_id'].replace(regex=True,inplace=True,to_replace=r'\\D',value=r'')"
   ]
  },
  {
   "cell_type": "code",
   "execution_count": 9,
   "id": "e3414613",
   "metadata": {},
   "outputs": [],
   "source": [
    "# Change column format to int\n",
    "rank['punk_id'] = rank['punk_id'].astype(int)"
   ]
  },
  {
   "cell_type": "code",
   "execution_count": 10,
   "id": "093e9ea0",
   "metadata": {},
   "outputs": [
    {
     "name": "stdout",
     "output_type": "stream",
     "text": [
      "<class 'pandas.core.frame.DataFrame'>\n",
      "RangeIndex: 10000 entries, 0 to 9999\n",
      "Data columns (total 2 columns):\n",
      " #   Column   Non-Null Count  Dtype\n",
      "---  ------   --------------  -----\n",
      " 0   punk_id  10000 non-null  int32\n",
      " 1   Rank     10000 non-null  int64\n",
      "dtypes: int32(1), int64(1)\n",
      "memory usage: 117.3 KB\n"
     ]
    }
   ],
   "source": [
    "rank.info()"
   ]
  },
  {
   "cell_type": "code",
   "execution_count": 19,
   "id": "85177125",
   "metadata": {},
   "outputs": [],
   "source": [
    "#Change column to date\n",
    "df['date'] = pd.to_datetime(df.date)"
   ]
  },
  {
   "cell_type": "code",
   "execution_count": 20,
   "id": "b5c18164",
   "metadata": {},
   "outputs": [],
   "source": [
    "df = df[[\"txn_type\", \"date\", \"eth\", \"punk_id\", \"type\", \"accessories\"]]"
   ]
  },
  {
   "cell_type": "code",
   "execution_count": 21,
   "id": "f6187a02",
   "metadata": {},
   "outputs": [
    {
     "data": {
      "text/html": [
       "<div>\n",
       "<style scoped>\n",
       "    .dataframe tbody tr th:only-of-type {\n",
       "        vertical-align: middle;\n",
       "    }\n",
       "\n",
       "    .dataframe tbody tr th {\n",
       "        vertical-align: top;\n",
       "    }\n",
       "\n",
       "    .dataframe thead th {\n",
       "        text-align: right;\n",
       "    }\n",
       "</style>\n",
       "<table border=\"1\" class=\"dataframe\">\n",
       "  <thead>\n",
       "    <tr style=\"text-align: right;\">\n",
       "      <th></th>\n",
       "      <th>txn_type</th>\n",
       "      <th>date</th>\n",
       "      <th>eth</th>\n",
       "      <th>punk_id</th>\n",
       "      <th>type</th>\n",
       "      <th>accessories</th>\n",
       "    </tr>\n",
       "  </thead>\n",
       "  <tbody>\n",
       "    <tr>\n",
       "      <th>0</th>\n",
       "      <td>Bid Withdrawn</td>\n",
       "      <td>2021-09-04</td>\n",
       "      <td>321.0</td>\n",
       "      <td>0</td>\n",
       "      <td>Female</td>\n",
       "      <td>[Green Eye Shadow, Earring, Blonde Bob]</td>\n",
       "    </tr>\n",
       "    <tr>\n",
       "      <th>1</th>\n",
       "      <td>Bid</td>\n",
       "      <td>2021-09-01</td>\n",
       "      <td>321.0</td>\n",
       "      <td>0</td>\n",
       "      <td>Female</td>\n",
       "      <td>[Green Eye Shadow, Earring, Blonde Bob]</td>\n",
       "    </tr>\n",
       "    <tr>\n",
       "      <th>2</th>\n",
       "      <td>Bid Withdrawn</td>\n",
       "      <td>2021-09-01</td>\n",
       "      <td>320.0</td>\n",
       "      <td>0</td>\n",
       "      <td>Female</td>\n",
       "      <td>[Green Eye Shadow, Earring, Blonde Bob]</td>\n",
       "    </tr>\n",
       "    <tr>\n",
       "      <th>3</th>\n",
       "      <td>Bid</td>\n",
       "      <td>2021-09-01</td>\n",
       "      <td>320.0</td>\n",
       "      <td>0</td>\n",
       "      <td>Female</td>\n",
       "      <td>[Green Eye Shadow, Earring, Blonde Bob]</td>\n",
       "    </tr>\n",
       "    <tr>\n",
       "      <th>4</th>\n",
       "      <td>Bid Withdrawn</td>\n",
       "      <td>2021-09-01</td>\n",
       "      <td>263.0</td>\n",
       "      <td>0</td>\n",
       "      <td>Female</td>\n",
       "      <td>[Green Eye Shadow, Earring, Blonde Bob]</td>\n",
       "    </tr>\n",
       "  </tbody>\n",
       "</table>\n",
       "</div>"
      ],
      "text/plain": [
       "        txn_type       date    eth  punk_id    type  \\\n",
       "0  Bid Withdrawn 2021-09-04  321.0        0  Female   \n",
       "1            Bid 2021-09-01  321.0        0  Female   \n",
       "2  Bid Withdrawn 2021-09-01  320.0        0  Female   \n",
       "3            Bid 2021-09-01  320.0        0  Female   \n",
       "4  Bid Withdrawn 2021-09-01  263.0        0  Female   \n",
       "\n",
       "                               accessories  \n",
       "0  [Green Eye Shadow, Earring, Blonde Bob]  \n",
       "1  [Green Eye Shadow, Earring, Blonde Bob]  \n",
       "2  [Green Eye Shadow, Earring, Blonde Bob]  \n",
       "3  [Green Eye Shadow, Earring, Blonde Bob]  \n",
       "4  [Green Eye Shadow, Earring, Blonde Bob]  "
      ]
     },
     "execution_count": 21,
     "metadata": {},
     "output_type": "execute_result"
    }
   ],
   "source": [
    "df = df.explode(\"type\")\n",
    "df.head()"
   ]
  },
  {
   "cell_type": "code",
   "execution_count": 22,
   "id": "1dcce544",
   "metadata": {},
   "outputs": [],
   "source": [
    "# Merge two frames\n",
    "punks = df.merge(rank, how = 'inner', on = 'punk_id' )"
   ]
  },
  {
   "cell_type": "code",
   "execution_count": 152,
   "id": "bb4cb858",
   "metadata": {},
   "outputs": [
    {
     "data": {
      "application/vnd.plotly.v1+json": {
       "config": {
        "plotlyServerURL": "https://plot.ly"
       },
       "data": [
        {
         "alignmentgroup": "True",
         "hovertemplate": "type=%{x}<br>counts=%{y}<extra></extra>",
         "legendgroup": "Male",
         "marker": {
          "color": "#636efa",
          "pattern": {
           "shape": ""
          }
         },
         "name": "Male",
         "offsetgroup": "Male",
         "orientation": "v",
         "showlegend": true,
         "textposition": "auto",
         "type": "bar",
         "x": [
          "Male"
         ],
         "xaxis": "x",
         "y": [
          6039
         ],
         "yaxis": "y"
        },
        {
         "alignmentgroup": "True",
         "hovertemplate": "type=%{x}<br>counts=%{y}<extra></extra>",
         "legendgroup": "Female",
         "marker": {
          "color": "#EF553B",
          "pattern": {
           "shape": ""
          }
         },
         "name": "Female",
         "offsetgroup": "Female",
         "orientation": "v",
         "showlegend": true,
         "textposition": "auto",
         "type": "bar",
         "x": [
          "Female"
         ],
         "xaxis": "x",
         "y": [
          3840
         ],
         "yaxis": "y"
        },
        {
         "alignmentgroup": "True",
         "hovertemplate": "type=%{x}<br>counts=%{y}<extra></extra>",
         "legendgroup": "Zombie",
         "marker": {
          "color": "#00cc96",
          "pattern": {
           "shape": ""
          }
         },
         "name": "Zombie",
         "offsetgroup": "Zombie",
         "orientation": "v",
         "showlegend": true,
         "textposition": "auto",
         "type": "bar",
         "x": [
          "Zombie"
         ],
         "xaxis": "x",
         "y": [
          88
         ],
         "yaxis": "y"
        },
        {
         "alignmentgroup": "True",
         "hovertemplate": "type=%{x}<br>counts=%{y}<extra></extra>",
         "legendgroup": "Ape",
         "marker": {
          "color": "#ab63fa",
          "pattern": {
           "shape": ""
          }
         },
         "name": "Ape",
         "offsetgroup": "Ape",
         "orientation": "v",
         "showlegend": true,
         "textposition": "auto",
         "type": "bar",
         "x": [
          "Ape"
         ],
         "xaxis": "x",
         "y": [
          24
         ],
         "yaxis": "y"
        },
        {
         "alignmentgroup": "True",
         "hovertemplate": "type=%{x}<br>counts=%{y}<extra></extra>",
         "legendgroup": "Alien",
         "marker": {
          "color": "#FFA15A",
          "pattern": {
           "shape": ""
          }
         },
         "name": "Alien",
         "offsetgroup": "Alien",
         "orientation": "v",
         "showlegend": true,
         "textposition": "auto",
         "type": "bar",
         "x": [
          "Alien"
         ],
         "xaxis": "x",
         "y": [
          9
         ],
         "yaxis": "y"
        }
       ],
       "layout": {
        "barmode": "relative",
        "legend": {
         "title": {
          "text": "type"
         },
         "tracegroupgap": 0
        },
        "template": {
         "data": {
          "bar": [
           {
            "error_x": {
             "color": "#2a3f5f"
            },
            "error_y": {
             "color": "#2a3f5f"
            },
            "marker": {
             "line": {
              "color": "#E5ECF6",
              "width": 0.5
             },
             "pattern": {
              "fillmode": "overlay",
              "size": 10,
              "solidity": 0.2
             }
            },
            "type": "bar"
           }
          ],
          "barpolar": [
           {
            "marker": {
             "line": {
              "color": "#E5ECF6",
              "width": 0.5
             },
             "pattern": {
              "fillmode": "overlay",
              "size": 10,
              "solidity": 0.2
             }
            },
            "type": "barpolar"
           }
          ],
          "carpet": [
           {
            "aaxis": {
             "endlinecolor": "#2a3f5f",
             "gridcolor": "white",
             "linecolor": "white",
             "minorgridcolor": "white",
             "startlinecolor": "#2a3f5f"
            },
            "baxis": {
             "endlinecolor": "#2a3f5f",
             "gridcolor": "white",
             "linecolor": "white",
             "minorgridcolor": "white",
             "startlinecolor": "#2a3f5f"
            },
            "type": "carpet"
           }
          ],
          "choropleth": [
           {
            "colorbar": {
             "outlinewidth": 0,
             "ticks": ""
            },
            "type": "choropleth"
           }
          ],
          "contour": [
           {
            "colorbar": {
             "outlinewidth": 0,
             "ticks": ""
            },
            "colorscale": [
             [
              0,
              "#0d0887"
             ],
             [
              0.1111111111111111,
              "#46039f"
             ],
             [
              0.2222222222222222,
              "#7201a8"
             ],
             [
              0.3333333333333333,
              "#9c179e"
             ],
             [
              0.4444444444444444,
              "#bd3786"
             ],
             [
              0.5555555555555556,
              "#d8576b"
             ],
             [
              0.6666666666666666,
              "#ed7953"
             ],
             [
              0.7777777777777778,
              "#fb9f3a"
             ],
             [
              0.8888888888888888,
              "#fdca26"
             ],
             [
              1,
              "#f0f921"
             ]
            ],
            "type": "contour"
           }
          ],
          "contourcarpet": [
           {
            "colorbar": {
             "outlinewidth": 0,
             "ticks": ""
            },
            "type": "contourcarpet"
           }
          ],
          "heatmap": [
           {
            "colorbar": {
             "outlinewidth": 0,
             "ticks": ""
            },
            "colorscale": [
             [
              0,
              "#0d0887"
             ],
             [
              0.1111111111111111,
              "#46039f"
             ],
             [
              0.2222222222222222,
              "#7201a8"
             ],
             [
              0.3333333333333333,
              "#9c179e"
             ],
             [
              0.4444444444444444,
              "#bd3786"
             ],
             [
              0.5555555555555556,
              "#d8576b"
             ],
             [
              0.6666666666666666,
              "#ed7953"
             ],
             [
              0.7777777777777778,
              "#fb9f3a"
             ],
             [
              0.8888888888888888,
              "#fdca26"
             ],
             [
              1,
              "#f0f921"
             ]
            ],
            "type": "heatmap"
           }
          ],
          "heatmapgl": [
           {
            "colorbar": {
             "outlinewidth": 0,
             "ticks": ""
            },
            "colorscale": [
             [
              0,
              "#0d0887"
             ],
             [
              0.1111111111111111,
              "#46039f"
             ],
             [
              0.2222222222222222,
              "#7201a8"
             ],
             [
              0.3333333333333333,
              "#9c179e"
             ],
             [
              0.4444444444444444,
              "#bd3786"
             ],
             [
              0.5555555555555556,
              "#d8576b"
             ],
             [
              0.6666666666666666,
              "#ed7953"
             ],
             [
              0.7777777777777778,
              "#fb9f3a"
             ],
             [
              0.8888888888888888,
              "#fdca26"
             ],
             [
              1,
              "#f0f921"
             ]
            ],
            "type": "heatmapgl"
           }
          ],
          "histogram": [
           {
            "marker": {
             "pattern": {
              "fillmode": "overlay",
              "size": 10,
              "solidity": 0.2
             }
            },
            "type": "histogram"
           }
          ],
          "histogram2d": [
           {
            "colorbar": {
             "outlinewidth": 0,
             "ticks": ""
            },
            "colorscale": [
             [
              0,
              "#0d0887"
             ],
             [
              0.1111111111111111,
              "#46039f"
             ],
             [
              0.2222222222222222,
              "#7201a8"
             ],
             [
              0.3333333333333333,
              "#9c179e"
             ],
             [
              0.4444444444444444,
              "#bd3786"
             ],
             [
              0.5555555555555556,
              "#d8576b"
             ],
             [
              0.6666666666666666,
              "#ed7953"
             ],
             [
              0.7777777777777778,
              "#fb9f3a"
             ],
             [
              0.8888888888888888,
              "#fdca26"
             ],
             [
              1,
              "#f0f921"
             ]
            ],
            "type": "histogram2d"
           }
          ],
          "histogram2dcontour": [
           {
            "colorbar": {
             "outlinewidth": 0,
             "ticks": ""
            },
            "colorscale": [
             [
              0,
              "#0d0887"
             ],
             [
              0.1111111111111111,
              "#46039f"
             ],
             [
              0.2222222222222222,
              "#7201a8"
             ],
             [
              0.3333333333333333,
              "#9c179e"
             ],
             [
              0.4444444444444444,
              "#bd3786"
             ],
             [
              0.5555555555555556,
              "#d8576b"
             ],
             [
              0.6666666666666666,
              "#ed7953"
             ],
             [
              0.7777777777777778,
              "#fb9f3a"
             ],
             [
              0.8888888888888888,
              "#fdca26"
             ],
             [
              1,
              "#f0f921"
             ]
            ],
            "type": "histogram2dcontour"
           }
          ],
          "mesh3d": [
           {
            "colorbar": {
             "outlinewidth": 0,
             "ticks": ""
            },
            "type": "mesh3d"
           }
          ],
          "parcoords": [
           {
            "line": {
             "colorbar": {
              "outlinewidth": 0,
              "ticks": ""
             }
            },
            "type": "parcoords"
           }
          ],
          "pie": [
           {
            "automargin": true,
            "type": "pie"
           }
          ],
          "scatter": [
           {
            "marker": {
             "colorbar": {
              "outlinewidth": 0,
              "ticks": ""
             }
            },
            "type": "scatter"
           }
          ],
          "scatter3d": [
           {
            "line": {
             "colorbar": {
              "outlinewidth": 0,
              "ticks": ""
             }
            },
            "marker": {
             "colorbar": {
              "outlinewidth": 0,
              "ticks": ""
             }
            },
            "type": "scatter3d"
           }
          ],
          "scattercarpet": [
           {
            "marker": {
             "colorbar": {
              "outlinewidth": 0,
              "ticks": ""
             }
            },
            "type": "scattercarpet"
           }
          ],
          "scattergeo": [
           {
            "marker": {
             "colorbar": {
              "outlinewidth": 0,
              "ticks": ""
             }
            },
            "type": "scattergeo"
           }
          ],
          "scattergl": [
           {
            "marker": {
             "colorbar": {
              "outlinewidth": 0,
              "ticks": ""
             }
            },
            "type": "scattergl"
           }
          ],
          "scattermapbox": [
           {
            "marker": {
             "colorbar": {
              "outlinewidth": 0,
              "ticks": ""
             }
            },
            "type": "scattermapbox"
           }
          ],
          "scatterpolar": [
           {
            "marker": {
             "colorbar": {
              "outlinewidth": 0,
              "ticks": ""
             }
            },
            "type": "scatterpolar"
           }
          ],
          "scatterpolargl": [
           {
            "marker": {
             "colorbar": {
              "outlinewidth": 0,
              "ticks": ""
             }
            },
            "type": "scatterpolargl"
           }
          ],
          "scatterternary": [
           {
            "marker": {
             "colorbar": {
              "outlinewidth": 0,
              "ticks": ""
             }
            },
            "type": "scatterternary"
           }
          ],
          "surface": [
           {
            "colorbar": {
             "outlinewidth": 0,
             "ticks": ""
            },
            "colorscale": [
             [
              0,
              "#0d0887"
             ],
             [
              0.1111111111111111,
              "#46039f"
             ],
             [
              0.2222222222222222,
              "#7201a8"
             ],
             [
              0.3333333333333333,
              "#9c179e"
             ],
             [
              0.4444444444444444,
              "#bd3786"
             ],
             [
              0.5555555555555556,
              "#d8576b"
             ],
             [
              0.6666666666666666,
              "#ed7953"
             ],
             [
              0.7777777777777778,
              "#fb9f3a"
             ],
             [
              0.8888888888888888,
              "#fdca26"
             ],
             [
              1,
              "#f0f921"
             ]
            ],
            "type": "surface"
           }
          ],
          "table": [
           {
            "cells": {
             "fill": {
              "color": "#EBF0F8"
             },
             "line": {
              "color": "white"
             }
            },
            "header": {
             "fill": {
              "color": "#C8D4E3"
             },
             "line": {
              "color": "white"
             }
            },
            "type": "table"
           }
          ]
         },
         "layout": {
          "annotationdefaults": {
           "arrowcolor": "#2a3f5f",
           "arrowhead": 0,
           "arrowwidth": 1
          },
          "autotypenumbers": "strict",
          "coloraxis": {
           "colorbar": {
            "outlinewidth": 0,
            "ticks": ""
           }
          },
          "colorscale": {
           "diverging": [
            [
             0,
             "#8e0152"
            ],
            [
             0.1,
             "#c51b7d"
            ],
            [
             0.2,
             "#de77ae"
            ],
            [
             0.3,
             "#f1b6da"
            ],
            [
             0.4,
             "#fde0ef"
            ],
            [
             0.5,
             "#f7f7f7"
            ],
            [
             0.6,
             "#e6f5d0"
            ],
            [
             0.7,
             "#b8e186"
            ],
            [
             0.8,
             "#7fbc41"
            ],
            [
             0.9,
             "#4d9221"
            ],
            [
             1,
             "#276419"
            ]
           ],
           "sequential": [
            [
             0,
             "#0d0887"
            ],
            [
             0.1111111111111111,
             "#46039f"
            ],
            [
             0.2222222222222222,
             "#7201a8"
            ],
            [
             0.3333333333333333,
             "#9c179e"
            ],
            [
             0.4444444444444444,
             "#bd3786"
            ],
            [
             0.5555555555555556,
             "#d8576b"
            ],
            [
             0.6666666666666666,
             "#ed7953"
            ],
            [
             0.7777777777777778,
             "#fb9f3a"
            ],
            [
             0.8888888888888888,
             "#fdca26"
            ],
            [
             1,
             "#f0f921"
            ]
           ],
           "sequentialminus": [
            [
             0,
             "#0d0887"
            ],
            [
             0.1111111111111111,
             "#46039f"
            ],
            [
             0.2222222222222222,
             "#7201a8"
            ],
            [
             0.3333333333333333,
             "#9c179e"
            ],
            [
             0.4444444444444444,
             "#bd3786"
            ],
            [
             0.5555555555555556,
             "#d8576b"
            ],
            [
             0.6666666666666666,
             "#ed7953"
            ],
            [
             0.7777777777777778,
             "#fb9f3a"
            ],
            [
             0.8888888888888888,
             "#fdca26"
            ],
            [
             1,
             "#f0f921"
            ]
           ]
          },
          "colorway": [
           "#636efa",
           "#EF553B",
           "#00cc96",
           "#ab63fa",
           "#FFA15A",
           "#19d3f3",
           "#FF6692",
           "#B6E880",
           "#FF97FF",
           "#FECB52"
          ],
          "font": {
           "color": "#2a3f5f"
          },
          "geo": {
           "bgcolor": "white",
           "lakecolor": "white",
           "landcolor": "#E5ECF6",
           "showlakes": true,
           "showland": true,
           "subunitcolor": "white"
          },
          "hoverlabel": {
           "align": "left"
          },
          "hovermode": "closest",
          "mapbox": {
           "style": "light"
          },
          "paper_bgcolor": "white",
          "plot_bgcolor": "#E5ECF6",
          "polar": {
           "angularaxis": {
            "gridcolor": "white",
            "linecolor": "white",
            "ticks": ""
           },
           "bgcolor": "#E5ECF6",
           "radialaxis": {
            "gridcolor": "white",
            "linecolor": "white",
            "ticks": ""
           }
          },
          "scene": {
           "xaxis": {
            "backgroundcolor": "#E5ECF6",
            "gridcolor": "white",
            "gridwidth": 2,
            "linecolor": "white",
            "showbackground": true,
            "ticks": "",
            "zerolinecolor": "white"
           },
           "yaxis": {
            "backgroundcolor": "#E5ECF6",
            "gridcolor": "white",
            "gridwidth": 2,
            "linecolor": "white",
            "showbackground": true,
            "ticks": "",
            "zerolinecolor": "white"
           },
           "zaxis": {
            "backgroundcolor": "#E5ECF6",
            "gridcolor": "white",
            "gridwidth": 2,
            "linecolor": "white",
            "showbackground": true,
            "ticks": "",
            "zerolinecolor": "white"
           }
          },
          "shapedefaults": {
           "line": {
            "color": "#2a3f5f"
           }
          },
          "ternary": {
           "aaxis": {
            "gridcolor": "white",
            "linecolor": "white",
            "ticks": ""
           },
           "baxis": {
            "gridcolor": "white",
            "linecolor": "white",
            "ticks": ""
           },
           "bgcolor": "#E5ECF6",
           "caxis": {
            "gridcolor": "white",
            "linecolor": "white",
            "ticks": ""
           }
          },
          "title": {
           "x": 0.05
          },
          "xaxis": {
           "automargin": true,
           "gridcolor": "white",
           "linecolor": "white",
           "ticks": "",
           "title": {
            "standoff": 15
           },
           "zerolinecolor": "white",
           "zerolinewidth": 2
          },
          "yaxis": {
           "automargin": true,
           "gridcolor": "white",
           "linecolor": "white",
           "ticks": "",
           "title": {
            "standoff": 15
           },
           "zerolinecolor": "white",
           "zerolinewidth": 2
          }
         }
        },
        "title": {
         "text": "Cryptopunk Type Counts"
        },
        "xaxis": {
         "anchor": "y",
         "categoryarray": [
          "Male",
          "Female",
          "Zombie",
          "Ape",
          "Alien"
         ],
         "categoryorder": "array",
         "domain": [
          0,
          1
         ],
         "title": {
          "text": "type"
         }
        },
        "yaxis": {
         "anchor": "x",
         "domain": [
          0,
          1
         ],
         "title": {
          "text": "counts"
         },
         "type": "log"
        }
       }
      },
      "text/html": [
       "<div>                            <div id=\"7ee61e5e-9079-4bb6-911d-faed5ed06f55\" class=\"plotly-graph-div\" style=\"height:525px; width:100%;\"></div>            <script type=\"text/javascript\">                require([\"plotly\"], function(Plotly) {                    window.PLOTLYENV=window.PLOTLYENV || {};                                    if (document.getElementById(\"7ee61e5e-9079-4bb6-911d-faed5ed06f55\")) {                    Plotly.newPlot(                        \"7ee61e5e-9079-4bb6-911d-faed5ed06f55\",                        [{\"alignmentgroup\":\"True\",\"hovertemplate\":\"type=%{x}<br>counts=%{y}<extra></extra>\",\"legendgroup\":\"Male\",\"marker\":{\"color\":\"#636efa\",\"pattern\":{\"shape\":\"\"}},\"name\":\"Male\",\"offsetgroup\":\"Male\",\"orientation\":\"v\",\"showlegend\":true,\"textposition\":\"auto\",\"x\":[\"Male\"],\"xaxis\":\"x\",\"y\":[6039],\"yaxis\":\"y\",\"type\":\"bar\"},{\"alignmentgroup\":\"True\",\"hovertemplate\":\"type=%{x}<br>counts=%{y}<extra></extra>\",\"legendgroup\":\"Female\",\"marker\":{\"color\":\"#EF553B\",\"pattern\":{\"shape\":\"\"}},\"name\":\"Female\",\"offsetgroup\":\"Female\",\"orientation\":\"v\",\"showlegend\":true,\"textposition\":\"auto\",\"x\":[\"Female\"],\"xaxis\":\"x\",\"y\":[3840],\"yaxis\":\"y\",\"type\":\"bar\"},{\"alignmentgroup\":\"True\",\"hovertemplate\":\"type=%{x}<br>counts=%{y}<extra></extra>\",\"legendgroup\":\"Zombie\",\"marker\":{\"color\":\"#00cc96\",\"pattern\":{\"shape\":\"\"}},\"name\":\"Zombie\",\"offsetgroup\":\"Zombie\",\"orientation\":\"v\",\"showlegend\":true,\"textposition\":\"auto\",\"x\":[\"Zombie\"],\"xaxis\":\"x\",\"y\":[88],\"yaxis\":\"y\",\"type\":\"bar\"},{\"alignmentgroup\":\"True\",\"hovertemplate\":\"type=%{x}<br>counts=%{y}<extra></extra>\",\"legendgroup\":\"Ape\",\"marker\":{\"color\":\"#ab63fa\",\"pattern\":{\"shape\":\"\"}},\"name\":\"Ape\",\"offsetgroup\":\"Ape\",\"orientation\":\"v\",\"showlegend\":true,\"textposition\":\"auto\",\"x\":[\"Ape\"],\"xaxis\":\"x\",\"y\":[24],\"yaxis\":\"y\",\"type\":\"bar\"},{\"alignmentgroup\":\"True\",\"hovertemplate\":\"type=%{x}<br>counts=%{y}<extra></extra>\",\"legendgroup\":\"Alien\",\"marker\":{\"color\":\"#FFA15A\",\"pattern\":{\"shape\":\"\"}},\"name\":\"Alien\",\"offsetgroup\":\"Alien\",\"orientation\":\"v\",\"showlegend\":true,\"textposition\":\"auto\",\"x\":[\"Alien\"],\"xaxis\":\"x\",\"y\":[9],\"yaxis\":\"y\",\"type\":\"bar\"}],                        {\"template\":{\"data\":{\"bar\":[{\"error_x\":{\"color\":\"#2a3f5f\"},\"error_y\":{\"color\":\"#2a3f5f\"},\"marker\":{\"line\":{\"color\":\"#E5ECF6\",\"width\":0.5},\"pattern\":{\"fillmode\":\"overlay\",\"size\":10,\"solidity\":0.2}},\"type\":\"bar\"}],\"barpolar\":[{\"marker\":{\"line\":{\"color\":\"#E5ECF6\",\"width\":0.5},\"pattern\":{\"fillmode\":\"overlay\",\"size\":10,\"solidity\":0.2}},\"type\":\"barpolar\"}],\"carpet\":[{\"aaxis\":{\"endlinecolor\":\"#2a3f5f\",\"gridcolor\":\"white\",\"linecolor\":\"white\",\"minorgridcolor\":\"white\",\"startlinecolor\":\"#2a3f5f\"},\"baxis\":{\"endlinecolor\":\"#2a3f5f\",\"gridcolor\":\"white\",\"linecolor\":\"white\",\"minorgridcolor\":\"white\",\"startlinecolor\":\"#2a3f5f\"},\"type\":\"carpet\"}],\"choropleth\":[{\"colorbar\":{\"outlinewidth\":0,\"ticks\":\"\"},\"type\":\"choropleth\"}],\"contour\":[{\"colorbar\":{\"outlinewidth\":0,\"ticks\":\"\"},\"colorscale\":[[0.0,\"#0d0887\"],[0.1111111111111111,\"#46039f\"],[0.2222222222222222,\"#7201a8\"],[0.3333333333333333,\"#9c179e\"],[0.4444444444444444,\"#bd3786\"],[0.5555555555555556,\"#d8576b\"],[0.6666666666666666,\"#ed7953\"],[0.7777777777777778,\"#fb9f3a\"],[0.8888888888888888,\"#fdca26\"],[1.0,\"#f0f921\"]],\"type\":\"contour\"}],\"contourcarpet\":[{\"colorbar\":{\"outlinewidth\":0,\"ticks\":\"\"},\"type\":\"contourcarpet\"}],\"heatmap\":[{\"colorbar\":{\"outlinewidth\":0,\"ticks\":\"\"},\"colorscale\":[[0.0,\"#0d0887\"],[0.1111111111111111,\"#46039f\"],[0.2222222222222222,\"#7201a8\"],[0.3333333333333333,\"#9c179e\"],[0.4444444444444444,\"#bd3786\"],[0.5555555555555556,\"#d8576b\"],[0.6666666666666666,\"#ed7953\"],[0.7777777777777778,\"#fb9f3a\"],[0.8888888888888888,\"#fdca26\"],[1.0,\"#f0f921\"]],\"type\":\"heatmap\"}],\"heatmapgl\":[{\"colorbar\":{\"outlinewidth\":0,\"ticks\":\"\"},\"colorscale\":[[0.0,\"#0d0887\"],[0.1111111111111111,\"#46039f\"],[0.2222222222222222,\"#7201a8\"],[0.3333333333333333,\"#9c179e\"],[0.4444444444444444,\"#bd3786\"],[0.5555555555555556,\"#d8576b\"],[0.6666666666666666,\"#ed7953\"],[0.7777777777777778,\"#fb9f3a\"],[0.8888888888888888,\"#fdca26\"],[1.0,\"#f0f921\"]],\"type\":\"heatmapgl\"}],\"histogram\":[{\"marker\":{\"pattern\":{\"fillmode\":\"overlay\",\"size\":10,\"solidity\":0.2}},\"type\":\"histogram\"}],\"histogram2d\":[{\"colorbar\":{\"outlinewidth\":0,\"ticks\":\"\"},\"colorscale\":[[0.0,\"#0d0887\"],[0.1111111111111111,\"#46039f\"],[0.2222222222222222,\"#7201a8\"],[0.3333333333333333,\"#9c179e\"],[0.4444444444444444,\"#bd3786\"],[0.5555555555555556,\"#d8576b\"],[0.6666666666666666,\"#ed7953\"],[0.7777777777777778,\"#fb9f3a\"],[0.8888888888888888,\"#fdca26\"],[1.0,\"#f0f921\"]],\"type\":\"histogram2d\"}],\"histogram2dcontour\":[{\"colorbar\":{\"outlinewidth\":0,\"ticks\":\"\"},\"colorscale\":[[0.0,\"#0d0887\"],[0.1111111111111111,\"#46039f\"],[0.2222222222222222,\"#7201a8\"],[0.3333333333333333,\"#9c179e\"],[0.4444444444444444,\"#bd3786\"],[0.5555555555555556,\"#d8576b\"],[0.6666666666666666,\"#ed7953\"],[0.7777777777777778,\"#fb9f3a\"],[0.8888888888888888,\"#fdca26\"],[1.0,\"#f0f921\"]],\"type\":\"histogram2dcontour\"}],\"mesh3d\":[{\"colorbar\":{\"outlinewidth\":0,\"ticks\":\"\"},\"type\":\"mesh3d\"}],\"parcoords\":[{\"line\":{\"colorbar\":{\"outlinewidth\":0,\"ticks\":\"\"}},\"type\":\"parcoords\"}],\"pie\":[{\"automargin\":true,\"type\":\"pie\"}],\"scatter\":[{\"marker\":{\"colorbar\":{\"outlinewidth\":0,\"ticks\":\"\"}},\"type\":\"scatter\"}],\"scatter3d\":[{\"line\":{\"colorbar\":{\"outlinewidth\":0,\"ticks\":\"\"}},\"marker\":{\"colorbar\":{\"outlinewidth\":0,\"ticks\":\"\"}},\"type\":\"scatter3d\"}],\"scattercarpet\":[{\"marker\":{\"colorbar\":{\"outlinewidth\":0,\"ticks\":\"\"}},\"type\":\"scattercarpet\"}],\"scattergeo\":[{\"marker\":{\"colorbar\":{\"outlinewidth\":0,\"ticks\":\"\"}},\"type\":\"scattergeo\"}],\"scattergl\":[{\"marker\":{\"colorbar\":{\"outlinewidth\":0,\"ticks\":\"\"}},\"type\":\"scattergl\"}],\"scattermapbox\":[{\"marker\":{\"colorbar\":{\"outlinewidth\":0,\"ticks\":\"\"}},\"type\":\"scattermapbox\"}],\"scatterpolar\":[{\"marker\":{\"colorbar\":{\"outlinewidth\":0,\"ticks\":\"\"}},\"type\":\"scatterpolar\"}],\"scatterpolargl\":[{\"marker\":{\"colorbar\":{\"outlinewidth\":0,\"ticks\":\"\"}},\"type\":\"scatterpolargl\"}],\"scatterternary\":[{\"marker\":{\"colorbar\":{\"outlinewidth\":0,\"ticks\":\"\"}},\"type\":\"scatterternary\"}],\"surface\":[{\"colorbar\":{\"outlinewidth\":0,\"ticks\":\"\"},\"colorscale\":[[0.0,\"#0d0887\"],[0.1111111111111111,\"#46039f\"],[0.2222222222222222,\"#7201a8\"],[0.3333333333333333,\"#9c179e\"],[0.4444444444444444,\"#bd3786\"],[0.5555555555555556,\"#d8576b\"],[0.6666666666666666,\"#ed7953\"],[0.7777777777777778,\"#fb9f3a\"],[0.8888888888888888,\"#fdca26\"],[1.0,\"#f0f921\"]],\"type\":\"surface\"}],\"table\":[{\"cells\":{\"fill\":{\"color\":\"#EBF0F8\"},\"line\":{\"color\":\"white\"}},\"header\":{\"fill\":{\"color\":\"#C8D4E3\"},\"line\":{\"color\":\"white\"}},\"type\":\"table\"}]},\"layout\":{\"annotationdefaults\":{\"arrowcolor\":\"#2a3f5f\",\"arrowhead\":0,\"arrowwidth\":1},\"autotypenumbers\":\"strict\",\"coloraxis\":{\"colorbar\":{\"outlinewidth\":0,\"ticks\":\"\"}},\"colorscale\":{\"diverging\":[[0,\"#8e0152\"],[0.1,\"#c51b7d\"],[0.2,\"#de77ae\"],[0.3,\"#f1b6da\"],[0.4,\"#fde0ef\"],[0.5,\"#f7f7f7\"],[0.6,\"#e6f5d0\"],[0.7,\"#b8e186\"],[0.8,\"#7fbc41\"],[0.9,\"#4d9221\"],[1,\"#276419\"]],\"sequential\":[[0.0,\"#0d0887\"],[0.1111111111111111,\"#46039f\"],[0.2222222222222222,\"#7201a8\"],[0.3333333333333333,\"#9c179e\"],[0.4444444444444444,\"#bd3786\"],[0.5555555555555556,\"#d8576b\"],[0.6666666666666666,\"#ed7953\"],[0.7777777777777778,\"#fb9f3a\"],[0.8888888888888888,\"#fdca26\"],[1.0,\"#f0f921\"]],\"sequentialminus\":[[0.0,\"#0d0887\"],[0.1111111111111111,\"#46039f\"],[0.2222222222222222,\"#7201a8\"],[0.3333333333333333,\"#9c179e\"],[0.4444444444444444,\"#bd3786\"],[0.5555555555555556,\"#d8576b\"],[0.6666666666666666,\"#ed7953\"],[0.7777777777777778,\"#fb9f3a\"],[0.8888888888888888,\"#fdca26\"],[1.0,\"#f0f921\"]]},\"colorway\":[\"#636efa\",\"#EF553B\",\"#00cc96\",\"#ab63fa\",\"#FFA15A\",\"#19d3f3\",\"#FF6692\",\"#B6E880\",\"#FF97FF\",\"#FECB52\"],\"font\":{\"color\":\"#2a3f5f\"},\"geo\":{\"bgcolor\":\"white\",\"lakecolor\":\"white\",\"landcolor\":\"#E5ECF6\",\"showlakes\":true,\"showland\":true,\"subunitcolor\":\"white\"},\"hoverlabel\":{\"align\":\"left\"},\"hovermode\":\"closest\",\"mapbox\":{\"style\":\"light\"},\"paper_bgcolor\":\"white\",\"plot_bgcolor\":\"#E5ECF6\",\"polar\":{\"angularaxis\":{\"gridcolor\":\"white\",\"linecolor\":\"white\",\"ticks\":\"\"},\"bgcolor\":\"#E5ECF6\",\"radialaxis\":{\"gridcolor\":\"white\",\"linecolor\":\"white\",\"ticks\":\"\"}},\"scene\":{\"xaxis\":{\"backgroundcolor\":\"#E5ECF6\",\"gridcolor\":\"white\",\"gridwidth\":2,\"linecolor\":\"white\",\"showbackground\":true,\"ticks\":\"\",\"zerolinecolor\":\"white\"},\"yaxis\":{\"backgroundcolor\":\"#E5ECF6\",\"gridcolor\":\"white\",\"gridwidth\":2,\"linecolor\":\"white\",\"showbackground\":true,\"ticks\":\"\",\"zerolinecolor\":\"white\"},\"zaxis\":{\"backgroundcolor\":\"#E5ECF6\",\"gridcolor\":\"white\",\"gridwidth\":2,\"linecolor\":\"white\",\"showbackground\":true,\"ticks\":\"\",\"zerolinecolor\":\"white\"}},\"shapedefaults\":{\"line\":{\"color\":\"#2a3f5f\"}},\"ternary\":{\"aaxis\":{\"gridcolor\":\"white\",\"linecolor\":\"white\",\"ticks\":\"\"},\"baxis\":{\"gridcolor\":\"white\",\"linecolor\":\"white\",\"ticks\":\"\"},\"bgcolor\":\"#E5ECF6\",\"caxis\":{\"gridcolor\":\"white\",\"linecolor\":\"white\",\"ticks\":\"\"}},\"title\":{\"x\":0.05},\"xaxis\":{\"automargin\":true,\"gridcolor\":\"white\",\"linecolor\":\"white\",\"ticks\":\"\",\"title\":{\"standoff\":15},\"zerolinecolor\":\"white\",\"zerolinewidth\":2},\"yaxis\":{\"automargin\":true,\"gridcolor\":\"white\",\"linecolor\":\"white\",\"ticks\":\"\",\"title\":{\"standoff\":15},\"zerolinecolor\":\"white\",\"zerolinewidth\":2}}},\"xaxis\":{\"anchor\":\"y\",\"domain\":[0.0,1.0],\"title\":{\"text\":\"type\"},\"categoryorder\":\"array\",\"categoryarray\":[\"Male\",\"Female\",\"Zombie\",\"Ape\",\"Alien\"]},\"yaxis\":{\"anchor\":\"x\",\"domain\":[0.0,1.0],\"title\":{\"text\":\"counts\"},\"type\":\"log\"},\"legend\":{\"title\":{\"text\":\"type\"},\"tracegroupgap\":0},\"title\":{\"text\":\"Cryptopunk Type Counts\"},\"barmode\":\"relative\"},                        {\"responsive\": true}                    ).then(function(){\n",
       "                            \n",
       "var gd = document.getElementById('7ee61e5e-9079-4bb6-911d-faed5ed06f55');\n",
       "var x = new MutationObserver(function (mutations, observer) {{\n",
       "        var display = window.getComputedStyle(gd).display;\n",
       "        if (!display || display === 'none') {{\n",
       "            console.log([gd, 'removed!']);\n",
       "            Plotly.purge(gd);\n",
       "            observer.disconnect();\n",
       "        }}\n",
       "}});\n",
       "\n",
       "// Listen for the removal of the full notebook cells\n",
       "var notebookContainer = gd.closest('#notebook-container');\n",
       "if (notebookContainer) {{\n",
       "    x.observe(notebookContainer, {childList: true});\n",
       "}}\n",
       "\n",
       "// Listen for the clearing of the current output cell\n",
       "var outputEl = gd.closest('.output');\n",
       "if (outputEl) {{\n",
       "    x.observe(outputEl, {childList: true});\n",
       "}}\n",
       "\n",
       "                        })                };                });            </script>        </div>"
      ]
     },
     "metadata": {},
     "output_type": "display_data"
    }
   ],
   "source": [
    "fig = px.bar(punks.drop_duplicates(\"punk_id\")['type'].value_counts().rename_axis('type').reset_index(name='counts'),\n",
    "             x=\"type\", y=\"counts\", color=\"type\", title=\"Cryptopunk Type Counts\", log_y = True)\n",
    "fig.show()"
   ]
  },
  {
   "cell_type": "code",
   "execution_count": 24,
   "id": "e29e9698",
   "metadata": {},
   "outputs": [],
   "source": [
    "punks['num_attributes'] = punks.accessories.apply(lambda x: len(x))"
   ]
  },
  {
   "cell_type": "code",
   "execution_count": 153,
   "id": "6f601873",
   "metadata": {},
   "outputs": [
    {
     "data": {
      "application/vnd.plotly.v1+json": {
       "config": {
        "plotlyServerURL": "https://plot.ly"
       },
       "data": [
        {
         "alignmentgroup": "True",
         "hovertemplate": "num_attributes=%{marker.color}<br>counts=%{y}<extra></extra>",
         "legendgroup": "",
         "marker": {
          "color": [
           3,
           2,
           4,
           1,
           5,
           6,
           0,
           7
          ],
          "coloraxis": "coloraxis",
          "pattern": {
           "shape": ""
          }
         },
         "name": "",
         "offsetgroup": "",
         "orientation": "v",
         "showlegend": false,
         "textposition": "auto",
         "type": "bar",
         "x": [
          3,
          2,
          4,
          1,
          5,
          6,
          0,
          7
         ],
         "xaxis": "x",
         "y": [
          4501,
          3560,
          1420,
          333,
          166,
          11,
          8,
          1
         ],
         "yaxis": "y"
        }
       ],
       "layout": {
        "barmode": "relative",
        "coloraxis": {
         "colorbar": {
          "title": {
           "text": "num_attributes"
          }
         },
         "colorscale": [
          [
           0,
           "#0d0887"
          ],
          [
           0.1111111111111111,
           "#46039f"
          ],
          [
           0.2222222222222222,
           "#7201a8"
          ],
          [
           0.3333333333333333,
           "#9c179e"
          ],
          [
           0.4444444444444444,
           "#bd3786"
          ],
          [
           0.5555555555555556,
           "#d8576b"
          ],
          [
           0.6666666666666666,
           "#ed7953"
          ],
          [
           0.7777777777777778,
           "#fb9f3a"
          ],
          [
           0.8888888888888888,
           "#fdca26"
          ],
          [
           1,
           "#f0f921"
          ]
         ]
        },
        "legend": {
         "tracegroupgap": 0
        },
        "template": {
         "data": {
          "bar": [
           {
            "error_x": {
             "color": "#2a3f5f"
            },
            "error_y": {
             "color": "#2a3f5f"
            },
            "marker": {
             "line": {
              "color": "#E5ECF6",
              "width": 0.5
             },
             "pattern": {
              "fillmode": "overlay",
              "size": 10,
              "solidity": 0.2
             }
            },
            "type": "bar"
           }
          ],
          "barpolar": [
           {
            "marker": {
             "line": {
              "color": "#E5ECF6",
              "width": 0.5
             },
             "pattern": {
              "fillmode": "overlay",
              "size": 10,
              "solidity": 0.2
             }
            },
            "type": "barpolar"
           }
          ],
          "carpet": [
           {
            "aaxis": {
             "endlinecolor": "#2a3f5f",
             "gridcolor": "white",
             "linecolor": "white",
             "minorgridcolor": "white",
             "startlinecolor": "#2a3f5f"
            },
            "baxis": {
             "endlinecolor": "#2a3f5f",
             "gridcolor": "white",
             "linecolor": "white",
             "minorgridcolor": "white",
             "startlinecolor": "#2a3f5f"
            },
            "type": "carpet"
           }
          ],
          "choropleth": [
           {
            "colorbar": {
             "outlinewidth": 0,
             "ticks": ""
            },
            "type": "choropleth"
           }
          ],
          "contour": [
           {
            "colorbar": {
             "outlinewidth": 0,
             "ticks": ""
            },
            "colorscale": [
             [
              0,
              "#0d0887"
             ],
             [
              0.1111111111111111,
              "#46039f"
             ],
             [
              0.2222222222222222,
              "#7201a8"
             ],
             [
              0.3333333333333333,
              "#9c179e"
             ],
             [
              0.4444444444444444,
              "#bd3786"
             ],
             [
              0.5555555555555556,
              "#d8576b"
             ],
             [
              0.6666666666666666,
              "#ed7953"
             ],
             [
              0.7777777777777778,
              "#fb9f3a"
             ],
             [
              0.8888888888888888,
              "#fdca26"
             ],
             [
              1,
              "#f0f921"
             ]
            ],
            "type": "contour"
           }
          ],
          "contourcarpet": [
           {
            "colorbar": {
             "outlinewidth": 0,
             "ticks": ""
            },
            "type": "contourcarpet"
           }
          ],
          "heatmap": [
           {
            "colorbar": {
             "outlinewidth": 0,
             "ticks": ""
            },
            "colorscale": [
             [
              0,
              "#0d0887"
             ],
             [
              0.1111111111111111,
              "#46039f"
             ],
             [
              0.2222222222222222,
              "#7201a8"
             ],
             [
              0.3333333333333333,
              "#9c179e"
             ],
             [
              0.4444444444444444,
              "#bd3786"
             ],
             [
              0.5555555555555556,
              "#d8576b"
             ],
             [
              0.6666666666666666,
              "#ed7953"
             ],
             [
              0.7777777777777778,
              "#fb9f3a"
             ],
             [
              0.8888888888888888,
              "#fdca26"
             ],
             [
              1,
              "#f0f921"
             ]
            ],
            "type": "heatmap"
           }
          ],
          "heatmapgl": [
           {
            "colorbar": {
             "outlinewidth": 0,
             "ticks": ""
            },
            "colorscale": [
             [
              0,
              "#0d0887"
             ],
             [
              0.1111111111111111,
              "#46039f"
             ],
             [
              0.2222222222222222,
              "#7201a8"
             ],
             [
              0.3333333333333333,
              "#9c179e"
             ],
             [
              0.4444444444444444,
              "#bd3786"
             ],
             [
              0.5555555555555556,
              "#d8576b"
             ],
             [
              0.6666666666666666,
              "#ed7953"
             ],
             [
              0.7777777777777778,
              "#fb9f3a"
             ],
             [
              0.8888888888888888,
              "#fdca26"
             ],
             [
              1,
              "#f0f921"
             ]
            ],
            "type": "heatmapgl"
           }
          ],
          "histogram": [
           {
            "marker": {
             "pattern": {
              "fillmode": "overlay",
              "size": 10,
              "solidity": 0.2
             }
            },
            "type": "histogram"
           }
          ],
          "histogram2d": [
           {
            "colorbar": {
             "outlinewidth": 0,
             "ticks": ""
            },
            "colorscale": [
             [
              0,
              "#0d0887"
             ],
             [
              0.1111111111111111,
              "#46039f"
             ],
             [
              0.2222222222222222,
              "#7201a8"
             ],
             [
              0.3333333333333333,
              "#9c179e"
             ],
             [
              0.4444444444444444,
              "#bd3786"
             ],
             [
              0.5555555555555556,
              "#d8576b"
             ],
             [
              0.6666666666666666,
              "#ed7953"
             ],
             [
              0.7777777777777778,
              "#fb9f3a"
             ],
             [
              0.8888888888888888,
              "#fdca26"
             ],
             [
              1,
              "#f0f921"
             ]
            ],
            "type": "histogram2d"
           }
          ],
          "histogram2dcontour": [
           {
            "colorbar": {
             "outlinewidth": 0,
             "ticks": ""
            },
            "colorscale": [
             [
              0,
              "#0d0887"
             ],
             [
              0.1111111111111111,
              "#46039f"
             ],
             [
              0.2222222222222222,
              "#7201a8"
             ],
             [
              0.3333333333333333,
              "#9c179e"
             ],
             [
              0.4444444444444444,
              "#bd3786"
             ],
             [
              0.5555555555555556,
              "#d8576b"
             ],
             [
              0.6666666666666666,
              "#ed7953"
             ],
             [
              0.7777777777777778,
              "#fb9f3a"
             ],
             [
              0.8888888888888888,
              "#fdca26"
             ],
             [
              1,
              "#f0f921"
             ]
            ],
            "type": "histogram2dcontour"
           }
          ],
          "mesh3d": [
           {
            "colorbar": {
             "outlinewidth": 0,
             "ticks": ""
            },
            "type": "mesh3d"
           }
          ],
          "parcoords": [
           {
            "line": {
             "colorbar": {
              "outlinewidth": 0,
              "ticks": ""
             }
            },
            "type": "parcoords"
           }
          ],
          "pie": [
           {
            "automargin": true,
            "type": "pie"
           }
          ],
          "scatter": [
           {
            "marker": {
             "colorbar": {
              "outlinewidth": 0,
              "ticks": ""
             }
            },
            "type": "scatter"
           }
          ],
          "scatter3d": [
           {
            "line": {
             "colorbar": {
              "outlinewidth": 0,
              "ticks": ""
             }
            },
            "marker": {
             "colorbar": {
              "outlinewidth": 0,
              "ticks": ""
             }
            },
            "type": "scatter3d"
           }
          ],
          "scattercarpet": [
           {
            "marker": {
             "colorbar": {
              "outlinewidth": 0,
              "ticks": ""
             }
            },
            "type": "scattercarpet"
           }
          ],
          "scattergeo": [
           {
            "marker": {
             "colorbar": {
              "outlinewidth": 0,
              "ticks": ""
             }
            },
            "type": "scattergeo"
           }
          ],
          "scattergl": [
           {
            "marker": {
             "colorbar": {
              "outlinewidth": 0,
              "ticks": ""
             }
            },
            "type": "scattergl"
           }
          ],
          "scattermapbox": [
           {
            "marker": {
             "colorbar": {
              "outlinewidth": 0,
              "ticks": ""
             }
            },
            "type": "scattermapbox"
           }
          ],
          "scatterpolar": [
           {
            "marker": {
             "colorbar": {
              "outlinewidth": 0,
              "ticks": ""
             }
            },
            "type": "scatterpolar"
           }
          ],
          "scatterpolargl": [
           {
            "marker": {
             "colorbar": {
              "outlinewidth": 0,
              "ticks": ""
             }
            },
            "type": "scatterpolargl"
           }
          ],
          "scatterternary": [
           {
            "marker": {
             "colorbar": {
              "outlinewidth": 0,
              "ticks": ""
             }
            },
            "type": "scatterternary"
           }
          ],
          "surface": [
           {
            "colorbar": {
             "outlinewidth": 0,
             "ticks": ""
            },
            "colorscale": [
             [
              0,
              "#0d0887"
             ],
             [
              0.1111111111111111,
              "#46039f"
             ],
             [
              0.2222222222222222,
              "#7201a8"
             ],
             [
              0.3333333333333333,
              "#9c179e"
             ],
             [
              0.4444444444444444,
              "#bd3786"
             ],
             [
              0.5555555555555556,
              "#d8576b"
             ],
             [
              0.6666666666666666,
              "#ed7953"
             ],
             [
              0.7777777777777778,
              "#fb9f3a"
             ],
             [
              0.8888888888888888,
              "#fdca26"
             ],
             [
              1,
              "#f0f921"
             ]
            ],
            "type": "surface"
           }
          ],
          "table": [
           {
            "cells": {
             "fill": {
              "color": "#EBF0F8"
             },
             "line": {
              "color": "white"
             }
            },
            "header": {
             "fill": {
              "color": "#C8D4E3"
             },
             "line": {
              "color": "white"
             }
            },
            "type": "table"
           }
          ]
         },
         "layout": {
          "annotationdefaults": {
           "arrowcolor": "#2a3f5f",
           "arrowhead": 0,
           "arrowwidth": 1
          },
          "autotypenumbers": "strict",
          "coloraxis": {
           "colorbar": {
            "outlinewidth": 0,
            "ticks": ""
           }
          },
          "colorscale": {
           "diverging": [
            [
             0,
             "#8e0152"
            ],
            [
             0.1,
             "#c51b7d"
            ],
            [
             0.2,
             "#de77ae"
            ],
            [
             0.3,
             "#f1b6da"
            ],
            [
             0.4,
             "#fde0ef"
            ],
            [
             0.5,
             "#f7f7f7"
            ],
            [
             0.6,
             "#e6f5d0"
            ],
            [
             0.7,
             "#b8e186"
            ],
            [
             0.8,
             "#7fbc41"
            ],
            [
             0.9,
             "#4d9221"
            ],
            [
             1,
             "#276419"
            ]
           ],
           "sequential": [
            [
             0,
             "#0d0887"
            ],
            [
             0.1111111111111111,
             "#46039f"
            ],
            [
             0.2222222222222222,
             "#7201a8"
            ],
            [
             0.3333333333333333,
             "#9c179e"
            ],
            [
             0.4444444444444444,
             "#bd3786"
            ],
            [
             0.5555555555555556,
             "#d8576b"
            ],
            [
             0.6666666666666666,
             "#ed7953"
            ],
            [
             0.7777777777777778,
             "#fb9f3a"
            ],
            [
             0.8888888888888888,
             "#fdca26"
            ],
            [
             1,
             "#f0f921"
            ]
           ],
           "sequentialminus": [
            [
             0,
             "#0d0887"
            ],
            [
             0.1111111111111111,
             "#46039f"
            ],
            [
             0.2222222222222222,
             "#7201a8"
            ],
            [
             0.3333333333333333,
             "#9c179e"
            ],
            [
             0.4444444444444444,
             "#bd3786"
            ],
            [
             0.5555555555555556,
             "#d8576b"
            ],
            [
             0.6666666666666666,
             "#ed7953"
            ],
            [
             0.7777777777777778,
             "#fb9f3a"
            ],
            [
             0.8888888888888888,
             "#fdca26"
            ],
            [
             1,
             "#f0f921"
            ]
           ]
          },
          "colorway": [
           "#636efa",
           "#EF553B",
           "#00cc96",
           "#ab63fa",
           "#FFA15A",
           "#19d3f3",
           "#FF6692",
           "#B6E880",
           "#FF97FF",
           "#FECB52"
          ],
          "font": {
           "color": "#2a3f5f"
          },
          "geo": {
           "bgcolor": "white",
           "lakecolor": "white",
           "landcolor": "#E5ECF6",
           "showlakes": true,
           "showland": true,
           "subunitcolor": "white"
          },
          "hoverlabel": {
           "align": "left"
          },
          "hovermode": "closest",
          "mapbox": {
           "style": "light"
          },
          "paper_bgcolor": "white",
          "plot_bgcolor": "#E5ECF6",
          "polar": {
           "angularaxis": {
            "gridcolor": "white",
            "linecolor": "white",
            "ticks": ""
           },
           "bgcolor": "#E5ECF6",
           "radialaxis": {
            "gridcolor": "white",
            "linecolor": "white",
            "ticks": ""
           }
          },
          "scene": {
           "xaxis": {
            "backgroundcolor": "#E5ECF6",
            "gridcolor": "white",
            "gridwidth": 2,
            "linecolor": "white",
            "showbackground": true,
            "ticks": "",
            "zerolinecolor": "white"
           },
           "yaxis": {
            "backgroundcolor": "#E5ECF6",
            "gridcolor": "white",
            "gridwidth": 2,
            "linecolor": "white",
            "showbackground": true,
            "ticks": "",
            "zerolinecolor": "white"
           },
           "zaxis": {
            "backgroundcolor": "#E5ECF6",
            "gridcolor": "white",
            "gridwidth": 2,
            "linecolor": "white",
            "showbackground": true,
            "ticks": "",
            "zerolinecolor": "white"
           }
          },
          "shapedefaults": {
           "line": {
            "color": "#2a3f5f"
           }
          },
          "ternary": {
           "aaxis": {
            "gridcolor": "white",
            "linecolor": "white",
            "ticks": ""
           },
           "baxis": {
            "gridcolor": "white",
            "linecolor": "white",
            "ticks": ""
           },
           "bgcolor": "#E5ECF6",
           "caxis": {
            "gridcolor": "white",
            "linecolor": "white",
            "ticks": ""
           }
          },
          "title": {
           "x": 0.05
          },
          "xaxis": {
           "automargin": true,
           "gridcolor": "white",
           "linecolor": "white",
           "ticks": "",
           "title": {
            "standoff": 15
           },
           "zerolinecolor": "white",
           "zerolinewidth": 2
          },
          "yaxis": {
           "automargin": true,
           "gridcolor": "white",
           "linecolor": "white",
           "ticks": "",
           "title": {
            "standoff": 15
           },
           "zerolinecolor": "white",
           "zerolinewidth": 2
          }
         }
        },
        "title": {
         "text": "Cryptopunk Punk_id Distribution of Number of Attributes"
        },
        "xaxis": {
         "anchor": "y",
         "domain": [
          0,
          1
         ],
         "title": {
          "text": "num_attributes"
         }
        },
        "yaxis": {
         "anchor": "x",
         "domain": [
          0,
          1
         ],
         "title": {
          "text": "counts"
         },
         "type": "log"
        }
       }
      },
      "text/html": [
       "<div>                            <div id=\"e3bb884b-861b-4b14-80e3-213b8070f009\" class=\"plotly-graph-div\" style=\"height:525px; width:100%;\"></div>            <script type=\"text/javascript\">                require([\"plotly\"], function(Plotly) {                    window.PLOTLYENV=window.PLOTLYENV || {};                                    if (document.getElementById(\"e3bb884b-861b-4b14-80e3-213b8070f009\")) {                    Plotly.newPlot(                        \"e3bb884b-861b-4b14-80e3-213b8070f009\",                        [{\"alignmentgroup\":\"True\",\"hovertemplate\":\"num_attributes=%{marker.color}<br>counts=%{y}<extra></extra>\",\"legendgroup\":\"\",\"marker\":{\"color\":[3,2,4,1,5,6,0,7],\"coloraxis\":\"coloraxis\",\"pattern\":{\"shape\":\"\"}},\"name\":\"\",\"offsetgroup\":\"\",\"orientation\":\"v\",\"showlegend\":false,\"textposition\":\"auto\",\"x\":[3,2,4,1,5,6,0,7],\"xaxis\":\"x\",\"y\":[4501,3560,1420,333,166,11,8,1],\"yaxis\":\"y\",\"type\":\"bar\"}],                        {\"template\":{\"data\":{\"bar\":[{\"error_x\":{\"color\":\"#2a3f5f\"},\"error_y\":{\"color\":\"#2a3f5f\"},\"marker\":{\"line\":{\"color\":\"#E5ECF6\",\"width\":0.5},\"pattern\":{\"fillmode\":\"overlay\",\"size\":10,\"solidity\":0.2}},\"type\":\"bar\"}],\"barpolar\":[{\"marker\":{\"line\":{\"color\":\"#E5ECF6\",\"width\":0.5},\"pattern\":{\"fillmode\":\"overlay\",\"size\":10,\"solidity\":0.2}},\"type\":\"barpolar\"}],\"carpet\":[{\"aaxis\":{\"endlinecolor\":\"#2a3f5f\",\"gridcolor\":\"white\",\"linecolor\":\"white\",\"minorgridcolor\":\"white\",\"startlinecolor\":\"#2a3f5f\"},\"baxis\":{\"endlinecolor\":\"#2a3f5f\",\"gridcolor\":\"white\",\"linecolor\":\"white\",\"minorgridcolor\":\"white\",\"startlinecolor\":\"#2a3f5f\"},\"type\":\"carpet\"}],\"choropleth\":[{\"colorbar\":{\"outlinewidth\":0,\"ticks\":\"\"},\"type\":\"choropleth\"}],\"contour\":[{\"colorbar\":{\"outlinewidth\":0,\"ticks\":\"\"},\"colorscale\":[[0.0,\"#0d0887\"],[0.1111111111111111,\"#46039f\"],[0.2222222222222222,\"#7201a8\"],[0.3333333333333333,\"#9c179e\"],[0.4444444444444444,\"#bd3786\"],[0.5555555555555556,\"#d8576b\"],[0.6666666666666666,\"#ed7953\"],[0.7777777777777778,\"#fb9f3a\"],[0.8888888888888888,\"#fdca26\"],[1.0,\"#f0f921\"]],\"type\":\"contour\"}],\"contourcarpet\":[{\"colorbar\":{\"outlinewidth\":0,\"ticks\":\"\"},\"type\":\"contourcarpet\"}],\"heatmap\":[{\"colorbar\":{\"outlinewidth\":0,\"ticks\":\"\"},\"colorscale\":[[0.0,\"#0d0887\"],[0.1111111111111111,\"#46039f\"],[0.2222222222222222,\"#7201a8\"],[0.3333333333333333,\"#9c179e\"],[0.4444444444444444,\"#bd3786\"],[0.5555555555555556,\"#d8576b\"],[0.6666666666666666,\"#ed7953\"],[0.7777777777777778,\"#fb9f3a\"],[0.8888888888888888,\"#fdca26\"],[1.0,\"#f0f921\"]],\"type\":\"heatmap\"}],\"heatmapgl\":[{\"colorbar\":{\"outlinewidth\":0,\"ticks\":\"\"},\"colorscale\":[[0.0,\"#0d0887\"],[0.1111111111111111,\"#46039f\"],[0.2222222222222222,\"#7201a8\"],[0.3333333333333333,\"#9c179e\"],[0.4444444444444444,\"#bd3786\"],[0.5555555555555556,\"#d8576b\"],[0.6666666666666666,\"#ed7953\"],[0.7777777777777778,\"#fb9f3a\"],[0.8888888888888888,\"#fdca26\"],[1.0,\"#f0f921\"]],\"type\":\"heatmapgl\"}],\"histogram\":[{\"marker\":{\"pattern\":{\"fillmode\":\"overlay\",\"size\":10,\"solidity\":0.2}},\"type\":\"histogram\"}],\"histogram2d\":[{\"colorbar\":{\"outlinewidth\":0,\"ticks\":\"\"},\"colorscale\":[[0.0,\"#0d0887\"],[0.1111111111111111,\"#46039f\"],[0.2222222222222222,\"#7201a8\"],[0.3333333333333333,\"#9c179e\"],[0.4444444444444444,\"#bd3786\"],[0.5555555555555556,\"#d8576b\"],[0.6666666666666666,\"#ed7953\"],[0.7777777777777778,\"#fb9f3a\"],[0.8888888888888888,\"#fdca26\"],[1.0,\"#f0f921\"]],\"type\":\"histogram2d\"}],\"histogram2dcontour\":[{\"colorbar\":{\"outlinewidth\":0,\"ticks\":\"\"},\"colorscale\":[[0.0,\"#0d0887\"],[0.1111111111111111,\"#46039f\"],[0.2222222222222222,\"#7201a8\"],[0.3333333333333333,\"#9c179e\"],[0.4444444444444444,\"#bd3786\"],[0.5555555555555556,\"#d8576b\"],[0.6666666666666666,\"#ed7953\"],[0.7777777777777778,\"#fb9f3a\"],[0.8888888888888888,\"#fdca26\"],[1.0,\"#f0f921\"]],\"type\":\"histogram2dcontour\"}],\"mesh3d\":[{\"colorbar\":{\"outlinewidth\":0,\"ticks\":\"\"},\"type\":\"mesh3d\"}],\"parcoords\":[{\"line\":{\"colorbar\":{\"outlinewidth\":0,\"ticks\":\"\"}},\"type\":\"parcoords\"}],\"pie\":[{\"automargin\":true,\"type\":\"pie\"}],\"scatter\":[{\"marker\":{\"colorbar\":{\"outlinewidth\":0,\"ticks\":\"\"}},\"type\":\"scatter\"}],\"scatter3d\":[{\"line\":{\"colorbar\":{\"outlinewidth\":0,\"ticks\":\"\"}},\"marker\":{\"colorbar\":{\"outlinewidth\":0,\"ticks\":\"\"}},\"type\":\"scatter3d\"}],\"scattercarpet\":[{\"marker\":{\"colorbar\":{\"outlinewidth\":0,\"ticks\":\"\"}},\"type\":\"scattercarpet\"}],\"scattergeo\":[{\"marker\":{\"colorbar\":{\"outlinewidth\":0,\"ticks\":\"\"}},\"type\":\"scattergeo\"}],\"scattergl\":[{\"marker\":{\"colorbar\":{\"outlinewidth\":0,\"ticks\":\"\"}},\"type\":\"scattergl\"}],\"scattermapbox\":[{\"marker\":{\"colorbar\":{\"outlinewidth\":0,\"ticks\":\"\"}},\"type\":\"scattermapbox\"}],\"scatterpolar\":[{\"marker\":{\"colorbar\":{\"outlinewidth\":0,\"ticks\":\"\"}},\"type\":\"scatterpolar\"}],\"scatterpolargl\":[{\"marker\":{\"colorbar\":{\"outlinewidth\":0,\"ticks\":\"\"}},\"type\":\"scatterpolargl\"}],\"scatterternary\":[{\"marker\":{\"colorbar\":{\"outlinewidth\":0,\"ticks\":\"\"}},\"type\":\"scatterternary\"}],\"surface\":[{\"colorbar\":{\"outlinewidth\":0,\"ticks\":\"\"},\"colorscale\":[[0.0,\"#0d0887\"],[0.1111111111111111,\"#46039f\"],[0.2222222222222222,\"#7201a8\"],[0.3333333333333333,\"#9c179e\"],[0.4444444444444444,\"#bd3786\"],[0.5555555555555556,\"#d8576b\"],[0.6666666666666666,\"#ed7953\"],[0.7777777777777778,\"#fb9f3a\"],[0.8888888888888888,\"#fdca26\"],[1.0,\"#f0f921\"]],\"type\":\"surface\"}],\"table\":[{\"cells\":{\"fill\":{\"color\":\"#EBF0F8\"},\"line\":{\"color\":\"white\"}},\"header\":{\"fill\":{\"color\":\"#C8D4E3\"},\"line\":{\"color\":\"white\"}},\"type\":\"table\"}]},\"layout\":{\"annotationdefaults\":{\"arrowcolor\":\"#2a3f5f\",\"arrowhead\":0,\"arrowwidth\":1},\"autotypenumbers\":\"strict\",\"coloraxis\":{\"colorbar\":{\"outlinewidth\":0,\"ticks\":\"\"}},\"colorscale\":{\"diverging\":[[0,\"#8e0152\"],[0.1,\"#c51b7d\"],[0.2,\"#de77ae\"],[0.3,\"#f1b6da\"],[0.4,\"#fde0ef\"],[0.5,\"#f7f7f7\"],[0.6,\"#e6f5d0\"],[0.7,\"#b8e186\"],[0.8,\"#7fbc41\"],[0.9,\"#4d9221\"],[1,\"#276419\"]],\"sequential\":[[0.0,\"#0d0887\"],[0.1111111111111111,\"#46039f\"],[0.2222222222222222,\"#7201a8\"],[0.3333333333333333,\"#9c179e\"],[0.4444444444444444,\"#bd3786\"],[0.5555555555555556,\"#d8576b\"],[0.6666666666666666,\"#ed7953\"],[0.7777777777777778,\"#fb9f3a\"],[0.8888888888888888,\"#fdca26\"],[1.0,\"#f0f921\"]],\"sequentialminus\":[[0.0,\"#0d0887\"],[0.1111111111111111,\"#46039f\"],[0.2222222222222222,\"#7201a8\"],[0.3333333333333333,\"#9c179e\"],[0.4444444444444444,\"#bd3786\"],[0.5555555555555556,\"#d8576b\"],[0.6666666666666666,\"#ed7953\"],[0.7777777777777778,\"#fb9f3a\"],[0.8888888888888888,\"#fdca26\"],[1.0,\"#f0f921\"]]},\"colorway\":[\"#636efa\",\"#EF553B\",\"#00cc96\",\"#ab63fa\",\"#FFA15A\",\"#19d3f3\",\"#FF6692\",\"#B6E880\",\"#FF97FF\",\"#FECB52\"],\"font\":{\"color\":\"#2a3f5f\"},\"geo\":{\"bgcolor\":\"white\",\"lakecolor\":\"white\",\"landcolor\":\"#E5ECF6\",\"showlakes\":true,\"showland\":true,\"subunitcolor\":\"white\"},\"hoverlabel\":{\"align\":\"left\"},\"hovermode\":\"closest\",\"mapbox\":{\"style\":\"light\"},\"paper_bgcolor\":\"white\",\"plot_bgcolor\":\"#E5ECF6\",\"polar\":{\"angularaxis\":{\"gridcolor\":\"white\",\"linecolor\":\"white\",\"ticks\":\"\"},\"bgcolor\":\"#E5ECF6\",\"radialaxis\":{\"gridcolor\":\"white\",\"linecolor\":\"white\",\"ticks\":\"\"}},\"scene\":{\"xaxis\":{\"backgroundcolor\":\"#E5ECF6\",\"gridcolor\":\"white\",\"gridwidth\":2,\"linecolor\":\"white\",\"showbackground\":true,\"ticks\":\"\",\"zerolinecolor\":\"white\"},\"yaxis\":{\"backgroundcolor\":\"#E5ECF6\",\"gridcolor\":\"white\",\"gridwidth\":2,\"linecolor\":\"white\",\"showbackground\":true,\"ticks\":\"\",\"zerolinecolor\":\"white\"},\"zaxis\":{\"backgroundcolor\":\"#E5ECF6\",\"gridcolor\":\"white\",\"gridwidth\":2,\"linecolor\":\"white\",\"showbackground\":true,\"ticks\":\"\",\"zerolinecolor\":\"white\"}},\"shapedefaults\":{\"line\":{\"color\":\"#2a3f5f\"}},\"ternary\":{\"aaxis\":{\"gridcolor\":\"white\",\"linecolor\":\"white\",\"ticks\":\"\"},\"baxis\":{\"gridcolor\":\"white\",\"linecolor\":\"white\",\"ticks\":\"\"},\"bgcolor\":\"#E5ECF6\",\"caxis\":{\"gridcolor\":\"white\",\"linecolor\":\"white\",\"ticks\":\"\"}},\"title\":{\"x\":0.05},\"xaxis\":{\"automargin\":true,\"gridcolor\":\"white\",\"linecolor\":\"white\",\"ticks\":\"\",\"title\":{\"standoff\":15},\"zerolinecolor\":\"white\",\"zerolinewidth\":2},\"yaxis\":{\"automargin\":true,\"gridcolor\":\"white\",\"linecolor\":\"white\",\"ticks\":\"\",\"title\":{\"standoff\":15},\"zerolinecolor\":\"white\",\"zerolinewidth\":2}}},\"xaxis\":{\"anchor\":\"y\",\"domain\":[0.0,1.0],\"title\":{\"text\":\"num_attributes\"}},\"yaxis\":{\"anchor\":\"x\",\"domain\":[0.0,1.0],\"title\":{\"text\":\"counts\"},\"type\":\"log\"},\"coloraxis\":{\"colorbar\":{\"title\":{\"text\":\"num_attributes\"}},\"colorscale\":[[0.0,\"#0d0887\"],[0.1111111111111111,\"#46039f\"],[0.2222222222222222,\"#7201a8\"],[0.3333333333333333,\"#9c179e\"],[0.4444444444444444,\"#bd3786\"],[0.5555555555555556,\"#d8576b\"],[0.6666666666666666,\"#ed7953\"],[0.7777777777777778,\"#fb9f3a\"],[0.8888888888888888,\"#fdca26\"],[1.0,\"#f0f921\"]]},\"legend\":{\"tracegroupgap\":0},\"title\":{\"text\":\"Cryptopunk Punk_id Distribution of Number of Attributes\"},\"barmode\":\"relative\"},                        {\"responsive\": true}                    ).then(function(){\n",
       "                            \n",
       "var gd = document.getElementById('e3bb884b-861b-4b14-80e3-213b8070f009');\n",
       "var x = new MutationObserver(function (mutations, observer) {{\n",
       "        var display = window.getComputedStyle(gd).display;\n",
       "        if (!display || display === 'none') {{\n",
       "            console.log([gd, 'removed!']);\n",
       "            Plotly.purge(gd);\n",
       "            observer.disconnect();\n",
       "        }}\n",
       "}});\n",
       "\n",
       "// Listen for the removal of the full notebook cells\n",
       "var notebookContainer = gd.closest('#notebook-container');\n",
       "if (notebookContainer) {{\n",
       "    x.observe(notebookContainer, {childList: true});\n",
       "}}\n",
       "\n",
       "// Listen for the clearing of the current output cell\n",
       "var outputEl = gd.closest('.output');\n",
       "if (outputEl) {{\n",
       "    x.observe(outputEl, {childList: true});\n",
       "}}\n",
       "\n",
       "                        })                };                });            </script>        </div>"
      ]
     },
     "metadata": {},
     "output_type": "display_data"
    }
   ],
   "source": [
    "fig = px.bar(punks.drop_duplicates(\"punk_id\")['num_attributes'].value_counts().rename_axis('num_attributes').reset_index(name='counts'),\n",
    "             x=\"num_attributes\", y=\"counts\", color=\"num_attributes\", title=\"Cryptopunk Punk_id Distribution of Number of Attributes\", log_y = True)\n",
    "fig.show()"
   ]
  },
  {
   "cell_type": "code",
   "execution_count": 26,
   "id": "57283b92",
   "metadata": {},
   "outputs": [],
   "source": [
    "fig.write_image('Cryptopunk Rank Distribution of Number of Attributes.png')"
   ]
  },
  {
   "cell_type": "code",
   "execution_count": 30,
   "id": "e8c4580d",
   "metadata": {},
   "outputs": [],
   "source": [
    "# Group by num_attributes\n",
    "b = punks.groupby(['num_attributes']).count()\n",
    "b = b.reset_index()"
   ]
  },
  {
   "cell_type": "code",
   "execution_count": 31,
   "id": "11eaa60d",
   "metadata": {},
   "outputs": [],
   "source": [
    "#Look at the types of transactions"
   ]
  },
  {
   "cell_type": "code",
   "execution_count": 32,
   "id": "298d4290",
   "metadata": {},
   "outputs": [
    {
     "data": {
      "text/plain": [
       "array(['Bid Withdrawn', 'Bid', 'Sold', 'Offered', 'Transfer', 'Claimed',\n",
       "       'Offer Withdrawn', '(Wrap)', '(Unwrap)'], dtype=object)"
      ]
     },
     "execution_count": 32,
     "metadata": {},
     "output_type": "execute_result"
    }
   ],
   "source": [
    "punks['txn_type'].unique()"
   ]
  },
  {
   "cell_type": "code",
   "execution_count": 154,
   "id": "f6e61d49",
   "metadata": {},
   "outputs": [
    {
     "data": {
      "application/vnd.plotly.v1+json": {
       "config": {
        "plotlyServerURL": "https://plot.ly"
       },
       "data": [
        {
         "alignmentgroup": "True",
         "hovertemplate": "num_attributes=%{x}<br>txn_type=%{marker.color}<extra></extra>",
         "legendgroup": "",
         "marker": {
          "color": [
           421,
           4118,
           59639,
           76136,
           22897,
           3745,
           455,
           81
          ],
          "coloraxis": "coloraxis",
          "pattern": {
           "shape": ""
          }
         },
         "name": "",
         "offsetgroup": "",
         "orientation": "v",
         "showlegend": false,
         "textposition": "auto",
         "type": "bar",
         "x": [
          0,
          1,
          2,
          3,
          4,
          5,
          6,
          7
         ],
         "xaxis": "x",
         "y": [
          421,
          4118,
          59639,
          76136,
          22897,
          3745,
          455,
          81
         ],
         "yaxis": "y"
        }
       ],
       "layout": {
        "barmode": "relative",
        "coloraxis": {
         "colorbar": {
          "title": {
           "text": "txn_type"
          }
         },
         "colorscale": [
          [
           0,
           "#0d0887"
          ],
          [
           0.1111111111111111,
           "#46039f"
          ],
          [
           0.2222222222222222,
           "#7201a8"
          ],
          [
           0.3333333333333333,
           "#9c179e"
          ],
          [
           0.4444444444444444,
           "#bd3786"
          ],
          [
           0.5555555555555556,
           "#d8576b"
          ],
          [
           0.6666666666666666,
           "#ed7953"
          ],
          [
           0.7777777777777778,
           "#fb9f3a"
          ],
          [
           0.8888888888888888,
           "#fdca26"
          ],
          [
           1,
           "#f0f921"
          ]
         ]
        },
        "legend": {
         "tracegroupgap": 0
        },
        "template": {
         "data": {
          "bar": [
           {
            "error_x": {
             "color": "#2a3f5f"
            },
            "error_y": {
             "color": "#2a3f5f"
            },
            "marker": {
             "line": {
              "color": "#E5ECF6",
              "width": 0.5
             },
             "pattern": {
              "fillmode": "overlay",
              "size": 10,
              "solidity": 0.2
             }
            },
            "type": "bar"
           }
          ],
          "barpolar": [
           {
            "marker": {
             "line": {
              "color": "#E5ECF6",
              "width": 0.5
             },
             "pattern": {
              "fillmode": "overlay",
              "size": 10,
              "solidity": 0.2
             }
            },
            "type": "barpolar"
           }
          ],
          "carpet": [
           {
            "aaxis": {
             "endlinecolor": "#2a3f5f",
             "gridcolor": "white",
             "linecolor": "white",
             "minorgridcolor": "white",
             "startlinecolor": "#2a3f5f"
            },
            "baxis": {
             "endlinecolor": "#2a3f5f",
             "gridcolor": "white",
             "linecolor": "white",
             "minorgridcolor": "white",
             "startlinecolor": "#2a3f5f"
            },
            "type": "carpet"
           }
          ],
          "choropleth": [
           {
            "colorbar": {
             "outlinewidth": 0,
             "ticks": ""
            },
            "type": "choropleth"
           }
          ],
          "contour": [
           {
            "colorbar": {
             "outlinewidth": 0,
             "ticks": ""
            },
            "colorscale": [
             [
              0,
              "#0d0887"
             ],
             [
              0.1111111111111111,
              "#46039f"
             ],
             [
              0.2222222222222222,
              "#7201a8"
             ],
             [
              0.3333333333333333,
              "#9c179e"
             ],
             [
              0.4444444444444444,
              "#bd3786"
             ],
             [
              0.5555555555555556,
              "#d8576b"
             ],
             [
              0.6666666666666666,
              "#ed7953"
             ],
             [
              0.7777777777777778,
              "#fb9f3a"
             ],
             [
              0.8888888888888888,
              "#fdca26"
             ],
             [
              1,
              "#f0f921"
             ]
            ],
            "type": "contour"
           }
          ],
          "contourcarpet": [
           {
            "colorbar": {
             "outlinewidth": 0,
             "ticks": ""
            },
            "type": "contourcarpet"
           }
          ],
          "heatmap": [
           {
            "colorbar": {
             "outlinewidth": 0,
             "ticks": ""
            },
            "colorscale": [
             [
              0,
              "#0d0887"
             ],
             [
              0.1111111111111111,
              "#46039f"
             ],
             [
              0.2222222222222222,
              "#7201a8"
             ],
             [
              0.3333333333333333,
              "#9c179e"
             ],
             [
              0.4444444444444444,
              "#bd3786"
             ],
             [
              0.5555555555555556,
              "#d8576b"
             ],
             [
              0.6666666666666666,
              "#ed7953"
             ],
             [
              0.7777777777777778,
              "#fb9f3a"
             ],
             [
              0.8888888888888888,
              "#fdca26"
             ],
             [
              1,
              "#f0f921"
             ]
            ],
            "type": "heatmap"
           }
          ],
          "heatmapgl": [
           {
            "colorbar": {
             "outlinewidth": 0,
             "ticks": ""
            },
            "colorscale": [
             [
              0,
              "#0d0887"
             ],
             [
              0.1111111111111111,
              "#46039f"
             ],
             [
              0.2222222222222222,
              "#7201a8"
             ],
             [
              0.3333333333333333,
              "#9c179e"
             ],
             [
              0.4444444444444444,
              "#bd3786"
             ],
             [
              0.5555555555555556,
              "#d8576b"
             ],
             [
              0.6666666666666666,
              "#ed7953"
             ],
             [
              0.7777777777777778,
              "#fb9f3a"
             ],
             [
              0.8888888888888888,
              "#fdca26"
             ],
             [
              1,
              "#f0f921"
             ]
            ],
            "type": "heatmapgl"
           }
          ],
          "histogram": [
           {
            "marker": {
             "pattern": {
              "fillmode": "overlay",
              "size": 10,
              "solidity": 0.2
             }
            },
            "type": "histogram"
           }
          ],
          "histogram2d": [
           {
            "colorbar": {
             "outlinewidth": 0,
             "ticks": ""
            },
            "colorscale": [
             [
              0,
              "#0d0887"
             ],
             [
              0.1111111111111111,
              "#46039f"
             ],
             [
              0.2222222222222222,
              "#7201a8"
             ],
             [
              0.3333333333333333,
              "#9c179e"
             ],
             [
              0.4444444444444444,
              "#bd3786"
             ],
             [
              0.5555555555555556,
              "#d8576b"
             ],
             [
              0.6666666666666666,
              "#ed7953"
             ],
             [
              0.7777777777777778,
              "#fb9f3a"
             ],
             [
              0.8888888888888888,
              "#fdca26"
             ],
             [
              1,
              "#f0f921"
             ]
            ],
            "type": "histogram2d"
           }
          ],
          "histogram2dcontour": [
           {
            "colorbar": {
             "outlinewidth": 0,
             "ticks": ""
            },
            "colorscale": [
             [
              0,
              "#0d0887"
             ],
             [
              0.1111111111111111,
              "#46039f"
             ],
             [
              0.2222222222222222,
              "#7201a8"
             ],
             [
              0.3333333333333333,
              "#9c179e"
             ],
             [
              0.4444444444444444,
              "#bd3786"
             ],
             [
              0.5555555555555556,
              "#d8576b"
             ],
             [
              0.6666666666666666,
              "#ed7953"
             ],
             [
              0.7777777777777778,
              "#fb9f3a"
             ],
             [
              0.8888888888888888,
              "#fdca26"
             ],
             [
              1,
              "#f0f921"
             ]
            ],
            "type": "histogram2dcontour"
           }
          ],
          "mesh3d": [
           {
            "colorbar": {
             "outlinewidth": 0,
             "ticks": ""
            },
            "type": "mesh3d"
           }
          ],
          "parcoords": [
           {
            "line": {
             "colorbar": {
              "outlinewidth": 0,
              "ticks": ""
             }
            },
            "type": "parcoords"
           }
          ],
          "pie": [
           {
            "automargin": true,
            "type": "pie"
           }
          ],
          "scatter": [
           {
            "marker": {
             "colorbar": {
              "outlinewidth": 0,
              "ticks": ""
             }
            },
            "type": "scatter"
           }
          ],
          "scatter3d": [
           {
            "line": {
             "colorbar": {
              "outlinewidth": 0,
              "ticks": ""
             }
            },
            "marker": {
             "colorbar": {
              "outlinewidth": 0,
              "ticks": ""
             }
            },
            "type": "scatter3d"
           }
          ],
          "scattercarpet": [
           {
            "marker": {
             "colorbar": {
              "outlinewidth": 0,
              "ticks": ""
             }
            },
            "type": "scattercarpet"
           }
          ],
          "scattergeo": [
           {
            "marker": {
             "colorbar": {
              "outlinewidth": 0,
              "ticks": ""
             }
            },
            "type": "scattergeo"
           }
          ],
          "scattergl": [
           {
            "marker": {
             "colorbar": {
              "outlinewidth": 0,
              "ticks": ""
             }
            },
            "type": "scattergl"
           }
          ],
          "scattermapbox": [
           {
            "marker": {
             "colorbar": {
              "outlinewidth": 0,
              "ticks": ""
             }
            },
            "type": "scattermapbox"
           }
          ],
          "scatterpolar": [
           {
            "marker": {
             "colorbar": {
              "outlinewidth": 0,
              "ticks": ""
             }
            },
            "type": "scatterpolar"
           }
          ],
          "scatterpolargl": [
           {
            "marker": {
             "colorbar": {
              "outlinewidth": 0,
              "ticks": ""
             }
            },
            "type": "scatterpolargl"
           }
          ],
          "scatterternary": [
           {
            "marker": {
             "colorbar": {
              "outlinewidth": 0,
              "ticks": ""
             }
            },
            "type": "scatterternary"
           }
          ],
          "surface": [
           {
            "colorbar": {
             "outlinewidth": 0,
             "ticks": ""
            },
            "colorscale": [
             [
              0,
              "#0d0887"
             ],
             [
              0.1111111111111111,
              "#46039f"
             ],
             [
              0.2222222222222222,
              "#7201a8"
             ],
             [
              0.3333333333333333,
              "#9c179e"
             ],
             [
              0.4444444444444444,
              "#bd3786"
             ],
             [
              0.5555555555555556,
              "#d8576b"
             ],
             [
              0.6666666666666666,
              "#ed7953"
             ],
             [
              0.7777777777777778,
              "#fb9f3a"
             ],
             [
              0.8888888888888888,
              "#fdca26"
             ],
             [
              1,
              "#f0f921"
             ]
            ],
            "type": "surface"
           }
          ],
          "table": [
           {
            "cells": {
             "fill": {
              "color": "#EBF0F8"
             },
             "line": {
              "color": "white"
             }
            },
            "header": {
             "fill": {
              "color": "#C8D4E3"
             },
             "line": {
              "color": "white"
             }
            },
            "type": "table"
           }
          ]
         },
         "layout": {
          "annotationdefaults": {
           "arrowcolor": "#2a3f5f",
           "arrowhead": 0,
           "arrowwidth": 1
          },
          "autotypenumbers": "strict",
          "coloraxis": {
           "colorbar": {
            "outlinewidth": 0,
            "ticks": ""
           }
          },
          "colorscale": {
           "diverging": [
            [
             0,
             "#8e0152"
            ],
            [
             0.1,
             "#c51b7d"
            ],
            [
             0.2,
             "#de77ae"
            ],
            [
             0.3,
             "#f1b6da"
            ],
            [
             0.4,
             "#fde0ef"
            ],
            [
             0.5,
             "#f7f7f7"
            ],
            [
             0.6,
             "#e6f5d0"
            ],
            [
             0.7,
             "#b8e186"
            ],
            [
             0.8,
             "#7fbc41"
            ],
            [
             0.9,
             "#4d9221"
            ],
            [
             1,
             "#276419"
            ]
           ],
           "sequential": [
            [
             0,
             "#0d0887"
            ],
            [
             0.1111111111111111,
             "#46039f"
            ],
            [
             0.2222222222222222,
             "#7201a8"
            ],
            [
             0.3333333333333333,
             "#9c179e"
            ],
            [
             0.4444444444444444,
             "#bd3786"
            ],
            [
             0.5555555555555556,
             "#d8576b"
            ],
            [
             0.6666666666666666,
             "#ed7953"
            ],
            [
             0.7777777777777778,
             "#fb9f3a"
            ],
            [
             0.8888888888888888,
             "#fdca26"
            ],
            [
             1,
             "#f0f921"
            ]
           ],
           "sequentialminus": [
            [
             0,
             "#0d0887"
            ],
            [
             0.1111111111111111,
             "#46039f"
            ],
            [
             0.2222222222222222,
             "#7201a8"
            ],
            [
             0.3333333333333333,
             "#9c179e"
            ],
            [
             0.4444444444444444,
             "#bd3786"
            ],
            [
             0.5555555555555556,
             "#d8576b"
            ],
            [
             0.6666666666666666,
             "#ed7953"
            ],
            [
             0.7777777777777778,
             "#fb9f3a"
            ],
            [
             0.8888888888888888,
             "#fdca26"
            ],
            [
             1,
             "#f0f921"
            ]
           ]
          },
          "colorway": [
           "#636efa",
           "#EF553B",
           "#00cc96",
           "#ab63fa",
           "#FFA15A",
           "#19d3f3",
           "#FF6692",
           "#B6E880",
           "#FF97FF",
           "#FECB52"
          ],
          "font": {
           "color": "#2a3f5f"
          },
          "geo": {
           "bgcolor": "white",
           "lakecolor": "white",
           "landcolor": "#E5ECF6",
           "showlakes": true,
           "showland": true,
           "subunitcolor": "white"
          },
          "hoverlabel": {
           "align": "left"
          },
          "hovermode": "closest",
          "mapbox": {
           "style": "light"
          },
          "paper_bgcolor": "white",
          "plot_bgcolor": "#E5ECF6",
          "polar": {
           "angularaxis": {
            "gridcolor": "white",
            "linecolor": "white",
            "ticks": ""
           },
           "bgcolor": "#E5ECF6",
           "radialaxis": {
            "gridcolor": "white",
            "linecolor": "white",
            "ticks": ""
           }
          },
          "scene": {
           "xaxis": {
            "backgroundcolor": "#E5ECF6",
            "gridcolor": "white",
            "gridwidth": 2,
            "linecolor": "white",
            "showbackground": true,
            "ticks": "",
            "zerolinecolor": "white"
           },
           "yaxis": {
            "backgroundcolor": "#E5ECF6",
            "gridcolor": "white",
            "gridwidth": 2,
            "linecolor": "white",
            "showbackground": true,
            "ticks": "",
            "zerolinecolor": "white"
           },
           "zaxis": {
            "backgroundcolor": "#E5ECF6",
            "gridcolor": "white",
            "gridwidth": 2,
            "linecolor": "white",
            "showbackground": true,
            "ticks": "",
            "zerolinecolor": "white"
           }
          },
          "shapedefaults": {
           "line": {
            "color": "#2a3f5f"
           }
          },
          "ternary": {
           "aaxis": {
            "gridcolor": "white",
            "linecolor": "white",
            "ticks": ""
           },
           "baxis": {
            "gridcolor": "white",
            "linecolor": "white",
            "ticks": ""
           },
           "bgcolor": "#E5ECF6",
           "caxis": {
            "gridcolor": "white",
            "linecolor": "white",
            "ticks": ""
           }
          },
          "title": {
           "x": 0.05
          },
          "xaxis": {
           "automargin": true,
           "gridcolor": "white",
           "linecolor": "white",
           "ticks": "",
           "title": {
            "standoff": 15
           },
           "zerolinecolor": "white",
           "zerolinewidth": 2
          },
          "yaxis": {
           "automargin": true,
           "gridcolor": "white",
           "linecolor": "white",
           "ticks": "",
           "title": {
            "standoff": 15
           },
           "zerolinecolor": "white",
           "zerolinewidth": 2
          }
         }
        },
        "title": {
         "text": "Cryptopunk Number attributes Distribution of Number of Transaction"
        },
        "xaxis": {
         "anchor": "y",
         "domain": [
          0,
          1
         ],
         "title": {
          "text": "num_attributes"
         }
        },
        "yaxis": {
         "anchor": "x",
         "domain": [
          0,
          1
         ],
         "title": {
          "text": "txn_type"
         },
         "type": "log"
        }
       }
      },
      "text/html": [
       "<div>                            <div id=\"0826bcf7-78c9-43e8-aa62-d394d1065ad9\" class=\"plotly-graph-div\" style=\"height:525px; width:100%;\"></div>            <script type=\"text/javascript\">                require([\"plotly\"], function(Plotly) {                    window.PLOTLYENV=window.PLOTLYENV || {};                                    if (document.getElementById(\"0826bcf7-78c9-43e8-aa62-d394d1065ad9\")) {                    Plotly.newPlot(                        \"0826bcf7-78c9-43e8-aa62-d394d1065ad9\",                        [{\"alignmentgroup\":\"True\",\"hovertemplate\":\"num_attributes=%{x}<br>txn_type=%{marker.color}<extra></extra>\",\"legendgroup\":\"\",\"marker\":{\"color\":[421,4118,59639,76136,22897,3745,455,81],\"coloraxis\":\"coloraxis\",\"pattern\":{\"shape\":\"\"}},\"name\":\"\",\"offsetgroup\":\"\",\"orientation\":\"v\",\"showlegend\":false,\"textposition\":\"auto\",\"x\":[0,1,2,3,4,5,6,7],\"xaxis\":\"x\",\"y\":[421,4118,59639,76136,22897,3745,455,81],\"yaxis\":\"y\",\"type\":\"bar\"}],                        {\"template\":{\"data\":{\"bar\":[{\"error_x\":{\"color\":\"#2a3f5f\"},\"error_y\":{\"color\":\"#2a3f5f\"},\"marker\":{\"line\":{\"color\":\"#E5ECF6\",\"width\":0.5},\"pattern\":{\"fillmode\":\"overlay\",\"size\":10,\"solidity\":0.2}},\"type\":\"bar\"}],\"barpolar\":[{\"marker\":{\"line\":{\"color\":\"#E5ECF6\",\"width\":0.5},\"pattern\":{\"fillmode\":\"overlay\",\"size\":10,\"solidity\":0.2}},\"type\":\"barpolar\"}],\"carpet\":[{\"aaxis\":{\"endlinecolor\":\"#2a3f5f\",\"gridcolor\":\"white\",\"linecolor\":\"white\",\"minorgridcolor\":\"white\",\"startlinecolor\":\"#2a3f5f\"},\"baxis\":{\"endlinecolor\":\"#2a3f5f\",\"gridcolor\":\"white\",\"linecolor\":\"white\",\"minorgridcolor\":\"white\",\"startlinecolor\":\"#2a3f5f\"},\"type\":\"carpet\"}],\"choropleth\":[{\"colorbar\":{\"outlinewidth\":0,\"ticks\":\"\"},\"type\":\"choropleth\"}],\"contour\":[{\"colorbar\":{\"outlinewidth\":0,\"ticks\":\"\"},\"colorscale\":[[0.0,\"#0d0887\"],[0.1111111111111111,\"#46039f\"],[0.2222222222222222,\"#7201a8\"],[0.3333333333333333,\"#9c179e\"],[0.4444444444444444,\"#bd3786\"],[0.5555555555555556,\"#d8576b\"],[0.6666666666666666,\"#ed7953\"],[0.7777777777777778,\"#fb9f3a\"],[0.8888888888888888,\"#fdca26\"],[1.0,\"#f0f921\"]],\"type\":\"contour\"}],\"contourcarpet\":[{\"colorbar\":{\"outlinewidth\":0,\"ticks\":\"\"},\"type\":\"contourcarpet\"}],\"heatmap\":[{\"colorbar\":{\"outlinewidth\":0,\"ticks\":\"\"},\"colorscale\":[[0.0,\"#0d0887\"],[0.1111111111111111,\"#46039f\"],[0.2222222222222222,\"#7201a8\"],[0.3333333333333333,\"#9c179e\"],[0.4444444444444444,\"#bd3786\"],[0.5555555555555556,\"#d8576b\"],[0.6666666666666666,\"#ed7953\"],[0.7777777777777778,\"#fb9f3a\"],[0.8888888888888888,\"#fdca26\"],[1.0,\"#f0f921\"]],\"type\":\"heatmap\"}],\"heatmapgl\":[{\"colorbar\":{\"outlinewidth\":0,\"ticks\":\"\"},\"colorscale\":[[0.0,\"#0d0887\"],[0.1111111111111111,\"#46039f\"],[0.2222222222222222,\"#7201a8\"],[0.3333333333333333,\"#9c179e\"],[0.4444444444444444,\"#bd3786\"],[0.5555555555555556,\"#d8576b\"],[0.6666666666666666,\"#ed7953\"],[0.7777777777777778,\"#fb9f3a\"],[0.8888888888888888,\"#fdca26\"],[1.0,\"#f0f921\"]],\"type\":\"heatmapgl\"}],\"histogram\":[{\"marker\":{\"pattern\":{\"fillmode\":\"overlay\",\"size\":10,\"solidity\":0.2}},\"type\":\"histogram\"}],\"histogram2d\":[{\"colorbar\":{\"outlinewidth\":0,\"ticks\":\"\"},\"colorscale\":[[0.0,\"#0d0887\"],[0.1111111111111111,\"#46039f\"],[0.2222222222222222,\"#7201a8\"],[0.3333333333333333,\"#9c179e\"],[0.4444444444444444,\"#bd3786\"],[0.5555555555555556,\"#d8576b\"],[0.6666666666666666,\"#ed7953\"],[0.7777777777777778,\"#fb9f3a\"],[0.8888888888888888,\"#fdca26\"],[1.0,\"#f0f921\"]],\"type\":\"histogram2d\"}],\"histogram2dcontour\":[{\"colorbar\":{\"outlinewidth\":0,\"ticks\":\"\"},\"colorscale\":[[0.0,\"#0d0887\"],[0.1111111111111111,\"#46039f\"],[0.2222222222222222,\"#7201a8\"],[0.3333333333333333,\"#9c179e\"],[0.4444444444444444,\"#bd3786\"],[0.5555555555555556,\"#d8576b\"],[0.6666666666666666,\"#ed7953\"],[0.7777777777777778,\"#fb9f3a\"],[0.8888888888888888,\"#fdca26\"],[1.0,\"#f0f921\"]],\"type\":\"histogram2dcontour\"}],\"mesh3d\":[{\"colorbar\":{\"outlinewidth\":0,\"ticks\":\"\"},\"type\":\"mesh3d\"}],\"parcoords\":[{\"line\":{\"colorbar\":{\"outlinewidth\":0,\"ticks\":\"\"}},\"type\":\"parcoords\"}],\"pie\":[{\"automargin\":true,\"type\":\"pie\"}],\"scatter\":[{\"marker\":{\"colorbar\":{\"outlinewidth\":0,\"ticks\":\"\"}},\"type\":\"scatter\"}],\"scatter3d\":[{\"line\":{\"colorbar\":{\"outlinewidth\":0,\"ticks\":\"\"}},\"marker\":{\"colorbar\":{\"outlinewidth\":0,\"ticks\":\"\"}},\"type\":\"scatter3d\"}],\"scattercarpet\":[{\"marker\":{\"colorbar\":{\"outlinewidth\":0,\"ticks\":\"\"}},\"type\":\"scattercarpet\"}],\"scattergeo\":[{\"marker\":{\"colorbar\":{\"outlinewidth\":0,\"ticks\":\"\"}},\"type\":\"scattergeo\"}],\"scattergl\":[{\"marker\":{\"colorbar\":{\"outlinewidth\":0,\"ticks\":\"\"}},\"type\":\"scattergl\"}],\"scattermapbox\":[{\"marker\":{\"colorbar\":{\"outlinewidth\":0,\"ticks\":\"\"}},\"type\":\"scattermapbox\"}],\"scatterpolar\":[{\"marker\":{\"colorbar\":{\"outlinewidth\":0,\"ticks\":\"\"}},\"type\":\"scatterpolar\"}],\"scatterpolargl\":[{\"marker\":{\"colorbar\":{\"outlinewidth\":0,\"ticks\":\"\"}},\"type\":\"scatterpolargl\"}],\"scatterternary\":[{\"marker\":{\"colorbar\":{\"outlinewidth\":0,\"ticks\":\"\"}},\"type\":\"scatterternary\"}],\"surface\":[{\"colorbar\":{\"outlinewidth\":0,\"ticks\":\"\"},\"colorscale\":[[0.0,\"#0d0887\"],[0.1111111111111111,\"#46039f\"],[0.2222222222222222,\"#7201a8\"],[0.3333333333333333,\"#9c179e\"],[0.4444444444444444,\"#bd3786\"],[0.5555555555555556,\"#d8576b\"],[0.6666666666666666,\"#ed7953\"],[0.7777777777777778,\"#fb9f3a\"],[0.8888888888888888,\"#fdca26\"],[1.0,\"#f0f921\"]],\"type\":\"surface\"}],\"table\":[{\"cells\":{\"fill\":{\"color\":\"#EBF0F8\"},\"line\":{\"color\":\"white\"}},\"header\":{\"fill\":{\"color\":\"#C8D4E3\"},\"line\":{\"color\":\"white\"}},\"type\":\"table\"}]},\"layout\":{\"annotationdefaults\":{\"arrowcolor\":\"#2a3f5f\",\"arrowhead\":0,\"arrowwidth\":1},\"autotypenumbers\":\"strict\",\"coloraxis\":{\"colorbar\":{\"outlinewidth\":0,\"ticks\":\"\"}},\"colorscale\":{\"diverging\":[[0,\"#8e0152\"],[0.1,\"#c51b7d\"],[0.2,\"#de77ae\"],[0.3,\"#f1b6da\"],[0.4,\"#fde0ef\"],[0.5,\"#f7f7f7\"],[0.6,\"#e6f5d0\"],[0.7,\"#b8e186\"],[0.8,\"#7fbc41\"],[0.9,\"#4d9221\"],[1,\"#276419\"]],\"sequential\":[[0.0,\"#0d0887\"],[0.1111111111111111,\"#46039f\"],[0.2222222222222222,\"#7201a8\"],[0.3333333333333333,\"#9c179e\"],[0.4444444444444444,\"#bd3786\"],[0.5555555555555556,\"#d8576b\"],[0.6666666666666666,\"#ed7953\"],[0.7777777777777778,\"#fb9f3a\"],[0.8888888888888888,\"#fdca26\"],[1.0,\"#f0f921\"]],\"sequentialminus\":[[0.0,\"#0d0887\"],[0.1111111111111111,\"#46039f\"],[0.2222222222222222,\"#7201a8\"],[0.3333333333333333,\"#9c179e\"],[0.4444444444444444,\"#bd3786\"],[0.5555555555555556,\"#d8576b\"],[0.6666666666666666,\"#ed7953\"],[0.7777777777777778,\"#fb9f3a\"],[0.8888888888888888,\"#fdca26\"],[1.0,\"#f0f921\"]]},\"colorway\":[\"#636efa\",\"#EF553B\",\"#00cc96\",\"#ab63fa\",\"#FFA15A\",\"#19d3f3\",\"#FF6692\",\"#B6E880\",\"#FF97FF\",\"#FECB52\"],\"font\":{\"color\":\"#2a3f5f\"},\"geo\":{\"bgcolor\":\"white\",\"lakecolor\":\"white\",\"landcolor\":\"#E5ECF6\",\"showlakes\":true,\"showland\":true,\"subunitcolor\":\"white\"},\"hoverlabel\":{\"align\":\"left\"},\"hovermode\":\"closest\",\"mapbox\":{\"style\":\"light\"},\"paper_bgcolor\":\"white\",\"plot_bgcolor\":\"#E5ECF6\",\"polar\":{\"angularaxis\":{\"gridcolor\":\"white\",\"linecolor\":\"white\",\"ticks\":\"\"},\"bgcolor\":\"#E5ECF6\",\"radialaxis\":{\"gridcolor\":\"white\",\"linecolor\":\"white\",\"ticks\":\"\"}},\"scene\":{\"xaxis\":{\"backgroundcolor\":\"#E5ECF6\",\"gridcolor\":\"white\",\"gridwidth\":2,\"linecolor\":\"white\",\"showbackground\":true,\"ticks\":\"\",\"zerolinecolor\":\"white\"},\"yaxis\":{\"backgroundcolor\":\"#E5ECF6\",\"gridcolor\":\"white\",\"gridwidth\":2,\"linecolor\":\"white\",\"showbackground\":true,\"ticks\":\"\",\"zerolinecolor\":\"white\"},\"zaxis\":{\"backgroundcolor\":\"#E5ECF6\",\"gridcolor\":\"white\",\"gridwidth\":2,\"linecolor\":\"white\",\"showbackground\":true,\"ticks\":\"\",\"zerolinecolor\":\"white\"}},\"shapedefaults\":{\"line\":{\"color\":\"#2a3f5f\"}},\"ternary\":{\"aaxis\":{\"gridcolor\":\"white\",\"linecolor\":\"white\",\"ticks\":\"\"},\"baxis\":{\"gridcolor\":\"white\",\"linecolor\":\"white\",\"ticks\":\"\"},\"bgcolor\":\"#E5ECF6\",\"caxis\":{\"gridcolor\":\"white\",\"linecolor\":\"white\",\"ticks\":\"\"}},\"title\":{\"x\":0.05},\"xaxis\":{\"automargin\":true,\"gridcolor\":\"white\",\"linecolor\":\"white\",\"ticks\":\"\",\"title\":{\"standoff\":15},\"zerolinecolor\":\"white\",\"zerolinewidth\":2},\"yaxis\":{\"automargin\":true,\"gridcolor\":\"white\",\"linecolor\":\"white\",\"ticks\":\"\",\"title\":{\"standoff\":15},\"zerolinecolor\":\"white\",\"zerolinewidth\":2}}},\"xaxis\":{\"anchor\":\"y\",\"domain\":[0.0,1.0],\"title\":{\"text\":\"num_attributes\"}},\"yaxis\":{\"anchor\":\"x\",\"domain\":[0.0,1.0],\"title\":{\"text\":\"txn_type\"},\"type\":\"log\"},\"coloraxis\":{\"colorbar\":{\"title\":{\"text\":\"txn_type\"}},\"colorscale\":[[0.0,\"#0d0887\"],[0.1111111111111111,\"#46039f\"],[0.2222222222222222,\"#7201a8\"],[0.3333333333333333,\"#9c179e\"],[0.4444444444444444,\"#bd3786\"],[0.5555555555555556,\"#d8576b\"],[0.6666666666666666,\"#ed7953\"],[0.7777777777777778,\"#fb9f3a\"],[0.8888888888888888,\"#fdca26\"],[1.0,\"#f0f921\"]]},\"legend\":{\"tracegroupgap\":0},\"title\":{\"text\":\"Cryptopunk Number attributes Distribution of Number of Transaction\"},\"barmode\":\"relative\"},                        {\"responsive\": true}                    ).then(function(){\n",
       "                            \n",
       "var gd = document.getElementById('0826bcf7-78c9-43e8-aa62-d394d1065ad9');\n",
       "var x = new MutationObserver(function (mutations, observer) {{\n",
       "        var display = window.getComputedStyle(gd).display;\n",
       "        if (!display || display === 'none') {{\n",
       "            console.log([gd, 'removed!']);\n",
       "            Plotly.purge(gd);\n",
       "            observer.disconnect();\n",
       "        }}\n",
       "}});\n",
       "\n",
       "// Listen for the removal of the full notebook cells\n",
       "var notebookContainer = gd.closest('#notebook-container');\n",
       "if (notebookContainer) {{\n",
       "    x.observe(notebookContainer, {childList: true});\n",
       "}}\n",
       "\n",
       "// Listen for the clearing of the current output cell\n",
       "var outputEl = gd.closest('.output');\n",
       "if (outputEl) {{\n",
       "    x.observe(outputEl, {childList: true});\n",
       "}}\n",
       "\n",
       "                        })                };                });            </script>        </div>"
      ]
     },
     "metadata": {},
     "output_type": "display_data"
    }
   ],
   "source": [
    "fig = px.bar(b, x=\"num_attributes\", y=\"txn_type\", color=\"txn_type\", title=\"Cryptopunk Number attributes Distribution of Number of Transaction\", log_y = True)\n",
    "fig.show()"
   ]
  },
  {
   "cell_type": "code",
   "execution_count": 34,
   "id": "0ce4e2c5",
   "metadata": {},
   "outputs": [],
   "source": [
    "#We see confirmation that the majority of transactions by the number of attributes are 2 and 3, since the largest number of cryptopunks have 2 and 3 attributes."
   ]
  },
  {
   "cell_type": "code",
   "execution_count": 35,
   "id": "e43ad4b3",
   "metadata": {},
   "outputs": [],
   "source": [
    "fig.write_image('Cryptopunk Rank Distribution of Number of TransactionsType.png')"
   ]
  },
  {
   "cell_type": "code",
   "execution_count": 36,
   "id": "d295a912",
   "metadata": {},
   "outputs": [],
   "source": [
    "# Group by Type\n",
    "type_vs_tr = punks.groupby(['type']).count()\n",
    "type_vs_tr = type_vs_tr.reset_index()"
   ]
  },
  {
   "cell_type": "code",
   "execution_count": 155,
   "id": "1360a3ee",
   "metadata": {},
   "outputs": [
    {
     "data": {
      "application/vnd.plotly.v1+json": {
       "config": {
        "plotlyServerURL": "https://plot.ly"
       },
       "data": [
        {
         "alignmentgroup": "True",
         "hovertemplate": "type=%{x}<br>txn_type=%{marker.color}<extra></extra>",
         "legendgroup": "",
         "marker": {
          "color": [
           427,
           787,
           59873,
           104154,
           2251
          ],
          "coloraxis": "coloraxis",
          "pattern": {
           "shape": ""
          }
         },
         "name": "",
         "offsetgroup": "",
         "orientation": "v",
         "showlegend": false,
         "textposition": "auto",
         "type": "bar",
         "x": [
          "Alien",
          "Ape",
          "Female",
          "Male",
          "Zombie"
         ],
         "xaxis": "x",
         "y": [
          427,
          787,
          59873,
          104154,
          2251
         ],
         "yaxis": "y"
        }
       ],
       "layout": {
        "barmode": "relative",
        "coloraxis": {
         "colorbar": {
          "title": {
           "text": "txn_type"
          }
         },
         "colorscale": [
          [
           0,
           "#0d0887"
          ],
          [
           0.1111111111111111,
           "#46039f"
          ],
          [
           0.2222222222222222,
           "#7201a8"
          ],
          [
           0.3333333333333333,
           "#9c179e"
          ],
          [
           0.4444444444444444,
           "#bd3786"
          ],
          [
           0.5555555555555556,
           "#d8576b"
          ],
          [
           0.6666666666666666,
           "#ed7953"
          ],
          [
           0.7777777777777778,
           "#fb9f3a"
          ],
          [
           0.8888888888888888,
           "#fdca26"
          ],
          [
           1,
           "#f0f921"
          ]
         ]
        },
        "legend": {
         "tracegroupgap": 0
        },
        "template": {
         "data": {
          "bar": [
           {
            "error_x": {
             "color": "#2a3f5f"
            },
            "error_y": {
             "color": "#2a3f5f"
            },
            "marker": {
             "line": {
              "color": "#E5ECF6",
              "width": 0.5
             },
             "pattern": {
              "fillmode": "overlay",
              "size": 10,
              "solidity": 0.2
             }
            },
            "type": "bar"
           }
          ],
          "barpolar": [
           {
            "marker": {
             "line": {
              "color": "#E5ECF6",
              "width": 0.5
             },
             "pattern": {
              "fillmode": "overlay",
              "size": 10,
              "solidity": 0.2
             }
            },
            "type": "barpolar"
           }
          ],
          "carpet": [
           {
            "aaxis": {
             "endlinecolor": "#2a3f5f",
             "gridcolor": "white",
             "linecolor": "white",
             "minorgridcolor": "white",
             "startlinecolor": "#2a3f5f"
            },
            "baxis": {
             "endlinecolor": "#2a3f5f",
             "gridcolor": "white",
             "linecolor": "white",
             "minorgridcolor": "white",
             "startlinecolor": "#2a3f5f"
            },
            "type": "carpet"
           }
          ],
          "choropleth": [
           {
            "colorbar": {
             "outlinewidth": 0,
             "ticks": ""
            },
            "type": "choropleth"
           }
          ],
          "contour": [
           {
            "colorbar": {
             "outlinewidth": 0,
             "ticks": ""
            },
            "colorscale": [
             [
              0,
              "#0d0887"
             ],
             [
              0.1111111111111111,
              "#46039f"
             ],
             [
              0.2222222222222222,
              "#7201a8"
             ],
             [
              0.3333333333333333,
              "#9c179e"
             ],
             [
              0.4444444444444444,
              "#bd3786"
             ],
             [
              0.5555555555555556,
              "#d8576b"
             ],
             [
              0.6666666666666666,
              "#ed7953"
             ],
             [
              0.7777777777777778,
              "#fb9f3a"
             ],
             [
              0.8888888888888888,
              "#fdca26"
             ],
             [
              1,
              "#f0f921"
             ]
            ],
            "type": "contour"
           }
          ],
          "contourcarpet": [
           {
            "colorbar": {
             "outlinewidth": 0,
             "ticks": ""
            },
            "type": "contourcarpet"
           }
          ],
          "heatmap": [
           {
            "colorbar": {
             "outlinewidth": 0,
             "ticks": ""
            },
            "colorscale": [
             [
              0,
              "#0d0887"
             ],
             [
              0.1111111111111111,
              "#46039f"
             ],
             [
              0.2222222222222222,
              "#7201a8"
             ],
             [
              0.3333333333333333,
              "#9c179e"
             ],
             [
              0.4444444444444444,
              "#bd3786"
             ],
             [
              0.5555555555555556,
              "#d8576b"
             ],
             [
              0.6666666666666666,
              "#ed7953"
             ],
             [
              0.7777777777777778,
              "#fb9f3a"
             ],
             [
              0.8888888888888888,
              "#fdca26"
             ],
             [
              1,
              "#f0f921"
             ]
            ],
            "type": "heatmap"
           }
          ],
          "heatmapgl": [
           {
            "colorbar": {
             "outlinewidth": 0,
             "ticks": ""
            },
            "colorscale": [
             [
              0,
              "#0d0887"
             ],
             [
              0.1111111111111111,
              "#46039f"
             ],
             [
              0.2222222222222222,
              "#7201a8"
             ],
             [
              0.3333333333333333,
              "#9c179e"
             ],
             [
              0.4444444444444444,
              "#bd3786"
             ],
             [
              0.5555555555555556,
              "#d8576b"
             ],
             [
              0.6666666666666666,
              "#ed7953"
             ],
             [
              0.7777777777777778,
              "#fb9f3a"
             ],
             [
              0.8888888888888888,
              "#fdca26"
             ],
             [
              1,
              "#f0f921"
             ]
            ],
            "type": "heatmapgl"
           }
          ],
          "histogram": [
           {
            "marker": {
             "pattern": {
              "fillmode": "overlay",
              "size": 10,
              "solidity": 0.2
             }
            },
            "type": "histogram"
           }
          ],
          "histogram2d": [
           {
            "colorbar": {
             "outlinewidth": 0,
             "ticks": ""
            },
            "colorscale": [
             [
              0,
              "#0d0887"
             ],
             [
              0.1111111111111111,
              "#46039f"
             ],
             [
              0.2222222222222222,
              "#7201a8"
             ],
             [
              0.3333333333333333,
              "#9c179e"
             ],
             [
              0.4444444444444444,
              "#bd3786"
             ],
             [
              0.5555555555555556,
              "#d8576b"
             ],
             [
              0.6666666666666666,
              "#ed7953"
             ],
             [
              0.7777777777777778,
              "#fb9f3a"
             ],
             [
              0.8888888888888888,
              "#fdca26"
             ],
             [
              1,
              "#f0f921"
             ]
            ],
            "type": "histogram2d"
           }
          ],
          "histogram2dcontour": [
           {
            "colorbar": {
             "outlinewidth": 0,
             "ticks": ""
            },
            "colorscale": [
             [
              0,
              "#0d0887"
             ],
             [
              0.1111111111111111,
              "#46039f"
             ],
             [
              0.2222222222222222,
              "#7201a8"
             ],
             [
              0.3333333333333333,
              "#9c179e"
             ],
             [
              0.4444444444444444,
              "#bd3786"
             ],
             [
              0.5555555555555556,
              "#d8576b"
             ],
             [
              0.6666666666666666,
              "#ed7953"
             ],
             [
              0.7777777777777778,
              "#fb9f3a"
             ],
             [
              0.8888888888888888,
              "#fdca26"
             ],
             [
              1,
              "#f0f921"
             ]
            ],
            "type": "histogram2dcontour"
           }
          ],
          "mesh3d": [
           {
            "colorbar": {
             "outlinewidth": 0,
             "ticks": ""
            },
            "type": "mesh3d"
           }
          ],
          "parcoords": [
           {
            "line": {
             "colorbar": {
              "outlinewidth": 0,
              "ticks": ""
             }
            },
            "type": "parcoords"
           }
          ],
          "pie": [
           {
            "automargin": true,
            "type": "pie"
           }
          ],
          "scatter": [
           {
            "marker": {
             "colorbar": {
              "outlinewidth": 0,
              "ticks": ""
             }
            },
            "type": "scatter"
           }
          ],
          "scatter3d": [
           {
            "line": {
             "colorbar": {
              "outlinewidth": 0,
              "ticks": ""
             }
            },
            "marker": {
             "colorbar": {
              "outlinewidth": 0,
              "ticks": ""
             }
            },
            "type": "scatter3d"
           }
          ],
          "scattercarpet": [
           {
            "marker": {
             "colorbar": {
              "outlinewidth": 0,
              "ticks": ""
             }
            },
            "type": "scattercarpet"
           }
          ],
          "scattergeo": [
           {
            "marker": {
             "colorbar": {
              "outlinewidth": 0,
              "ticks": ""
             }
            },
            "type": "scattergeo"
           }
          ],
          "scattergl": [
           {
            "marker": {
             "colorbar": {
              "outlinewidth": 0,
              "ticks": ""
             }
            },
            "type": "scattergl"
           }
          ],
          "scattermapbox": [
           {
            "marker": {
             "colorbar": {
              "outlinewidth": 0,
              "ticks": ""
             }
            },
            "type": "scattermapbox"
           }
          ],
          "scatterpolar": [
           {
            "marker": {
             "colorbar": {
              "outlinewidth": 0,
              "ticks": ""
             }
            },
            "type": "scatterpolar"
           }
          ],
          "scatterpolargl": [
           {
            "marker": {
             "colorbar": {
              "outlinewidth": 0,
              "ticks": ""
             }
            },
            "type": "scatterpolargl"
           }
          ],
          "scatterternary": [
           {
            "marker": {
             "colorbar": {
              "outlinewidth": 0,
              "ticks": ""
             }
            },
            "type": "scatterternary"
           }
          ],
          "surface": [
           {
            "colorbar": {
             "outlinewidth": 0,
             "ticks": ""
            },
            "colorscale": [
             [
              0,
              "#0d0887"
             ],
             [
              0.1111111111111111,
              "#46039f"
             ],
             [
              0.2222222222222222,
              "#7201a8"
             ],
             [
              0.3333333333333333,
              "#9c179e"
             ],
             [
              0.4444444444444444,
              "#bd3786"
             ],
             [
              0.5555555555555556,
              "#d8576b"
             ],
             [
              0.6666666666666666,
              "#ed7953"
             ],
             [
              0.7777777777777778,
              "#fb9f3a"
             ],
             [
              0.8888888888888888,
              "#fdca26"
             ],
             [
              1,
              "#f0f921"
             ]
            ],
            "type": "surface"
           }
          ],
          "table": [
           {
            "cells": {
             "fill": {
              "color": "#EBF0F8"
             },
             "line": {
              "color": "white"
             }
            },
            "header": {
             "fill": {
              "color": "#C8D4E3"
             },
             "line": {
              "color": "white"
             }
            },
            "type": "table"
           }
          ]
         },
         "layout": {
          "annotationdefaults": {
           "arrowcolor": "#2a3f5f",
           "arrowhead": 0,
           "arrowwidth": 1
          },
          "autotypenumbers": "strict",
          "coloraxis": {
           "colorbar": {
            "outlinewidth": 0,
            "ticks": ""
           }
          },
          "colorscale": {
           "diverging": [
            [
             0,
             "#8e0152"
            ],
            [
             0.1,
             "#c51b7d"
            ],
            [
             0.2,
             "#de77ae"
            ],
            [
             0.3,
             "#f1b6da"
            ],
            [
             0.4,
             "#fde0ef"
            ],
            [
             0.5,
             "#f7f7f7"
            ],
            [
             0.6,
             "#e6f5d0"
            ],
            [
             0.7,
             "#b8e186"
            ],
            [
             0.8,
             "#7fbc41"
            ],
            [
             0.9,
             "#4d9221"
            ],
            [
             1,
             "#276419"
            ]
           ],
           "sequential": [
            [
             0,
             "#0d0887"
            ],
            [
             0.1111111111111111,
             "#46039f"
            ],
            [
             0.2222222222222222,
             "#7201a8"
            ],
            [
             0.3333333333333333,
             "#9c179e"
            ],
            [
             0.4444444444444444,
             "#bd3786"
            ],
            [
             0.5555555555555556,
             "#d8576b"
            ],
            [
             0.6666666666666666,
             "#ed7953"
            ],
            [
             0.7777777777777778,
             "#fb9f3a"
            ],
            [
             0.8888888888888888,
             "#fdca26"
            ],
            [
             1,
             "#f0f921"
            ]
           ],
           "sequentialminus": [
            [
             0,
             "#0d0887"
            ],
            [
             0.1111111111111111,
             "#46039f"
            ],
            [
             0.2222222222222222,
             "#7201a8"
            ],
            [
             0.3333333333333333,
             "#9c179e"
            ],
            [
             0.4444444444444444,
             "#bd3786"
            ],
            [
             0.5555555555555556,
             "#d8576b"
            ],
            [
             0.6666666666666666,
             "#ed7953"
            ],
            [
             0.7777777777777778,
             "#fb9f3a"
            ],
            [
             0.8888888888888888,
             "#fdca26"
            ],
            [
             1,
             "#f0f921"
            ]
           ]
          },
          "colorway": [
           "#636efa",
           "#EF553B",
           "#00cc96",
           "#ab63fa",
           "#FFA15A",
           "#19d3f3",
           "#FF6692",
           "#B6E880",
           "#FF97FF",
           "#FECB52"
          ],
          "font": {
           "color": "#2a3f5f"
          },
          "geo": {
           "bgcolor": "white",
           "lakecolor": "white",
           "landcolor": "#E5ECF6",
           "showlakes": true,
           "showland": true,
           "subunitcolor": "white"
          },
          "hoverlabel": {
           "align": "left"
          },
          "hovermode": "closest",
          "mapbox": {
           "style": "light"
          },
          "paper_bgcolor": "white",
          "plot_bgcolor": "#E5ECF6",
          "polar": {
           "angularaxis": {
            "gridcolor": "white",
            "linecolor": "white",
            "ticks": ""
           },
           "bgcolor": "#E5ECF6",
           "radialaxis": {
            "gridcolor": "white",
            "linecolor": "white",
            "ticks": ""
           }
          },
          "scene": {
           "xaxis": {
            "backgroundcolor": "#E5ECF6",
            "gridcolor": "white",
            "gridwidth": 2,
            "linecolor": "white",
            "showbackground": true,
            "ticks": "",
            "zerolinecolor": "white"
           },
           "yaxis": {
            "backgroundcolor": "#E5ECF6",
            "gridcolor": "white",
            "gridwidth": 2,
            "linecolor": "white",
            "showbackground": true,
            "ticks": "",
            "zerolinecolor": "white"
           },
           "zaxis": {
            "backgroundcolor": "#E5ECF6",
            "gridcolor": "white",
            "gridwidth": 2,
            "linecolor": "white",
            "showbackground": true,
            "ticks": "",
            "zerolinecolor": "white"
           }
          },
          "shapedefaults": {
           "line": {
            "color": "#2a3f5f"
           }
          },
          "ternary": {
           "aaxis": {
            "gridcolor": "white",
            "linecolor": "white",
            "ticks": ""
           },
           "baxis": {
            "gridcolor": "white",
            "linecolor": "white",
            "ticks": ""
           },
           "bgcolor": "#E5ECF6",
           "caxis": {
            "gridcolor": "white",
            "linecolor": "white",
            "ticks": ""
           }
          },
          "title": {
           "x": 0.05
          },
          "xaxis": {
           "automargin": true,
           "gridcolor": "white",
           "linecolor": "white",
           "ticks": "",
           "title": {
            "standoff": 15
           },
           "zerolinecolor": "white",
           "zerolinewidth": 2
          },
          "yaxis": {
           "automargin": true,
           "gridcolor": "white",
           "linecolor": "white",
           "ticks": "",
           "title": {
            "standoff": 15
           },
           "zerolinecolor": "white",
           "zerolinewidth": 2
          }
         }
        },
        "title": {
         "text": "Cryptopunk Type Distribution of Number Transactions"
        },
        "xaxis": {
         "anchor": "y",
         "domain": [
          0,
          1
         ],
         "title": {
          "text": "type"
         }
        },
        "yaxis": {
         "anchor": "x",
         "domain": [
          0,
          1
         ],
         "title": {
          "text": "txn_type"
         },
         "type": "log"
        }
       }
      },
      "text/html": [
       "<div>                            <div id=\"834a02fd-47cb-4fa2-9a02-618557efd919\" class=\"plotly-graph-div\" style=\"height:525px; width:100%;\"></div>            <script type=\"text/javascript\">                require([\"plotly\"], function(Plotly) {                    window.PLOTLYENV=window.PLOTLYENV || {};                                    if (document.getElementById(\"834a02fd-47cb-4fa2-9a02-618557efd919\")) {                    Plotly.newPlot(                        \"834a02fd-47cb-4fa2-9a02-618557efd919\",                        [{\"alignmentgroup\":\"True\",\"hovertemplate\":\"type=%{x}<br>txn_type=%{marker.color}<extra></extra>\",\"legendgroup\":\"\",\"marker\":{\"color\":[427,787,59873,104154,2251],\"coloraxis\":\"coloraxis\",\"pattern\":{\"shape\":\"\"}},\"name\":\"\",\"offsetgroup\":\"\",\"orientation\":\"v\",\"showlegend\":false,\"textposition\":\"auto\",\"x\":[\"Alien\",\"Ape\",\"Female\",\"Male\",\"Zombie\"],\"xaxis\":\"x\",\"y\":[427,787,59873,104154,2251],\"yaxis\":\"y\",\"type\":\"bar\"}],                        {\"template\":{\"data\":{\"bar\":[{\"error_x\":{\"color\":\"#2a3f5f\"},\"error_y\":{\"color\":\"#2a3f5f\"},\"marker\":{\"line\":{\"color\":\"#E5ECF6\",\"width\":0.5},\"pattern\":{\"fillmode\":\"overlay\",\"size\":10,\"solidity\":0.2}},\"type\":\"bar\"}],\"barpolar\":[{\"marker\":{\"line\":{\"color\":\"#E5ECF6\",\"width\":0.5},\"pattern\":{\"fillmode\":\"overlay\",\"size\":10,\"solidity\":0.2}},\"type\":\"barpolar\"}],\"carpet\":[{\"aaxis\":{\"endlinecolor\":\"#2a3f5f\",\"gridcolor\":\"white\",\"linecolor\":\"white\",\"minorgridcolor\":\"white\",\"startlinecolor\":\"#2a3f5f\"},\"baxis\":{\"endlinecolor\":\"#2a3f5f\",\"gridcolor\":\"white\",\"linecolor\":\"white\",\"minorgridcolor\":\"white\",\"startlinecolor\":\"#2a3f5f\"},\"type\":\"carpet\"}],\"choropleth\":[{\"colorbar\":{\"outlinewidth\":0,\"ticks\":\"\"},\"type\":\"choropleth\"}],\"contour\":[{\"colorbar\":{\"outlinewidth\":0,\"ticks\":\"\"},\"colorscale\":[[0.0,\"#0d0887\"],[0.1111111111111111,\"#46039f\"],[0.2222222222222222,\"#7201a8\"],[0.3333333333333333,\"#9c179e\"],[0.4444444444444444,\"#bd3786\"],[0.5555555555555556,\"#d8576b\"],[0.6666666666666666,\"#ed7953\"],[0.7777777777777778,\"#fb9f3a\"],[0.8888888888888888,\"#fdca26\"],[1.0,\"#f0f921\"]],\"type\":\"contour\"}],\"contourcarpet\":[{\"colorbar\":{\"outlinewidth\":0,\"ticks\":\"\"},\"type\":\"contourcarpet\"}],\"heatmap\":[{\"colorbar\":{\"outlinewidth\":0,\"ticks\":\"\"},\"colorscale\":[[0.0,\"#0d0887\"],[0.1111111111111111,\"#46039f\"],[0.2222222222222222,\"#7201a8\"],[0.3333333333333333,\"#9c179e\"],[0.4444444444444444,\"#bd3786\"],[0.5555555555555556,\"#d8576b\"],[0.6666666666666666,\"#ed7953\"],[0.7777777777777778,\"#fb9f3a\"],[0.8888888888888888,\"#fdca26\"],[1.0,\"#f0f921\"]],\"type\":\"heatmap\"}],\"heatmapgl\":[{\"colorbar\":{\"outlinewidth\":0,\"ticks\":\"\"},\"colorscale\":[[0.0,\"#0d0887\"],[0.1111111111111111,\"#46039f\"],[0.2222222222222222,\"#7201a8\"],[0.3333333333333333,\"#9c179e\"],[0.4444444444444444,\"#bd3786\"],[0.5555555555555556,\"#d8576b\"],[0.6666666666666666,\"#ed7953\"],[0.7777777777777778,\"#fb9f3a\"],[0.8888888888888888,\"#fdca26\"],[1.0,\"#f0f921\"]],\"type\":\"heatmapgl\"}],\"histogram\":[{\"marker\":{\"pattern\":{\"fillmode\":\"overlay\",\"size\":10,\"solidity\":0.2}},\"type\":\"histogram\"}],\"histogram2d\":[{\"colorbar\":{\"outlinewidth\":0,\"ticks\":\"\"},\"colorscale\":[[0.0,\"#0d0887\"],[0.1111111111111111,\"#46039f\"],[0.2222222222222222,\"#7201a8\"],[0.3333333333333333,\"#9c179e\"],[0.4444444444444444,\"#bd3786\"],[0.5555555555555556,\"#d8576b\"],[0.6666666666666666,\"#ed7953\"],[0.7777777777777778,\"#fb9f3a\"],[0.8888888888888888,\"#fdca26\"],[1.0,\"#f0f921\"]],\"type\":\"histogram2d\"}],\"histogram2dcontour\":[{\"colorbar\":{\"outlinewidth\":0,\"ticks\":\"\"},\"colorscale\":[[0.0,\"#0d0887\"],[0.1111111111111111,\"#46039f\"],[0.2222222222222222,\"#7201a8\"],[0.3333333333333333,\"#9c179e\"],[0.4444444444444444,\"#bd3786\"],[0.5555555555555556,\"#d8576b\"],[0.6666666666666666,\"#ed7953\"],[0.7777777777777778,\"#fb9f3a\"],[0.8888888888888888,\"#fdca26\"],[1.0,\"#f0f921\"]],\"type\":\"histogram2dcontour\"}],\"mesh3d\":[{\"colorbar\":{\"outlinewidth\":0,\"ticks\":\"\"},\"type\":\"mesh3d\"}],\"parcoords\":[{\"line\":{\"colorbar\":{\"outlinewidth\":0,\"ticks\":\"\"}},\"type\":\"parcoords\"}],\"pie\":[{\"automargin\":true,\"type\":\"pie\"}],\"scatter\":[{\"marker\":{\"colorbar\":{\"outlinewidth\":0,\"ticks\":\"\"}},\"type\":\"scatter\"}],\"scatter3d\":[{\"line\":{\"colorbar\":{\"outlinewidth\":0,\"ticks\":\"\"}},\"marker\":{\"colorbar\":{\"outlinewidth\":0,\"ticks\":\"\"}},\"type\":\"scatter3d\"}],\"scattercarpet\":[{\"marker\":{\"colorbar\":{\"outlinewidth\":0,\"ticks\":\"\"}},\"type\":\"scattercarpet\"}],\"scattergeo\":[{\"marker\":{\"colorbar\":{\"outlinewidth\":0,\"ticks\":\"\"}},\"type\":\"scattergeo\"}],\"scattergl\":[{\"marker\":{\"colorbar\":{\"outlinewidth\":0,\"ticks\":\"\"}},\"type\":\"scattergl\"}],\"scattermapbox\":[{\"marker\":{\"colorbar\":{\"outlinewidth\":0,\"ticks\":\"\"}},\"type\":\"scattermapbox\"}],\"scatterpolar\":[{\"marker\":{\"colorbar\":{\"outlinewidth\":0,\"ticks\":\"\"}},\"type\":\"scatterpolar\"}],\"scatterpolargl\":[{\"marker\":{\"colorbar\":{\"outlinewidth\":0,\"ticks\":\"\"}},\"type\":\"scatterpolargl\"}],\"scatterternary\":[{\"marker\":{\"colorbar\":{\"outlinewidth\":0,\"ticks\":\"\"}},\"type\":\"scatterternary\"}],\"surface\":[{\"colorbar\":{\"outlinewidth\":0,\"ticks\":\"\"},\"colorscale\":[[0.0,\"#0d0887\"],[0.1111111111111111,\"#46039f\"],[0.2222222222222222,\"#7201a8\"],[0.3333333333333333,\"#9c179e\"],[0.4444444444444444,\"#bd3786\"],[0.5555555555555556,\"#d8576b\"],[0.6666666666666666,\"#ed7953\"],[0.7777777777777778,\"#fb9f3a\"],[0.8888888888888888,\"#fdca26\"],[1.0,\"#f0f921\"]],\"type\":\"surface\"}],\"table\":[{\"cells\":{\"fill\":{\"color\":\"#EBF0F8\"},\"line\":{\"color\":\"white\"}},\"header\":{\"fill\":{\"color\":\"#C8D4E3\"},\"line\":{\"color\":\"white\"}},\"type\":\"table\"}]},\"layout\":{\"annotationdefaults\":{\"arrowcolor\":\"#2a3f5f\",\"arrowhead\":0,\"arrowwidth\":1},\"autotypenumbers\":\"strict\",\"coloraxis\":{\"colorbar\":{\"outlinewidth\":0,\"ticks\":\"\"}},\"colorscale\":{\"diverging\":[[0,\"#8e0152\"],[0.1,\"#c51b7d\"],[0.2,\"#de77ae\"],[0.3,\"#f1b6da\"],[0.4,\"#fde0ef\"],[0.5,\"#f7f7f7\"],[0.6,\"#e6f5d0\"],[0.7,\"#b8e186\"],[0.8,\"#7fbc41\"],[0.9,\"#4d9221\"],[1,\"#276419\"]],\"sequential\":[[0.0,\"#0d0887\"],[0.1111111111111111,\"#46039f\"],[0.2222222222222222,\"#7201a8\"],[0.3333333333333333,\"#9c179e\"],[0.4444444444444444,\"#bd3786\"],[0.5555555555555556,\"#d8576b\"],[0.6666666666666666,\"#ed7953\"],[0.7777777777777778,\"#fb9f3a\"],[0.8888888888888888,\"#fdca26\"],[1.0,\"#f0f921\"]],\"sequentialminus\":[[0.0,\"#0d0887\"],[0.1111111111111111,\"#46039f\"],[0.2222222222222222,\"#7201a8\"],[0.3333333333333333,\"#9c179e\"],[0.4444444444444444,\"#bd3786\"],[0.5555555555555556,\"#d8576b\"],[0.6666666666666666,\"#ed7953\"],[0.7777777777777778,\"#fb9f3a\"],[0.8888888888888888,\"#fdca26\"],[1.0,\"#f0f921\"]]},\"colorway\":[\"#636efa\",\"#EF553B\",\"#00cc96\",\"#ab63fa\",\"#FFA15A\",\"#19d3f3\",\"#FF6692\",\"#B6E880\",\"#FF97FF\",\"#FECB52\"],\"font\":{\"color\":\"#2a3f5f\"},\"geo\":{\"bgcolor\":\"white\",\"lakecolor\":\"white\",\"landcolor\":\"#E5ECF6\",\"showlakes\":true,\"showland\":true,\"subunitcolor\":\"white\"},\"hoverlabel\":{\"align\":\"left\"},\"hovermode\":\"closest\",\"mapbox\":{\"style\":\"light\"},\"paper_bgcolor\":\"white\",\"plot_bgcolor\":\"#E5ECF6\",\"polar\":{\"angularaxis\":{\"gridcolor\":\"white\",\"linecolor\":\"white\",\"ticks\":\"\"},\"bgcolor\":\"#E5ECF6\",\"radialaxis\":{\"gridcolor\":\"white\",\"linecolor\":\"white\",\"ticks\":\"\"}},\"scene\":{\"xaxis\":{\"backgroundcolor\":\"#E5ECF6\",\"gridcolor\":\"white\",\"gridwidth\":2,\"linecolor\":\"white\",\"showbackground\":true,\"ticks\":\"\",\"zerolinecolor\":\"white\"},\"yaxis\":{\"backgroundcolor\":\"#E5ECF6\",\"gridcolor\":\"white\",\"gridwidth\":2,\"linecolor\":\"white\",\"showbackground\":true,\"ticks\":\"\",\"zerolinecolor\":\"white\"},\"zaxis\":{\"backgroundcolor\":\"#E5ECF6\",\"gridcolor\":\"white\",\"gridwidth\":2,\"linecolor\":\"white\",\"showbackground\":true,\"ticks\":\"\",\"zerolinecolor\":\"white\"}},\"shapedefaults\":{\"line\":{\"color\":\"#2a3f5f\"}},\"ternary\":{\"aaxis\":{\"gridcolor\":\"white\",\"linecolor\":\"white\",\"ticks\":\"\"},\"baxis\":{\"gridcolor\":\"white\",\"linecolor\":\"white\",\"ticks\":\"\"},\"bgcolor\":\"#E5ECF6\",\"caxis\":{\"gridcolor\":\"white\",\"linecolor\":\"white\",\"ticks\":\"\"}},\"title\":{\"x\":0.05},\"xaxis\":{\"automargin\":true,\"gridcolor\":\"white\",\"linecolor\":\"white\",\"ticks\":\"\",\"title\":{\"standoff\":15},\"zerolinecolor\":\"white\",\"zerolinewidth\":2},\"yaxis\":{\"automargin\":true,\"gridcolor\":\"white\",\"linecolor\":\"white\",\"ticks\":\"\",\"title\":{\"standoff\":15},\"zerolinecolor\":\"white\",\"zerolinewidth\":2}}},\"xaxis\":{\"anchor\":\"y\",\"domain\":[0.0,1.0],\"title\":{\"text\":\"type\"}},\"yaxis\":{\"anchor\":\"x\",\"domain\":[0.0,1.0],\"title\":{\"text\":\"txn_type\"},\"type\":\"log\"},\"coloraxis\":{\"colorbar\":{\"title\":{\"text\":\"txn_type\"}},\"colorscale\":[[0.0,\"#0d0887\"],[0.1111111111111111,\"#46039f\"],[0.2222222222222222,\"#7201a8\"],[0.3333333333333333,\"#9c179e\"],[0.4444444444444444,\"#bd3786\"],[0.5555555555555556,\"#d8576b\"],[0.6666666666666666,\"#ed7953\"],[0.7777777777777778,\"#fb9f3a\"],[0.8888888888888888,\"#fdca26\"],[1.0,\"#f0f921\"]]},\"legend\":{\"tracegroupgap\":0},\"title\":{\"text\":\"Cryptopunk Type Distribution of Number Transactions\"},\"barmode\":\"relative\"},                        {\"responsive\": true}                    ).then(function(){\n",
       "                            \n",
       "var gd = document.getElementById('834a02fd-47cb-4fa2-9a02-618557efd919');\n",
       "var x = new MutationObserver(function (mutations, observer) {{\n",
       "        var display = window.getComputedStyle(gd).display;\n",
       "        if (!display || display === 'none') {{\n",
       "            console.log([gd, 'removed!']);\n",
       "            Plotly.purge(gd);\n",
       "            observer.disconnect();\n",
       "        }}\n",
       "}});\n",
       "\n",
       "// Listen for the removal of the full notebook cells\n",
       "var notebookContainer = gd.closest('#notebook-container');\n",
       "if (notebookContainer) {{\n",
       "    x.observe(notebookContainer, {childList: true});\n",
       "}}\n",
       "\n",
       "// Listen for the clearing of the current output cell\n",
       "var outputEl = gd.closest('.output');\n",
       "if (outputEl) {{\n",
       "    x.observe(outputEl, {childList: true});\n",
       "}}\n",
       "\n",
       "                        })                };                });            </script>        </div>"
      ]
     },
     "metadata": {},
     "output_type": "display_data"
    }
   ],
   "source": [
    "fig = px.bar(type_vs_tr, x=\"type\", y=\"txn_type\", color=\"txn_type\", title=\"Cryptopunk Type Distribution of Number Transactions\", log_y = True)\n",
    "fig.show()"
   ]
  },
  {
   "cell_type": "code",
   "execution_count": 38,
   "id": "bc073513",
   "metadata": {},
   "outputs": [],
   "source": [
    "#We see confirmation that the most transactions are in men, as they are the most common"
   ]
  },
  {
   "cell_type": "code",
   "execution_count": 39,
   "id": "2635830d",
   "metadata": {},
   "outputs": [],
   "source": [
    "df_tran = punks.groupby(['punk_id']).agg(any_tran=('txn_type', 'count'),\n",
    "       accesssor=('num_attributes', 'last'))"
   ]
  },
  {
   "cell_type": "code",
   "execution_count": 40,
   "id": "21cfb721",
   "metadata": {},
   "outputs": [
    {
     "data": {
      "text/html": [
       "<div>\n",
       "<style scoped>\n",
       "    .dataframe tbody tr th:only-of-type {\n",
       "        vertical-align: middle;\n",
       "    }\n",
       "\n",
       "    .dataframe tbody tr th {\n",
       "        vertical-align: top;\n",
       "    }\n",
       "\n",
       "    .dataframe thead th {\n",
       "        text-align: right;\n",
       "    }\n",
       "</style>\n",
       "<table border=\"1\" class=\"dataframe\">\n",
       "  <thead>\n",
       "    <tr style=\"text-align: right;\">\n",
       "      <th></th>\n",
       "      <th>any_tran</th>\n",
       "      <th>accesssor</th>\n",
       "    </tr>\n",
       "    <tr>\n",
       "      <th>punk_id</th>\n",
       "      <th></th>\n",
       "      <th></th>\n",
       "    </tr>\n",
       "  </thead>\n",
       "  <tbody>\n",
       "    <tr>\n",
       "      <th>0</th>\n",
       "      <td>41</td>\n",
       "      <td>3</td>\n",
       "    </tr>\n",
       "    <tr>\n",
       "      <th>1</th>\n",
       "      <td>63</td>\n",
       "      <td>2</td>\n",
       "    </tr>\n",
       "    <tr>\n",
       "      <th>2</th>\n",
       "      <td>30</td>\n",
       "      <td>1</td>\n",
       "    </tr>\n",
       "    <tr>\n",
       "      <th>3</th>\n",
       "      <td>17</td>\n",
       "      <td>3</td>\n",
       "    </tr>\n",
       "    <tr>\n",
       "      <th>4</th>\n",
       "      <td>12</td>\n",
       "      <td>4</td>\n",
       "    </tr>\n",
       "    <tr>\n",
       "      <th>...</th>\n",
       "      <td>...</td>\n",
       "      <td>...</td>\n",
       "    </tr>\n",
       "    <tr>\n",
       "      <th>9995</th>\n",
       "      <td>7</td>\n",
       "      <td>2</td>\n",
       "    </tr>\n",
       "    <tr>\n",
       "      <th>9996</th>\n",
       "      <td>5</td>\n",
       "      <td>4</td>\n",
       "    </tr>\n",
       "    <tr>\n",
       "      <th>9997</th>\n",
       "      <td>43</td>\n",
       "      <td>2</td>\n",
       "    </tr>\n",
       "    <tr>\n",
       "      <th>9998</th>\n",
       "      <td>28</td>\n",
       "      <td>3</td>\n",
       "    </tr>\n",
       "    <tr>\n",
       "      <th>9999</th>\n",
       "      <td>52</td>\n",
       "      <td>2</td>\n",
       "    </tr>\n",
       "  </tbody>\n",
       "</table>\n",
       "<p>10000 rows × 2 columns</p>\n",
       "</div>"
      ],
      "text/plain": [
       "         any_tran  accesssor\n",
       "punk_id                     \n",
       "0              41          3\n",
       "1              63          2\n",
       "2              30          1\n",
       "3              17          3\n",
       "4              12          4\n",
       "...           ...        ...\n",
       "9995            7          2\n",
       "9996            5          4\n",
       "9997           43          2\n",
       "9998           28          3\n",
       "9999           52          2\n",
       "\n",
       "[10000 rows x 2 columns]"
      ]
     },
     "execution_count": 40,
     "metadata": {},
     "output_type": "execute_result"
    }
   ],
   "source": [
    "df_tran"
   ]
  },
  {
   "cell_type": "code",
   "execution_count": 41,
   "id": "31c33b46",
   "metadata": {},
   "outputs": [],
   "source": [
    "#Checking the correlation between the number of transactions and the number of attributes"
   ]
  },
  {
   "cell_type": "code",
   "execution_count": 42,
   "id": "433ebd30",
   "metadata": {
    "scrolled": true
   },
   "outputs": [
    {
     "data": {
      "text/plain": [
       "<AxesSubplot:>"
      ]
     },
     "execution_count": 42,
     "metadata": {},
     "output_type": "execute_result"
    },
    {
     "data": {
      "image/png": "[encoded data removed]",
      "text/plain": [
       "<Figure size 864x720 with 2 Axes>"
      ]
     },
     "metadata": {
      "needs_background": "light"
     },
     "output_type": "display_data"
    }
   ],
   "source": [
    "f, ax = plt.subplots(figsize=(12, 10))\n",
    "sns.heatmap(df_tran.corr(), square=True, annot=True, cbar=True, ax=ax)"
   ]
  },
  {
   "cell_type": "code",
   "execution_count": 43,
   "id": "52eb0084",
   "metadata": {},
   "outputs": [],
   "source": [
    "#We want to test the hypothesis from the correlation between the price of ETH and the price of NFT"
   ]
  },
  {
   "cell_type": "code",
   "execution_count": 44,
   "id": "ff2244d1",
   "metadata": {},
   "outputs": [],
   "source": [
    "#library yahoo finance"
   ]
  },
  {
   "cell_type": "code",
   "execution_count": 45,
   "id": "0472ce43",
   "metadata": {},
   "outputs": [],
   "source": [
    "import  yfinance  as  yf"
   ]
  },
  {
   "cell_type": "code",
   "execution_count": 46,
   "id": "ca947d47",
   "metadata": {},
   "outputs": [],
   "source": [
    "#downloads quotes"
   ]
  },
  {
   "cell_type": "code",
   "execution_count": 47,
   "id": "2e7a9f08",
   "metadata": {},
   "outputs": [
    {
     "name": "stdout",
     "output_type": "stream",
     "text": [
      "[*********************100%***********************]  1 of 1 completed\n"
     ]
    }
   ],
   "source": [
    "quotes = yf.download('ETH-USD', start=\"2019-01-01\", end=\"2022-03-31\")"
   ]
  },
  {
   "cell_type": "code",
   "execution_count": 48,
   "id": "7b34e484",
   "metadata": {},
   "outputs": [],
   "source": [
    "quotes1=  quotes"
   ]
  },
  {
   "cell_type": "code",
   "execution_count": 49,
   "id": "9a91c118",
   "metadata": {},
   "outputs": [],
   "source": [
    "quotes1= quotes1.reset_index()"
   ]
  },
  {
   "cell_type": "code",
   "execution_count": 50,
   "id": "52883c71",
   "metadata": {},
   "outputs": [],
   "source": [
    "quotes1.rename(columns = {'Date' : 'date'}, inplace = True) "
   ]
  },
  {
   "cell_type": "code",
   "execution_count": 51,
   "id": "3f81ef42",
   "metadata": {},
   "outputs": [
    {
     "data": {
      "text/html": [
       "<div>\n",
       "<style scoped>\n",
       "    .dataframe tbody tr th:only-of-type {\n",
       "        vertical-align: middle;\n",
       "    }\n",
       "\n",
       "    .dataframe tbody tr th {\n",
       "        vertical-align: top;\n",
       "    }\n",
       "\n",
       "    .dataframe thead th {\n",
       "        text-align: right;\n",
       "    }\n",
       "</style>\n",
       "<table border=\"1\" class=\"dataframe\">\n",
       "  <thead>\n",
       "    <tr style=\"text-align: right;\">\n",
       "      <th></th>\n",
       "      <th>date</th>\n",
       "      <th>Open</th>\n",
       "      <th>High</th>\n",
       "      <th>Low</th>\n",
       "      <th>Close</th>\n",
       "      <th>Adj Close</th>\n",
       "      <th>Volume</th>\n",
       "    </tr>\n",
       "  </thead>\n",
       "  <tbody>\n",
       "    <tr>\n",
       "      <th>0</th>\n",
       "      <td>2018-12-31</td>\n",
       "      <td>140.031067</td>\n",
       "      <td>140.181152</td>\n",
       "      <td>132.519394</td>\n",
       "      <td>133.368256</td>\n",
       "      <td>133.368256</td>\n",
       "      <td>2358360234</td>\n",
       "    </tr>\n",
       "    <tr>\n",
       "      <th>1</th>\n",
       "      <td>2019-01-01</td>\n",
       "      <td>133.418152</td>\n",
       "      <td>141.397507</td>\n",
       "      <td>132.650711</td>\n",
       "      <td>140.819412</td>\n",
       "      <td>140.819412</td>\n",
       "      <td>2258709868</td>\n",
       "    </tr>\n",
       "    <tr>\n",
       "      <th>2</th>\n",
       "      <td>2019-01-02</td>\n",
       "      <td>141.519516</td>\n",
       "      <td>156.929138</td>\n",
       "      <td>140.650955</td>\n",
       "      <td>155.047684</td>\n",
       "      <td>155.047684</td>\n",
       "      <td>3328240369</td>\n",
       "    </tr>\n",
       "    <tr>\n",
       "      <th>3</th>\n",
       "      <td>2019-01-03</td>\n",
       "      <td>155.196045</td>\n",
       "      <td>155.863052</td>\n",
       "      <td>147.198364</td>\n",
       "      <td>149.135010</td>\n",
       "      <td>149.135010</td>\n",
       "      <td>2676164880</td>\n",
       "    </tr>\n",
       "    <tr>\n",
       "      <th>4</th>\n",
       "      <td>2019-01-04</td>\n",
       "      <td>148.912888</td>\n",
       "      <td>156.878983</td>\n",
       "      <td>147.907104</td>\n",
       "      <td>154.581940</td>\n",
       "      <td>154.581940</td>\n",
       "      <td>3126192535</td>\n",
       "    </tr>\n",
       "    <tr>\n",
       "      <th>...</th>\n",
       "      <td>...</td>\n",
       "      <td>...</td>\n",
       "      <td>...</td>\n",
       "      <td>...</td>\n",
       "      <td>...</td>\n",
       "      <td>...</td>\n",
       "      <td>...</td>\n",
       "    </tr>\n",
       "    <tr>\n",
       "      <th>1181</th>\n",
       "      <td>2022-03-26</td>\n",
       "      <td>3106.405273</td>\n",
       "      <td>3146.825439</td>\n",
       "      <td>3091.825439</td>\n",
       "      <td>3143.178955</td>\n",
       "      <td>3143.178955</td>\n",
       "      <td>8876420740</td>\n",
       "    </tr>\n",
       "    <tr>\n",
       "      <th>1182</th>\n",
       "      <td>2022-03-27</td>\n",
       "      <td>3143.795654</td>\n",
       "      <td>3291.577637</td>\n",
       "      <td>3129.997803</td>\n",
       "      <td>3291.577637</td>\n",
       "      <td>3291.577637</td>\n",
       "      <td>13431866834</td>\n",
       "    </tr>\n",
       "    <tr>\n",
       "      <th>1183</th>\n",
       "      <td>2022-03-28</td>\n",
       "      <td>3292.322510</td>\n",
       "      <td>3424.019287</td>\n",
       "      <td>3279.027100</td>\n",
       "      <td>3336.634521</td>\n",
       "      <td>3336.634521</td>\n",
       "      <td>20620450770</td>\n",
       "    </tr>\n",
       "    <tr>\n",
       "      <th>1184</th>\n",
       "      <td>2022-03-29</td>\n",
       "      <td>3335.021240</td>\n",
       "      <td>3470.186279</td>\n",
       "      <td>3335.021240</td>\n",
       "      <td>3401.987793</td>\n",
       "      <td>3401.987793</td>\n",
       "      <td>19533323636</td>\n",
       "    </tr>\n",
       "    <tr>\n",
       "      <th>1185</th>\n",
       "      <td>2022-03-30</td>\n",
       "      <td>3401.526123</td>\n",
       "      <td>3435.286133</td>\n",
       "      <td>3349.237061</td>\n",
       "      <td>3385.157959</td>\n",
       "      <td>3385.157959</td>\n",
       "      <td>15302506131</td>\n",
       "    </tr>\n",
       "  </tbody>\n",
       "</table>\n",
       "<p>1186 rows × 7 columns</p>\n",
       "</div>"
      ],
      "text/plain": [
       "           date         Open         High          Low        Close  \\\n",
       "0    2018-12-31   140.031067   140.181152   132.519394   133.368256   \n",
       "1    2019-01-01   133.418152   141.397507   132.650711   140.819412   \n",
       "2    2019-01-02   141.519516   156.929138   140.650955   155.047684   \n",
       "3    2019-01-03   155.196045   155.863052   147.198364   149.135010   \n",
       "4    2019-01-04   148.912888   156.878983   147.907104   154.581940   \n",
       "...         ...          ...          ...          ...          ...   \n",
       "1181 2022-03-26  3106.405273  3146.825439  3091.825439  3143.178955   \n",
       "1182 2022-03-27  3143.795654  3291.577637  3129.997803  3291.577637   \n",
       "1183 2022-03-28  3292.322510  3424.019287  3279.027100  3336.634521   \n",
       "1184 2022-03-29  3335.021240  3470.186279  3335.021240  3401.987793   \n",
       "1185 2022-03-30  3401.526123  3435.286133  3349.237061  3385.157959   \n",
       "\n",
       "        Adj Close       Volume  \n",
       "0      133.368256   2358360234  \n",
       "1      140.819412   2258709868  \n",
       "2      155.047684   3328240369  \n",
       "3      149.135010   2676164880  \n",
       "4      154.581940   3126192535  \n",
       "...           ...          ...  \n",
       "1181  3143.178955   8876420740  \n",
       "1182  3291.577637  13431866834  \n",
       "1183  3336.634521  20620450770  \n",
       "1184  3401.987793  19533323636  \n",
       "1185  3385.157959  15302506131  \n",
       "\n",
       "[1186 rows x 7 columns]"
      ]
     },
     "execution_count": 51,
     "metadata": {},
     "output_type": "execute_result"
    }
   ],
   "source": [
    "quotes1"
   ]
  },
  {
   "cell_type": "code",
   "execution_count": 52,
   "id": "88556ca8",
   "metadata": {},
   "outputs": [],
   "source": [
    "# Merge two frames punks and quotes\n",
    "punks1 = punks.merge(quotes1, how = 'inner', on = 'date' )"
   ]
  },
  {
   "cell_type": "code",
   "execution_count": 53,
   "id": "6b7aa0cf",
   "metadata": {},
   "outputs": [],
   "source": [
    "# We leave only the type sold\n",
    "sold = punks1[punks1.txn_type == \"Sold\"]"
   ]
  },
  {
   "cell_type": "code",
   "execution_count": 54,
   "id": "1ded4f42",
   "metadata": {},
   "outputs": [],
   "source": [
    "punks_price = sold[['eth','Open','High','Low','Close']]"
   ]
  },
  {
   "cell_type": "code",
   "execution_count": 55,
   "id": "4f3efee1",
   "metadata": {},
   "outputs": [
    {
     "data": {
      "text/html": [
       "<div>\n",
       "<style scoped>\n",
       "    .dataframe tbody tr th:only-of-type {\n",
       "        vertical-align: middle;\n",
       "    }\n",
       "\n",
       "    .dataframe tbody tr th {\n",
       "        vertical-align: top;\n",
       "    }\n",
       "\n",
       "    .dataframe thead th {\n",
       "        text-align: right;\n",
       "    }\n",
       "</style>\n",
       "<table border=\"1\" class=\"dataframe\">\n",
       "  <thead>\n",
       "    <tr style=\"text-align: right;\">\n",
       "      <th></th>\n",
       "      <th>eth</th>\n",
       "      <th>Open</th>\n",
       "      <th>High</th>\n",
       "      <th>Low</th>\n",
       "      <th>Close</th>\n",
       "    </tr>\n",
       "  </thead>\n",
       "  <tbody>\n",
       "    <tr>\n",
       "      <th>6</th>\n",
       "      <td>97.25</td>\n",
       "      <td>3937.910156</td>\n",
       "      <td>3969.448730</td>\n",
       "      <td>3837.931152</td>\n",
       "      <td>3887.828369</td>\n",
       "    </tr>\n",
       "    <tr>\n",
       "      <th>12</th>\n",
       "      <td>98.00</td>\n",
       "      <td>3937.910156</td>\n",
       "      <td>3969.448730</td>\n",
       "      <td>3837.931152</td>\n",
       "      <td>3887.828369</td>\n",
       "    </tr>\n",
       "    <tr>\n",
       "      <th>18</th>\n",
       "      <td>105.00</td>\n",
       "      <td>3937.910156</td>\n",
       "      <td>3969.448730</td>\n",
       "      <td>3837.931152</td>\n",
       "      <td>3887.828369</td>\n",
       "    </tr>\n",
       "    <tr>\n",
       "      <th>29</th>\n",
       "      <td>100.00</td>\n",
       "      <td>3937.910156</td>\n",
       "      <td>3969.448730</td>\n",
       "      <td>3837.931152</td>\n",
       "      <td>3887.828369</td>\n",
       "    </tr>\n",
       "    <tr>\n",
       "      <th>30</th>\n",
       "      <td>104.99</td>\n",
       "      <td>3937.910156</td>\n",
       "      <td>3969.448730</td>\n",
       "      <td>3837.931152</td>\n",
       "      <td>3887.828369</td>\n",
       "    </tr>\n",
       "    <tr>\n",
       "      <th>...</th>\n",
       "      <td>...</td>\n",
       "      <td>...</td>\n",
       "      <td>...</td>\n",
       "      <td>...</td>\n",
       "      <td>...</td>\n",
       "    </tr>\n",
       "    <tr>\n",
       "      <th>140256</th>\n",
       "      <td>0.79</td>\n",
       "      <td>232.877487</td>\n",
       "      <td>233.901932</td>\n",
       "      <td>229.259460</td>\n",
       "      <td>229.668045</td>\n",
       "    </tr>\n",
       "    <tr>\n",
       "      <th>140274</th>\n",
       "      <td>0.35</td>\n",
       "      <td>123.654655</td>\n",
       "      <td>123.841690</td>\n",
       "      <td>120.241898</td>\n",
       "      <td>121.010262</td>\n",
       "    </tr>\n",
       "    <tr>\n",
       "      <th>140276</th>\n",
       "      <td>0.30</td>\n",
       "      <td>123.654655</td>\n",
       "      <td>123.841690</td>\n",
       "      <td>120.241898</td>\n",
       "      <td>121.010262</td>\n",
       "    </tr>\n",
       "    <tr>\n",
       "      <th>140284</th>\n",
       "      <td>0.60</td>\n",
       "      <td>133.612320</td>\n",
       "      <td>135.634552</td>\n",
       "      <td>129.730942</td>\n",
       "      <td>135.634552</td>\n",
       "    </tr>\n",
       "    <tr>\n",
       "      <th>140285</th>\n",
       "      <td>0.50</td>\n",
       "      <td>168.887894</td>\n",
       "      <td>174.323975</td>\n",
       "      <td>167.802582</td>\n",
       "      <td>172.469788</td>\n",
       "    </tr>\n",
       "  </tbody>\n",
       "</table>\n",
       "<p>16794 rows × 5 columns</p>\n",
       "</div>"
      ],
      "text/plain": [
       "           eth         Open         High          Low        Close\n",
       "6        97.25  3937.910156  3969.448730  3837.931152  3887.828369\n",
       "12       98.00  3937.910156  3969.448730  3837.931152  3887.828369\n",
       "18      105.00  3937.910156  3969.448730  3837.931152  3887.828369\n",
       "29      100.00  3937.910156  3969.448730  3837.931152  3887.828369\n",
       "30      104.99  3937.910156  3969.448730  3837.931152  3887.828369\n",
       "...        ...          ...          ...          ...          ...\n",
       "140256    0.79   232.877487   233.901932   229.259460   229.668045\n",
       "140274    0.35   123.654655   123.841690   120.241898   121.010262\n",
       "140276    0.30   123.654655   123.841690   120.241898   121.010262\n",
       "140284    0.60   133.612320   135.634552   129.730942   135.634552\n",
       "140285    0.50   168.887894   174.323975   167.802582   172.469788\n",
       "\n",
       "[16794 rows x 5 columns]"
      ]
     },
     "execution_count": 55,
     "metadata": {},
     "output_type": "execute_result"
    }
   ],
   "source": [
    "punks_price"
   ]
  },
  {
   "cell_type": "code",
   "execution_count": 56,
   "id": "f9e9f35d",
   "metadata": {},
   "outputs": [
    {
     "data": {
      "text/plain": [
       "<AxesSubplot:>"
      ]
     },
     "execution_count": 56,
     "metadata": {},
     "output_type": "execute_result"
    },
    {
     "data": {
      "image/png": "[encoded data removed]",
      "text/plain": [
       "<Figure size 864x720 with 2 Axes>"
      ]
     },
     "metadata": {
      "needs_background": "light"
     },
     "output_type": "display_data"
    }
   ],
   "source": [
    "f, ax = plt.subplots(figsize=(12, 10))\n",
    "sns.heatmap(punks_price.corr(), square=True, annot=True, cbar=True, ax=ax)"
   ]
  },
  {
   "cell_type": "code",
   "execution_count": 57,
   "id": "45034831",
   "metadata": {},
   "outputs": [],
   "source": [
    "#We see little correlation between NFT selling price and ETH price"
   ]
  },
  {
   "cell_type": "code",
   "execution_count": 58,
   "id": "06bcb687",
   "metadata": {},
   "outputs": [],
   "source": [
    "#We want to check the change in the number of sales from the ETH price"
   ]
  },
  {
   "cell_type": "code",
   "execution_count": 59,
   "id": "19ad6ee3",
   "metadata": {},
   "outputs": [],
   "source": [
    "df_tran_pr = punks1.groupby(['punk_id']).agg(sold_tran=('txn_type', 'count'),\n",
    "       accesssor=('num_attributes', 'last'),\n",
    "       pr_nft=('eth','max'),\n",
    "       pr_eth=('Close','max'),\n",
    "       rank =('Rank','last')\n",
    "                            )"
   ]
  },
  {
   "cell_type": "code",
   "execution_count": 60,
   "id": "e2cf1e0d",
   "metadata": {},
   "outputs": [
    {
     "data": {
      "text/html": [
       "<div>\n",
       "<style scoped>\n",
       "    .dataframe tbody tr th:only-of-type {\n",
       "        vertical-align: middle;\n",
       "    }\n",
       "\n",
       "    .dataframe tbody tr th {\n",
       "        vertical-align: top;\n",
       "    }\n",
       "\n",
       "    .dataframe thead th {\n",
       "        text-align: right;\n",
       "    }\n",
       "</style>\n",
       "<table border=\"1\" class=\"dataframe\">\n",
       "  <thead>\n",
       "    <tr style=\"text-align: right;\">\n",
       "      <th></th>\n",
       "      <th>sold_tran</th>\n",
       "      <th>accesssor</th>\n",
       "      <th>pr_nft</th>\n",
       "      <th>pr_eth</th>\n",
       "      <th>rank</th>\n",
       "    </tr>\n",
       "    <tr>\n",
       "      <th>punk_id</th>\n",
       "      <th></th>\n",
       "      <th></th>\n",
       "      <th></th>\n",
       "      <th></th>\n",
       "      <th></th>\n",
       "    </tr>\n",
       "  </thead>\n",
       "  <tbody>\n",
       "    <tr>\n",
       "      <th>0</th>\n",
       "      <td>22</td>\n",
       "      <td>3</td>\n",
       "      <td>321.0</td>\n",
       "      <td>3952.293945</td>\n",
       "      <td>4005</td>\n",
       "    </tr>\n",
       "    <tr>\n",
       "      <th>1</th>\n",
       "      <td>43</td>\n",
       "      <td>2</td>\n",
       "      <td>895.0</td>\n",
       "      <td>3887.828369</td>\n",
       "      <td>5066</td>\n",
       "    </tr>\n",
       "    <tr>\n",
       "      <th>2</th>\n",
       "      <td>22</td>\n",
       "      <td>1</td>\n",
       "      <td>48.0</td>\n",
       "      <td>3167.856201</td>\n",
       "      <td>774</td>\n",
       "    </tr>\n",
       "    <tr>\n",
       "      <th>3</th>\n",
       "      <td>6</td>\n",
       "      <td>3</td>\n",
       "      <td>33.0</td>\n",
       "      <td>3270.600830</td>\n",
       "      <td>4369</td>\n",
       "    </tr>\n",
       "    <tr>\n",
       "      <th>4</th>\n",
       "      <td>8</td>\n",
       "      <td>4</td>\n",
       "      <td>28.0</td>\n",
       "      <td>3715.148438</td>\n",
       "      <td>999</td>\n",
       "    </tr>\n",
       "    <tr>\n",
       "      <th>...</th>\n",
       "      <td>...</td>\n",
       "      <td>...</td>\n",
       "      <td>...</td>\n",
       "      <td>...</td>\n",
       "      <td>...</td>\n",
       "    </tr>\n",
       "    <tr>\n",
       "      <th>9995</th>\n",
       "      <td>5</td>\n",
       "      <td>2</td>\n",
       "      <td>30.0</td>\n",
       "      <td>2344.895020</td>\n",
       "      <td>3807</td>\n",
       "    </tr>\n",
       "    <tr>\n",
       "      <th>9996</th>\n",
       "      <td>2</td>\n",
       "      <td>4</td>\n",
       "      <td>1.0</td>\n",
       "      <td>1382.274048</td>\n",
       "      <td>9464</td>\n",
       "    </tr>\n",
       "    <tr>\n",
       "      <th>9997</th>\n",
       "      <td>37</td>\n",
       "      <td>2</td>\n",
       "      <td>666.0</td>\n",
       "      <td>3282.397705</td>\n",
       "      <td>105</td>\n",
       "    </tr>\n",
       "    <tr>\n",
       "      <th>9998</th>\n",
       "      <td>26</td>\n",
       "      <td>3</td>\n",
       "      <td>175.0</td>\n",
       "      <td>3322.211670</td>\n",
       "      <td>4632</td>\n",
       "    </tr>\n",
       "    <tr>\n",
       "      <th>9999</th>\n",
       "      <td>13</td>\n",
       "      <td>2</td>\n",
       "      <td>17.5</td>\n",
       "      <td>3785.848633</td>\n",
       "      <td>4988</td>\n",
       "    </tr>\n",
       "  </tbody>\n",
       "</table>\n",
       "<p>8945 rows × 5 columns</p>\n",
       "</div>"
      ],
      "text/plain": [
       "         sold_tran  accesssor  pr_nft       pr_eth  rank\n",
       "punk_id                                                 \n",
       "0               22          3   321.0  3952.293945  4005\n",
       "1               43          2   895.0  3887.828369  5066\n",
       "2               22          1    48.0  3167.856201   774\n",
       "3                6          3    33.0  3270.600830  4369\n",
       "4                8          4    28.0  3715.148438   999\n",
       "...            ...        ...     ...          ...   ...\n",
       "9995             5          2    30.0  2344.895020  3807\n",
       "9996             2          4     1.0  1382.274048  9464\n",
       "9997            37          2   666.0  3282.397705   105\n",
       "9998            26          3   175.0  3322.211670  4632\n",
       "9999            13          2    17.5  3785.848633  4988\n",
       "\n",
       "[8945 rows x 5 columns]"
      ]
     },
     "execution_count": 60,
     "metadata": {},
     "output_type": "execute_result"
    }
   ],
   "source": [
    "df_tran_pr"
   ]
  },
  {
   "cell_type": "code",
   "execution_count": 61,
   "id": "ce02079a",
   "metadata": {},
   "outputs": [
    {
     "data": {
      "text/plain": [
       "<AxesSubplot:>"
      ]
     },
     "execution_count": 61,
     "metadata": {},
     "output_type": "execute_result"
    },
    {
     "data": {
      "image/png": "[encoded data removed]",
      "text/plain": [
       "<Figure size 864x720 with 2 Axes>"
      ]
     },
     "metadata": {
      "needs_background": "light"
     },
     "output_type": "display_data"
    }
   ],
   "source": [
    "f, ax = plt.subplots(figsize=(12, 10))\n",
    "sns.heatmap(df_tran_pr.corr(), square=True, annot=True, cbar=True, ax=ax)"
   ]
  },
  {
   "cell_type": "code",
   "execution_count": 62,
   "id": "e8838fa4",
   "metadata": {},
   "outputs": [],
   "source": [
    "#We see that as the price of ether increases, the number of sales increases."
   ]
  },
  {
   "cell_type": "code",
   "execution_count": 63,
   "id": "f46b79a8",
   "metadata": {},
   "outputs": [],
   "source": [
    "#Let's group by the type of cryptopunks and see the correlations"
   ]
  },
  {
   "cell_type": "code",
   "execution_count": 64,
   "id": "79b19248",
   "metadata": {},
   "outputs": [],
   "source": [
    "df_tran_type = punks1.groupby(['type']).agg(sold_tran=('txn_type', 'count'),\n",
    "       accesssor=('num_attributes', 'mean'),\n",
    "       pr_nft=('eth','mean'),\n",
    "       pr_eth=('Close','mean'),\n",
    "       rank =('Rank','mean')\n",
    "                            )"
   ]
  },
  {
   "cell_type": "code",
   "execution_count": 65,
   "id": "46b80eb6",
   "metadata": {},
   "outputs": [
    {
     "data": {
      "text/html": [
       "<div>\n",
       "<style scoped>\n",
       "    .dataframe tbody tr th:only-of-type {\n",
       "        vertical-align: middle;\n",
       "    }\n",
       "\n",
       "    .dataframe tbody tr th {\n",
       "        vertical-align: top;\n",
       "    }\n",
       "\n",
       "    .dataframe thead th {\n",
       "        text-align: right;\n",
       "    }\n",
       "</style>\n",
       "<table border=\"1\" class=\"dataframe\">\n",
       "  <thead>\n",
       "    <tr style=\"text-align: right;\">\n",
       "      <th></th>\n",
       "      <th>sold_tran</th>\n",
       "      <th>accesssor</th>\n",
       "      <th>pr_nft</th>\n",
       "      <th>pr_eth</th>\n",
       "      <th>rank</th>\n",
       "    </tr>\n",
       "    <tr>\n",
       "      <th>type</th>\n",
       "      <th></th>\n",
       "      <th></th>\n",
       "      <th></th>\n",
       "      <th></th>\n",
       "      <th></th>\n",
       "    </tr>\n",
       "  </thead>\n",
       "  <tbody>\n",
       "    <tr>\n",
       "      <th>Alien</th>\n",
       "      <td>257</td>\n",
       "      <td>2.070039</td>\n",
       "      <td>1.764223e+03</td>\n",
       "      <td>1695.531454</td>\n",
       "      <td>13.260700</td>\n",
       "    </tr>\n",
       "    <tr>\n",
       "      <th>Ape</th>\n",
       "      <td>499</td>\n",
       "      <td>1.701403</td>\n",
       "      <td>1.005738e+03</td>\n",
       "      <td>1425.725782</td>\n",
       "      <td>29.763527</td>\n",
       "    </tr>\n",
       "    <tr>\n",
       "      <th>Female</th>\n",
       "      <td>49205</td>\n",
       "      <td>2.771222</td>\n",
       "      <td>2.274732e+06</td>\n",
       "      <td>1927.872251</td>\n",
       "      <td>4528.600224</td>\n",
       "    </tr>\n",
       "    <tr>\n",
       "      <th>Male</th>\n",
       "      <td>88728</td>\n",
       "      <td>2.809519</td>\n",
       "      <td>1.360360e+06</td>\n",
       "      <td>1948.680078</td>\n",
       "      <td>5162.697672</td>\n",
       "    </tr>\n",
       "    <tr>\n",
       "      <th>Zombie</th>\n",
       "      <td>1598</td>\n",
       "      <td>2.435544</td>\n",
       "      <td>3.281280e+02</td>\n",
       "      <td>1416.909787</td>\n",
       "      <td>91.210263</td>\n",
       "    </tr>\n",
       "  </tbody>\n",
       "</table>\n",
       "</div>"
      ],
      "text/plain": [
       "        sold_tran  accesssor        pr_nft       pr_eth         rank\n",
       "type                                                                \n",
       "Alien         257   2.070039  1.764223e+03  1695.531454    13.260700\n",
       "Ape           499   1.701403  1.005738e+03  1425.725782    29.763527\n",
       "Female      49205   2.771222  2.274732e+06  1927.872251  4528.600224\n",
       "Male        88728   2.809519  1.360360e+06  1948.680078  5162.697672\n",
       "Zombie       1598   2.435544  3.281280e+02  1416.909787    91.210263"
      ]
     },
     "execution_count": 65,
     "metadata": {},
     "output_type": "execute_result"
    }
   ],
   "source": [
    "df_tran_type"
   ]
  },
  {
   "cell_type": "code",
   "execution_count": 66,
   "id": "3cb3cb6e",
   "metadata": {},
   "outputs": [
    {
     "data": {
      "text/plain": [
       "<AxesSubplot:>"
      ]
     },
     "execution_count": 66,
     "metadata": {},
     "output_type": "execute_result"
    },
    {
     "data": {
      "image/png": "[encoded data removed]",
      "text/plain": [
       "<Figure size 864x720 with 2 Axes>"
      ]
     },
     "metadata": {
      "needs_background": "light"
     },
     "output_type": "display_data"
    }
   ],
   "source": [
    "f, ax = plt.subplots(figsize=(12, 10))\n",
    "sns.heatmap(df_tran_type.corr(), square=True, annot=True, cbar=True, ax=ax)"
   ]
  },
  {
   "cell_type": "code",
   "execution_count": 67,
   "id": "30fe1446",
   "metadata": {},
   "outputs": [],
   "source": [
    "#Let's group by the number of attributes of cryptopunks and see the correlations"
   ]
  },
  {
   "cell_type": "code",
   "execution_count": 68,
   "id": "db4e1504",
   "metadata": {},
   "outputs": [],
   "source": [
    "df_tran_attr = punks1.groupby(['num_attributes']).agg(sold_tran=('txn_type', 'count'),\n",
    "       accesssor=('num_attributes', 'mean'),\n",
    "       pr_nft=('eth','mean'),\n",
    "       pr_eth=('Close','mean'),\n",
    "       rank =('Rank','mean')\n",
    "                            )"
   ]
  },
  {
   "cell_type": "code",
   "execution_count": 69,
   "id": "1033b37a",
   "metadata": {},
   "outputs": [
    {
     "data": {
      "text/plain": [
       "<AxesSubplot:>"
      ]
     },
     "execution_count": 69,
     "metadata": {},
     "output_type": "execute_result"
    },
    {
     "data": {
      "image/png": "[encoded data removed]",
      "text/plain": [
       "<Figure size 864x720 with 2 Axes>"
      ]
     },
     "metadata": {
      "needs_background": "light"
     },
     "output_type": "display_data"
    }
   ],
   "source": [
    "f, ax = plt.subplots(figsize=(12, 10))\n",
    "sns.heatmap(df_tran_attr.corr(), square=True, annot=True, cbar=True, ax=ax)"
   ]
  },
  {
   "cell_type": "code",
   "execution_count": 70,
   "id": "771503fa",
   "metadata": {},
   "outputs": [],
   "source": [
    "#Let's group by the Rank of cryptopunks and see the correlations"
   ]
  },
  {
   "cell_type": "code",
   "execution_count": 71,
   "id": "49c23ca1",
   "metadata": {},
   "outputs": [],
   "source": [
    "df_tran_rank = punks1.groupby(['Rank']).agg(sold_tran=('txn_type', 'count'),\n",
    "       accesssor=('num_attributes', 'mean'),\n",
    "       pr_nft=('eth','mean'),\n",
    "       pr_eth=('Close','mean'),\n",
    "       rank =('Rank','mean')\n",
    "                            )"
   ]
  },
  {
   "cell_type": "code",
   "execution_count": 72,
   "id": "be172a3a",
   "metadata": {},
   "outputs": [
    {
     "data": {
      "text/plain": [
       "<AxesSubplot:>"
      ]
     },
     "execution_count": 72,
     "metadata": {},
     "output_type": "execute_result"
    },
    {
     "data": {
      "image/png": "[encoded data removed]",
      "text/plain": [
       "<Figure size 864x720 with 2 Axes>"
      ]
     },
     "metadata": {
      "needs_background": "light"
     },
     "output_type": "display_data"
    }
   ],
   "source": [
    "f, ax = plt.subplots(figsize=(12, 10))\n",
    "sns.heatmap(df_tran_rank.corr(), square=True, annot=True, cbar=True, ax=ax)"
   ]
  },
  {
   "cell_type": "code",
   "execution_count": 73,
   "id": "959fa87c",
   "metadata": {},
   "outputs": [],
   "source": [
    "#Let's try to build a machine learning model"
   ]
  },
  {
   "cell_type": "code",
   "execution_count": 74,
   "id": "acda7d34",
   "metadata": {},
   "outputs": [],
   "source": [
    "from sklearn import preprocessing"
   ]
  },
  {
   "cell_type": "code",
   "execution_count": 75,
   "id": "264fbdca",
   "metadata": {},
   "outputs": [
    {
     "data": {
      "text/html": [
       "<div>\n",
       "<style scoped>\n",
       "    .dataframe tbody tr th:only-of-type {\n",
       "        vertical-align: middle;\n",
       "    }\n",
       "\n",
       "    .dataframe tbody tr th {\n",
       "        vertical-align: top;\n",
       "    }\n",
       "\n",
       "    .dataframe thead th {\n",
       "        text-align: right;\n",
       "    }\n",
       "</style>\n",
       "<table border=\"1\" class=\"dataframe\">\n",
       "  <thead>\n",
       "    <tr style=\"text-align: right;\">\n",
       "      <th></th>\n",
       "      <th>txn_type</th>\n",
       "      <th>date</th>\n",
       "      <th>eth</th>\n",
       "      <th>punk_id</th>\n",
       "      <th>type</th>\n",
       "      <th>accessories</th>\n",
       "      <th>Rank</th>\n",
       "      <th>num_attributes</th>\n",
       "      <th>Open</th>\n",
       "      <th>High</th>\n",
       "      <th>Low</th>\n",
       "      <th>Close</th>\n",
       "      <th>Adj Close</th>\n",
       "      <th>Volume</th>\n",
       "    </tr>\n",
       "  </thead>\n",
       "  <tbody>\n",
       "    <tr>\n",
       "      <th>6</th>\n",
       "      <td>Sold</td>\n",
       "      <td>2021-09-04</td>\n",
       "      <td>97.25</td>\n",
       "      <td>618</td>\n",
       "      <td>Female</td>\n",
       "      <td>[Clown Eyes Green, Wild Hair]</td>\n",
       "      <td>4632</td>\n",
       "      <td>2</td>\n",
       "      <td>3937.910156</td>\n",
       "      <td>3969.448730</td>\n",
       "      <td>3837.931152</td>\n",
       "      <td>3887.828369</td>\n",
       "      <td>3887.828369</td>\n",
       "      <td>20806963328</td>\n",
       "    </tr>\n",
       "    <tr>\n",
       "      <th>12</th>\n",
       "      <td>Sold</td>\n",
       "      <td>2021-09-04</td>\n",
       "      <td>98.00</td>\n",
       "      <td>1186</td>\n",
       "      <td>Female</td>\n",
       "      <td>[Black Lipstick, Bandana, Purple Eye Shadow, E...</td>\n",
       "      <td>6436</td>\n",
       "      <td>4</td>\n",
       "      <td>3937.910156</td>\n",
       "      <td>3969.448730</td>\n",
       "      <td>3837.931152</td>\n",
       "      <td>3887.828369</td>\n",
       "      <td>3887.828369</td>\n",
       "      <td>20806963328</td>\n",
       "    </tr>\n",
       "    <tr>\n",
       "      <th>18</th>\n",
       "      <td>Sold</td>\n",
       "      <td>2021-09-04</td>\n",
       "      <td>105.00</td>\n",
       "      <td>1316</td>\n",
       "      <td>Male</td>\n",
       "      <td>[Frumpy Hair, Front Beard Dark]</td>\n",
       "      <td>7545</td>\n",
       "      <td>2</td>\n",
       "      <td>3937.910156</td>\n",
       "      <td>3969.448730</td>\n",
       "      <td>3837.931152</td>\n",
       "      <td>3887.828369</td>\n",
       "      <td>3887.828369</td>\n",
       "      <td>20806963328</td>\n",
       "    </tr>\n",
       "    <tr>\n",
       "      <th>29</th>\n",
       "      <td>Sold</td>\n",
       "      <td>2021-09-04</td>\n",
       "      <td>100.00</td>\n",
       "      <td>1633</td>\n",
       "      <td>Male</td>\n",
       "      <td>[Cigarette, Bandana, Mole]</td>\n",
       "      <td>9464</td>\n",
       "      <td>3</td>\n",
       "      <td>3937.910156</td>\n",
       "      <td>3969.448730</td>\n",
       "      <td>3837.931152</td>\n",
       "      <td>3887.828369</td>\n",
       "      <td>3887.828369</td>\n",
       "      <td>20806963328</td>\n",
       "    </tr>\n",
       "    <tr>\n",
       "      <th>30</th>\n",
       "      <td>Sold</td>\n",
       "      <td>2021-09-04</td>\n",
       "      <td>104.99</td>\n",
       "      <td>1711</td>\n",
       "      <td>Female</td>\n",
       "      <td>[Eye Mask, Straight Hair Dark]</td>\n",
       "      <td>451</td>\n",
       "      <td>2</td>\n",
       "      <td>3937.910156</td>\n",
       "      <td>3969.448730</td>\n",
       "      <td>3837.931152</td>\n",
       "      <td>3887.828369</td>\n",
       "      <td>3887.828369</td>\n",
       "      <td>20806963328</td>\n",
       "    </tr>\n",
       "    <tr>\n",
       "      <th>...</th>\n",
       "      <td>...</td>\n",
       "      <td>...</td>\n",
       "      <td>...</td>\n",
       "      <td>...</td>\n",
       "      <td>...</td>\n",
       "      <td>...</td>\n",
       "      <td>...</td>\n",
       "      <td>...</td>\n",
       "      <td>...</td>\n",
       "      <td>...</td>\n",
       "      <td>...</td>\n",
       "      <td>...</td>\n",
       "      <td>...</td>\n",
       "      <td>...</td>\n",
       "    </tr>\n",
       "    <tr>\n",
       "      <th>140256</th>\n",
       "      <td>Sold</td>\n",
       "      <td>2020-06-26</td>\n",
       "      <td>0.79</td>\n",
       "      <td>8666</td>\n",
       "      <td>Male</td>\n",
       "      <td>[Peak Spike, Earring, Eye Patch]</td>\n",
       "      <td>8466</td>\n",
       "      <td>3</td>\n",
       "      <td>232.877487</td>\n",
       "      <td>233.901932</td>\n",
       "      <td>229.259460</td>\n",
       "      <td>229.668045</td>\n",
       "      <td>229.668045</td>\n",
       "      <td>7187490226</td>\n",
       "    </tr>\n",
       "    <tr>\n",
       "      <th>140274</th>\n",
       "      <td>Sold</td>\n",
       "      <td>2019-01-18</td>\n",
       "      <td>0.35</td>\n",
       "      <td>8395</td>\n",
       "      <td>Male</td>\n",
       "      <td>[Silver Chain, Shaved Head, Big Beard]</td>\n",
       "      <td>2565</td>\n",
       "      <td>3</td>\n",
       "      <td>123.654655</td>\n",
       "      <td>123.841690</td>\n",
       "      <td>120.241898</td>\n",
       "      <td>121.010262</td>\n",
       "      <td>121.010262</td>\n",
       "      <td>2305389800</td>\n",
       "    </tr>\n",
       "    <tr>\n",
       "      <th>140276</th>\n",
       "      <td>Sold</td>\n",
       "      <td>2019-01-18</td>\n",
       "      <td>0.30</td>\n",
       "      <td>9453</td>\n",
       "      <td>Male</td>\n",
       "      <td>[Cigarette, Cap, Mustache]</td>\n",
       "      <td>9464</td>\n",
       "      <td>3</td>\n",
       "      <td>123.654655</td>\n",
       "      <td>123.841690</td>\n",
       "      <td>120.241898</td>\n",
       "      <td>121.010262</td>\n",
       "      <td>121.010262</td>\n",
       "      <td>2305389800</td>\n",
       "    </tr>\n",
       "    <tr>\n",
       "      <th>140284</th>\n",
       "      <td>Sold</td>\n",
       "      <td>2020-04-01</td>\n",
       "      <td>0.60</td>\n",
       "      <td>9697</td>\n",
       "      <td>Male</td>\n",
       "      <td>[Eye Mask, Cap Forward, Earring]</td>\n",
       "      <td>2665</td>\n",
       "      <td>3</td>\n",
       "      <td>133.612320</td>\n",
       "      <td>135.634552</td>\n",
       "      <td>129.730942</td>\n",
       "      <td>135.634552</td>\n",
       "      <td>135.634552</td>\n",
       "      <td>12456564435</td>\n",
       "    </tr>\n",
       "    <tr>\n",
       "      <th>140285</th>\n",
       "      <td>Sold</td>\n",
       "      <td>2019-08-31</td>\n",
       "      <td>0.50</td>\n",
       "      <td>9943</td>\n",
       "      <td>Female</td>\n",
       "      <td>[Black Lipstick, Mohawk Thin, Eye Patch, Earri...</td>\n",
       "      <td>9127</td>\n",
       "      <td>5</td>\n",
       "      <td>168.887894</td>\n",
       "      <td>174.323975</td>\n",
       "      <td>167.802582</td>\n",
       "      <td>172.469788</td>\n",
       "      <td>172.469788</td>\n",
       "      <td>5830212249</td>\n",
       "    </tr>\n",
       "  </tbody>\n",
       "</table>\n",
       "<p>16794 rows × 14 columns</p>\n",
       "</div>"
      ],
      "text/plain": [
       "       txn_type       date     eth  punk_id    type  \\\n",
       "6          Sold 2021-09-04   97.25      618  Female   \n",
       "12         Sold 2021-09-04   98.00     1186  Female   \n",
       "18         Sold 2021-09-04  105.00     1316    Male   \n",
       "29         Sold 2021-09-04  100.00     1633    Male   \n",
       "30         Sold 2021-09-04  104.99     1711  Female   \n",
       "...         ...        ...     ...      ...     ...   \n",
       "140256     Sold 2020-06-26    0.79     8666    Male   \n",
       "140274     Sold 2019-01-18    0.35     8395    Male   \n",
       "140276     Sold 2019-01-18    0.30     9453    Male   \n",
       "140284     Sold 2020-04-01    0.60     9697    Male   \n",
       "140285     Sold 2019-08-31    0.50     9943  Female   \n",
       "\n",
       "                                              accessories  Rank  \\\n",
       "6                           [Clown Eyes Green, Wild Hair]  4632   \n",
       "12      [Black Lipstick, Bandana, Purple Eye Shadow, E...  6436   \n",
       "18                        [Frumpy Hair, Front Beard Dark]  7545   \n",
       "29                             [Cigarette, Bandana, Mole]  9464   \n",
       "30                         [Eye Mask, Straight Hair Dark]   451   \n",
       "...                                                   ...   ...   \n",
       "140256                   [Peak Spike, Earring, Eye Patch]  8466   \n",
       "140274             [Silver Chain, Shaved Head, Big Beard]  2565   \n",
       "140276                         [Cigarette, Cap, Mustache]  9464   \n",
       "140284                   [Eye Mask, Cap Forward, Earring]  2665   \n",
       "140285  [Black Lipstick, Mohawk Thin, Eye Patch, Earri...  9127   \n",
       "\n",
       "        num_attributes         Open         High          Low        Close  \\\n",
       "6                    2  3937.910156  3969.448730  3837.931152  3887.828369   \n",
       "12                   4  3937.910156  3969.448730  3837.931152  3887.828369   \n",
       "18                   2  3937.910156  3969.448730  3837.931152  3887.828369   \n",
       "29                   3  3937.910156  3969.448730  3837.931152  3887.828369   \n",
       "30                   2  3937.910156  3969.448730  3837.931152  3887.828369   \n",
       "...                ...          ...          ...          ...          ...   \n",
       "140256               3   232.877487   233.901932   229.259460   229.668045   \n",
       "140274               3   123.654655   123.841690   120.241898   121.010262   \n",
       "140276               3   123.654655   123.841690   120.241898   121.010262   \n",
       "140284               3   133.612320   135.634552   129.730942   135.634552   \n",
       "140285               5   168.887894   174.323975   167.802582   172.469788   \n",
       "\n",
       "          Adj Close       Volume  \n",
       "6       3887.828369  20806963328  \n",
       "12      3887.828369  20806963328  \n",
       "18      3887.828369  20806963328  \n",
       "29      3887.828369  20806963328  \n",
       "30      3887.828369  20806963328  \n",
       "...             ...          ...  \n",
       "140256   229.668045   7187490226  \n",
       "140274   121.010262   2305389800  \n",
       "140276   121.010262   2305389800  \n",
       "140284   135.634552  12456564435  \n",
       "140285   172.469788   5830212249  \n",
       "\n",
       "[16794 rows x 14 columns]"
      ]
     },
     "execution_count": 75,
     "metadata": {},
     "output_type": "execute_result"
    }
   ],
   "source": [
    "sold"
   ]
  },
  {
   "cell_type": "code",
   "execution_count": 78,
   "id": "58c302a5",
   "metadata": {},
   "outputs": [],
   "source": [
    "total=sold.drop(['date','punk_id','txn_type','accessories'], axis =1)"
   ]
  },
  {
   "cell_type": "code",
   "execution_count": 79,
   "id": "cc177c18",
   "metadata": {},
   "outputs": [
    {
     "data": {
      "text/html": [
       "<div>\n",
       "<style scoped>\n",
       "    .dataframe tbody tr th:only-of-type {\n",
       "        vertical-align: middle;\n",
       "    }\n",
       "\n",
       "    .dataframe tbody tr th {\n",
       "        vertical-align: top;\n",
       "    }\n",
       "\n",
       "    .dataframe thead th {\n",
       "        text-align: right;\n",
       "    }\n",
       "</style>\n",
       "<table border=\"1\" class=\"dataframe\">\n",
       "  <thead>\n",
       "    <tr style=\"text-align: right;\">\n",
       "      <th></th>\n",
       "      <th>eth</th>\n",
       "      <th>type</th>\n",
       "      <th>Rank</th>\n",
       "      <th>num_attributes</th>\n",
       "      <th>Open</th>\n",
       "      <th>High</th>\n",
       "      <th>Low</th>\n",
       "      <th>Close</th>\n",
       "      <th>Adj Close</th>\n",
       "      <th>Volume</th>\n",
       "    </tr>\n",
       "  </thead>\n",
       "  <tbody>\n",
       "    <tr>\n",
       "      <th>6</th>\n",
       "      <td>97.25</td>\n",
       "      <td>Female</td>\n",
       "      <td>4632</td>\n",
       "      <td>2</td>\n",
       "      <td>3937.910156</td>\n",
       "      <td>3969.448730</td>\n",
       "      <td>3837.931152</td>\n",
       "      <td>3887.828369</td>\n",
       "      <td>3887.828369</td>\n",
       "      <td>20806963328</td>\n",
       "    </tr>\n",
       "    <tr>\n",
       "      <th>12</th>\n",
       "      <td>98.00</td>\n",
       "      <td>Female</td>\n",
       "      <td>6436</td>\n",
       "      <td>4</td>\n",
       "      <td>3937.910156</td>\n",
       "      <td>3969.448730</td>\n",
       "      <td>3837.931152</td>\n",
       "      <td>3887.828369</td>\n",
       "      <td>3887.828369</td>\n",
       "      <td>20806963328</td>\n",
       "    </tr>\n",
       "    <tr>\n",
       "      <th>18</th>\n",
       "      <td>105.00</td>\n",
       "      <td>Male</td>\n",
       "      <td>7545</td>\n",
       "      <td>2</td>\n",
       "      <td>3937.910156</td>\n",
       "      <td>3969.448730</td>\n",
       "      <td>3837.931152</td>\n",
       "      <td>3887.828369</td>\n",
       "      <td>3887.828369</td>\n",
       "      <td>20806963328</td>\n",
       "    </tr>\n",
       "    <tr>\n",
       "      <th>29</th>\n",
       "      <td>100.00</td>\n",
       "      <td>Male</td>\n",
       "      <td>9464</td>\n",
       "      <td>3</td>\n",
       "      <td>3937.910156</td>\n",
       "      <td>3969.448730</td>\n",
       "      <td>3837.931152</td>\n",
       "      <td>3887.828369</td>\n",
       "      <td>3887.828369</td>\n",
       "      <td>20806963328</td>\n",
       "    </tr>\n",
       "    <tr>\n",
       "      <th>30</th>\n",
       "      <td>104.99</td>\n",
       "      <td>Female</td>\n",
       "      <td>451</td>\n",
       "      <td>2</td>\n",
       "      <td>3937.910156</td>\n",
       "      <td>3969.448730</td>\n",
       "      <td>3837.931152</td>\n",
       "      <td>3887.828369</td>\n",
       "      <td>3887.828369</td>\n",
       "      <td>20806963328</td>\n",
       "    </tr>\n",
       "    <tr>\n",
       "      <th>...</th>\n",
       "      <td>...</td>\n",
       "      <td>...</td>\n",
       "      <td>...</td>\n",
       "      <td>...</td>\n",
       "      <td>...</td>\n",
       "      <td>...</td>\n",
       "      <td>...</td>\n",
       "      <td>...</td>\n",
       "      <td>...</td>\n",
       "      <td>...</td>\n",
       "    </tr>\n",
       "    <tr>\n",
       "      <th>140256</th>\n",
       "      <td>0.79</td>\n",
       "      <td>Male</td>\n",
       "      <td>8466</td>\n",
       "      <td>3</td>\n",
       "      <td>232.877487</td>\n",
       "      <td>233.901932</td>\n",
       "      <td>229.259460</td>\n",
       "      <td>229.668045</td>\n",
       "      <td>229.668045</td>\n",
       "      <td>7187490226</td>\n",
       "    </tr>\n",
       "    <tr>\n",
       "      <th>140274</th>\n",
       "      <td>0.35</td>\n",
       "      <td>Male</td>\n",
       "      <td>2565</td>\n",
       "      <td>3</td>\n",
       "      <td>123.654655</td>\n",
       "      <td>123.841690</td>\n",
       "      <td>120.241898</td>\n",
       "      <td>121.010262</td>\n",
       "      <td>121.010262</td>\n",
       "      <td>2305389800</td>\n",
       "    </tr>\n",
       "    <tr>\n",
       "      <th>140276</th>\n",
       "      <td>0.30</td>\n",
       "      <td>Male</td>\n",
       "      <td>9464</td>\n",
       "      <td>3</td>\n",
       "      <td>123.654655</td>\n",
       "      <td>123.841690</td>\n",
       "      <td>120.241898</td>\n",
       "      <td>121.010262</td>\n",
       "      <td>121.010262</td>\n",
       "      <td>2305389800</td>\n",
       "    </tr>\n",
       "    <tr>\n",
       "      <th>140284</th>\n",
       "      <td>0.60</td>\n",
       "      <td>Male</td>\n",
       "      <td>2665</td>\n",
       "      <td>3</td>\n",
       "      <td>133.612320</td>\n",
       "      <td>135.634552</td>\n",
       "      <td>129.730942</td>\n",
       "      <td>135.634552</td>\n",
       "      <td>135.634552</td>\n",
       "      <td>12456564435</td>\n",
       "    </tr>\n",
       "    <tr>\n",
       "      <th>140285</th>\n",
       "      <td>0.50</td>\n",
       "      <td>Female</td>\n",
       "      <td>9127</td>\n",
       "      <td>5</td>\n",
       "      <td>168.887894</td>\n",
       "      <td>174.323975</td>\n",
       "      <td>167.802582</td>\n",
       "      <td>172.469788</td>\n",
       "      <td>172.469788</td>\n",
       "      <td>5830212249</td>\n",
       "    </tr>\n",
       "  </tbody>\n",
       "</table>\n",
       "<p>16794 rows × 10 columns</p>\n",
       "</div>"
      ],
      "text/plain": [
       "           eth    type  Rank  num_attributes         Open         High  \\\n",
       "6        97.25  Female  4632               2  3937.910156  3969.448730   \n",
       "12       98.00  Female  6436               4  3937.910156  3969.448730   \n",
       "18      105.00    Male  7545               2  3937.910156  3969.448730   \n",
       "29      100.00    Male  9464               3  3937.910156  3969.448730   \n",
       "30      104.99  Female   451               2  3937.910156  3969.448730   \n",
       "...        ...     ...   ...             ...          ...          ...   \n",
       "140256    0.79    Male  8466               3   232.877487   233.901932   \n",
       "140274    0.35    Male  2565               3   123.654655   123.841690   \n",
       "140276    0.30    Male  9464               3   123.654655   123.841690   \n",
       "140284    0.60    Male  2665               3   133.612320   135.634552   \n",
       "140285    0.50  Female  9127               5   168.887894   174.323975   \n",
       "\n",
       "                Low        Close    Adj Close       Volume  \n",
       "6       3837.931152  3887.828369  3887.828369  20806963328  \n",
       "12      3837.931152  3887.828369  3887.828369  20806963328  \n",
       "18      3837.931152  3887.828369  3887.828369  20806963328  \n",
       "29      3837.931152  3887.828369  3887.828369  20806963328  \n",
       "30      3837.931152  3887.828369  3887.828369  20806963328  \n",
       "...             ...          ...          ...          ...  \n",
       "140256   229.259460   229.668045   229.668045   7187490226  \n",
       "140274   120.241898   121.010262   121.010262   2305389800  \n",
       "140276   120.241898   121.010262   121.010262   2305389800  \n",
       "140284   129.730942   135.634552   135.634552  12456564435  \n",
       "140285   167.802582   172.469788   172.469788   5830212249  \n",
       "\n",
       "[16794 rows x 10 columns]"
      ]
     },
     "execution_count": 79,
     "metadata": {},
     "output_type": "execute_result"
    }
   ],
   "source": [
    "total"
   ]
  },
  {
   "cell_type": "code",
   "execution_count": 80,
   "id": "c67b6a87",
   "metadata": {},
   "outputs": [],
   "source": [
    "total = pd.get_dummies(total, drop_first = True)"
   ]
  },
  {
   "cell_type": "code",
   "execution_count": 81,
   "id": "f9eb583a",
   "metadata": {},
   "outputs": [],
   "source": [
    "X = total.drop('eth',axis=1).values\n",
    "Y = total['eth']"
   ]
  },
  {
   "cell_type": "code",
   "execution_count": 82,
   "id": "7f8a6070",
   "metadata": {},
   "outputs": [],
   "source": [
    "from sklearn.model_selection import train_test_split\n",
    "from sklearn.metrics import mean_squared_error\n",
    "from sklearn.datasets import make_regression\n",
    "from sklearn.svm import SVR\n",
    "from sklearn.tree import DecisionTreeRegressor\n",
    "from sklearn.neighbors import KNeighborsRegressor\n",
    "from sklearn.ensemble import VotingRegressor\n",
    "from sklearn import metrics"
   ]
  },
  {
   "cell_type": "code",
   "execution_count": 83,
   "id": "e2059279",
   "metadata": {},
   "outputs": [],
   "source": [
    "X_train, X_test, y_train, y_test = train_test_split(X, Y, test_size=0.30, random_state=42)"
   ]
  },
  {
   "cell_type": "code",
   "execution_count": 84,
   "id": "8a7346be",
   "metadata": {},
   "outputs": [],
   "source": [
    "models = [('Support Vector', SVR()),\n",
    "         ('Decision Tree', DecisionTreeRegressor()),\n",
    "         ('KNN', KNeighborsRegressor())]\n",
    "scores = []"
   ]
  },
  {
   "cell_type": "code",
   "execution_count": 85,
   "id": "309f7071",
   "metadata": {},
   "outputs": [],
   "source": [
    "for name, model in models:\n",
    "    model.fit(X_train, y_train)\n",
    "    \n",
    "    prediction = model.predict(X_test)"
   ]
  },
  {
   "cell_type": "code",
   "execution_count": 86,
   "id": "cfc2a08f",
   "metadata": {},
   "outputs": [
    {
     "name": "stdout",
     "output_type": "stream",
     "text": [
      "MAE 13.55273586028974\n",
      "MSE 4417.06966237428\n",
      "RMSE 66.46103867962252\n",
      "R2 score 0.33749563802397975\n"
     ]
    }
   ],
   "source": [
    "print('MAE', metrics.mean_absolute_error(y_test, prediction))\n",
    "print('MSE', metrics.mean_squared_error(y_test, prediction,squared = True))\n",
    "print('RMSE', metrics.mean_squared_error(y_test, prediction,squared = False))\n",
    "print('R2 score', metrics.r2_score(y_test, prediction))"
   ]
  },
  {
   "cell_type": "code",
   "execution_count": 87,
   "id": "6622cb76",
   "metadata": {},
   "outputs": [],
   "source": [
    "ensemble = VotingRegressor(estimators=models)\n",
    "ensemble.fit(X_train, y_train)\n",
    "prediction = ensemble.predict(X_test)"
   ]
  },
  {
   "cell_type": "code",
   "execution_count": 88,
   "id": "ff94c0a8",
   "metadata": {},
   "outputs": [
    {
     "name": "stdout",
     "output_type": "stream",
     "text": [
      "MAE 12.865571888832076\n",
      "MSE 2541.31221674094\n",
      "RMSE 50.411429425686194\n",
      "R2 score 0.6188354367431844\n"
     ]
    }
   ],
   "source": [
    "print('MAE', metrics.mean_absolute_error(y_test, prediction))\n",
    "print('MSE', metrics.mean_squared_error(y_test, prediction,squared = True))\n",
    "print('RMSE', metrics.mean_squared_error(y_test, prediction,squared = False))\n",
    "print('R2 score', metrics.r2_score(y_test, prediction))"
   ]
  },
  {
   "cell_type": "code",
   "execution_count": 89,
   "id": "e3d48e47",
   "metadata": {},
   "outputs": [],
   "source": [
    "from sklearn.model_selection import GridSearchCV\n",
    "from sklearn.model_selection import RepeatedStratifiedKFold\n",
    "from sklearn.model_selection import KFold\n",
    "from sklearn.pipeline import Pipeline"
   ]
  },
  {
   "cell_type": "code",
   "execution_count": 90,
   "id": "178094b4",
   "metadata": {},
   "outputs": [
    {
     "data": {
      "text/html": [
       "<div>\n",
       "<style scoped>\n",
       "    .dataframe tbody tr th:only-of-type {\n",
       "        vertical-align: middle;\n",
       "    }\n",
       "\n",
       "    .dataframe tbody tr th {\n",
       "        vertical-align: top;\n",
       "    }\n",
       "\n",
       "    .dataframe thead th {\n",
       "        text-align: right;\n",
       "    }\n",
       "</style>\n",
       "<table border=\"1\" class=\"dataframe\">\n",
       "  <thead>\n",
       "    <tr style=\"text-align: right;\">\n",
       "      <th></th>\n",
       "      <th>txn_type</th>\n",
       "      <th>date</th>\n",
       "      <th>eth</th>\n",
       "      <th>punk_id</th>\n",
       "      <th>type</th>\n",
       "      <th>accessories</th>\n",
       "      <th>Rank</th>\n",
       "      <th>num_attributes</th>\n",
       "      <th>Open</th>\n",
       "      <th>High</th>\n",
       "      <th>Low</th>\n",
       "      <th>Close</th>\n",
       "      <th>Adj Close</th>\n",
       "      <th>Volume</th>\n",
       "    </tr>\n",
       "  </thead>\n",
       "  <tbody>\n",
       "    <tr>\n",
       "      <th>0</th>\n",
       "      <td>Bid Withdrawn</td>\n",
       "      <td>2021-09-04</td>\n",
       "      <td>321.0</td>\n",
       "      <td>0</td>\n",
       "      <td>Female</td>\n",
       "      <td>[Green Eye Shadow, Earring, Blonde Bob]</td>\n",
       "      <td>4005</td>\n",
       "      <td>3</td>\n",
       "      <td>3937.910156</td>\n",
       "      <td>3969.448730</td>\n",
       "      <td>3837.931152</td>\n",
       "      <td>3887.828369</td>\n",
       "      <td>3887.828369</td>\n",
       "      <td>20806963328</td>\n",
       "    </tr>\n",
       "    <tr>\n",
       "      <th>1</th>\n",
       "      <td>Bid Withdrawn</td>\n",
       "      <td>2021-09-04</td>\n",
       "      <td>198.0</td>\n",
       "      <td>1</td>\n",
       "      <td>Male</td>\n",
       "      <td>[Smile, Mohawk]</td>\n",
       "      <td>5066</td>\n",
       "      <td>2</td>\n",
       "      <td>3937.910156</td>\n",
       "      <td>3969.448730</td>\n",
       "      <td>3837.931152</td>\n",
       "      <td>3887.828369</td>\n",
       "      <td>3887.828369</td>\n",
       "      <td>20806963328</td>\n",
       "    </tr>\n",
       "    <tr>\n",
       "      <th>2</th>\n",
       "      <td>Bid</td>\n",
       "      <td>2021-09-04</td>\n",
       "      <td>1.0</td>\n",
       "      <td>6</td>\n",
       "      <td>Male</td>\n",
       "      <td>[Do-rag]</td>\n",
       "      <td>4485</td>\n",
       "      <td>1</td>\n",
       "      <td>3937.910156</td>\n",
       "      <td>3969.448730</td>\n",
       "      <td>3837.931152</td>\n",
       "      <td>3887.828369</td>\n",
       "      <td>3887.828369</td>\n",
       "      <td>20806963328</td>\n",
       "    </tr>\n",
       "    <tr>\n",
       "      <th>3</th>\n",
       "      <td>Bid</td>\n",
       "      <td>2021-09-04</td>\n",
       "      <td>0.5</td>\n",
       "      <td>28</td>\n",
       "      <td>Male</td>\n",
       "      <td>[Big Shades, Crazy Hair]</td>\n",
       "      <td>5306</td>\n",
       "      <td>2</td>\n",
       "      <td>3937.910156</td>\n",
       "      <td>3969.448730</td>\n",
       "      <td>3837.931152</td>\n",
       "      <td>3887.828369</td>\n",
       "      <td>3887.828369</td>\n",
       "      <td>20806963328</td>\n",
       "    </tr>\n",
       "    <tr>\n",
       "      <th>4</th>\n",
       "      <td>Bid</td>\n",
       "      <td>2021-09-04</td>\n",
       "      <td>0.5</td>\n",
       "      <td>35</td>\n",
       "      <td>Male</td>\n",
       "      <td>[Cigarette, Peak Spike, Earring, Horned Rim Gl...</td>\n",
       "      <td>9464</td>\n",
       "      <td>5</td>\n",
       "      <td>3937.910156</td>\n",
       "      <td>3969.448730</td>\n",
       "      <td>3837.931152</td>\n",
       "      <td>3887.828369</td>\n",
       "      <td>3887.828369</td>\n",
       "      <td>20806963328</td>\n",
       "    </tr>\n",
       "    <tr>\n",
       "      <th>...</th>\n",
       "      <td>...</td>\n",
       "      <td>...</td>\n",
       "      <td>...</td>\n",
       "      <td>...</td>\n",
       "      <td>...</td>\n",
       "      <td>...</td>\n",
       "      <td>...</td>\n",
       "      <td>...</td>\n",
       "      <td>...</td>\n",
       "      <td>...</td>\n",
       "      <td>...</td>\n",
       "      <td>...</td>\n",
       "      <td>...</td>\n",
       "      <td>...</td>\n",
       "    </tr>\n",
       "    <tr>\n",
       "      <th>140282</th>\n",
       "      <td>Offered</td>\n",
       "      <td>2019-02-07</td>\n",
       "      <td>5.0</td>\n",
       "      <td>9530</td>\n",
       "      <td>Male</td>\n",
       "      <td>[Clown Nose, Top Hat]</td>\n",
       "      <td>2035</td>\n",
       "      <td>2</td>\n",
       "      <td>104.835777</td>\n",
       "      <td>106.058876</td>\n",
       "      <td>104.409134</td>\n",
       "      <td>104.535301</td>\n",
       "      <td>104.535301</td>\n",
       "      <td>2326764622</td>\n",
       "    </tr>\n",
       "    <tr>\n",
       "      <th>140283</th>\n",
       "      <td>Transfer</td>\n",
       "      <td>2020-03-28</td>\n",
       "      <td>NaN</td>\n",
       "      <td>9561</td>\n",
       "      <td>Male</td>\n",
       "      <td>[Eye Mask, Headband, Big Beard]</td>\n",
       "      <td>5768</td>\n",
       "      <td>3</td>\n",
       "      <td>134.032745</td>\n",
       "      <td>134.032745</td>\n",
       "      <td>126.962189</td>\n",
       "      <td>130.986496</td>\n",
       "      <td>130.986496</td>\n",
       "      <td>12162403960</td>\n",
       "    </tr>\n",
       "    <tr>\n",
       "      <th>140284</th>\n",
       "      <td>Sold</td>\n",
       "      <td>2020-04-01</td>\n",
       "      <td>0.6</td>\n",
       "      <td>9697</td>\n",
       "      <td>Male</td>\n",
       "      <td>[Eye Mask, Cap Forward, Earring]</td>\n",
       "      <td>2665</td>\n",
       "      <td>3</td>\n",
       "      <td>133.612320</td>\n",
       "      <td>135.634552</td>\n",
       "      <td>129.730942</td>\n",
       "      <td>135.634552</td>\n",
       "      <td>135.634552</td>\n",
       "      <td>12456564435</td>\n",
       "    </tr>\n",
       "    <tr>\n",
       "      <th>140285</th>\n",
       "      <td>Sold</td>\n",
       "      <td>2019-08-31</td>\n",
       "      <td>0.5</td>\n",
       "      <td>9943</td>\n",
       "      <td>Female</td>\n",
       "      <td>[Black Lipstick, Mohawk Thin, Eye Patch, Earri...</td>\n",
       "      <td>9127</td>\n",
       "      <td>5</td>\n",
       "      <td>168.887894</td>\n",
       "      <td>174.323975</td>\n",
       "      <td>167.802582</td>\n",
       "      <td>172.469788</td>\n",
       "      <td>172.469788</td>\n",
       "      <td>5830212249</td>\n",
       "    </tr>\n",
       "    <tr>\n",
       "      <th>140286</th>\n",
       "      <td>Offered</td>\n",
       "      <td>2019-08-31</td>\n",
       "      <td>0.5</td>\n",
       "      <td>9943</td>\n",
       "      <td>Female</td>\n",
       "      <td>[Black Lipstick, Mohawk Thin, Eye Patch, Earri...</td>\n",
       "      <td>9127</td>\n",
       "      <td>5</td>\n",
       "      <td>168.887894</td>\n",
       "      <td>174.323975</td>\n",
       "      <td>167.802582</td>\n",
       "      <td>172.469788</td>\n",
       "      <td>172.469788</td>\n",
       "      <td>5830212249</td>\n",
       "    </tr>\n",
       "  </tbody>\n",
       "</table>\n",
       "<p>140287 rows × 14 columns</p>\n",
       "</div>"
      ],
      "text/plain": [
       "             txn_type       date    eth  punk_id    type  \\\n",
       "0       Bid Withdrawn 2021-09-04  321.0        0  Female   \n",
       "1       Bid Withdrawn 2021-09-04  198.0        1    Male   \n",
       "2                 Bid 2021-09-04    1.0        6    Male   \n",
       "3                 Bid 2021-09-04    0.5       28    Male   \n",
       "4                 Bid 2021-09-04    0.5       35    Male   \n",
       "...               ...        ...    ...      ...     ...   \n",
       "140282        Offered 2019-02-07    5.0     9530    Male   \n",
       "140283       Transfer 2020-03-28    NaN     9561    Male   \n",
       "140284           Sold 2020-04-01    0.6     9697    Male   \n",
       "140285           Sold 2019-08-31    0.5     9943  Female   \n",
       "140286        Offered 2019-08-31    0.5     9943  Female   \n",
       "\n",
       "                                              accessories  Rank  \\\n",
       "0                 [Green Eye Shadow, Earring, Blonde Bob]  4005   \n",
       "1                                         [Smile, Mohawk]  5066   \n",
       "2                                                [Do-rag]  4485   \n",
       "3                                [Big Shades, Crazy Hair]  5306   \n",
       "4       [Cigarette, Peak Spike, Earring, Horned Rim Gl...  9464   \n",
       "...                                                   ...   ...   \n",
       "140282                              [Clown Nose, Top Hat]  2035   \n",
       "140283                    [Eye Mask, Headband, Big Beard]  5768   \n",
       "140284                   [Eye Mask, Cap Forward, Earring]  2665   \n",
       "140285  [Black Lipstick, Mohawk Thin, Eye Patch, Earri...  9127   \n",
       "140286  [Black Lipstick, Mohawk Thin, Eye Patch, Earri...  9127   \n",
       "\n",
       "        num_attributes         Open         High          Low        Close  \\\n",
       "0                    3  3937.910156  3969.448730  3837.931152  3887.828369   \n",
       "1                    2  3937.910156  3969.448730  3837.931152  3887.828369   \n",
       "2                    1  3937.910156  3969.448730  3837.931152  3887.828369   \n",
       "3                    2  3937.910156  3969.448730  3837.931152  3887.828369   \n",
       "4                    5  3937.910156  3969.448730  3837.931152  3887.828369   \n",
       "...                ...          ...          ...          ...          ...   \n",
       "140282               2   104.835777   106.058876   104.409134   104.535301   \n",
       "140283               3   134.032745   134.032745   126.962189   130.986496   \n",
       "140284               3   133.612320   135.634552   129.730942   135.634552   \n",
       "140285               5   168.887894   174.323975   167.802582   172.469788   \n",
       "140286               5   168.887894   174.323975   167.802582   172.469788   \n",
       "\n",
       "          Adj Close       Volume  \n",
       "0       3887.828369  20806963328  \n",
       "1       3887.828369  20806963328  \n",
       "2       3887.828369  20806963328  \n",
       "3       3887.828369  20806963328  \n",
       "4       3887.828369  20806963328  \n",
       "...             ...          ...  \n",
       "140282   104.535301   2326764622  \n",
       "140283   130.986496  12162403960  \n",
       "140284   135.634552  12456564435  \n",
       "140285   172.469788   5830212249  \n",
       "140286   172.469788   5830212249  \n",
       "\n",
       "[140287 rows x 14 columns]"
      ]
     },
     "execution_count": 90,
     "metadata": {},
     "output_type": "execute_result"
    }
   ],
   "source": [
    "punks1"
   ]
  },
  {
   "cell_type": "code",
   "execution_count": 91,
   "id": "7c3d2f43",
   "metadata": {},
   "outputs": [
    {
     "name": "stderr",
     "output_type": "stream",
     "text": [
      "<ipython-input-91-a19d7d5ddf58>:1: FutureWarning:\n",
      "\n",
      "The default dtype for empty Series will be 'object' instead of 'float64' in a future version. Specify a dtype explicitly to silence this warning.\n",
      "\n"
     ]
    }
   ],
   "source": [
    "punks2 = punks1['accessories'].apply(pd.Series)"
   ]
  },
  {
   "cell_type": "code",
   "execution_count": 92,
   "id": "82b960d0",
   "metadata": {},
   "outputs": [
    {
     "data": {
      "text/html": [
       "<div>\n",
       "<style scoped>\n",
       "    .dataframe tbody tr th:only-of-type {\n",
       "        vertical-align: middle;\n",
       "    }\n",
       "\n",
       "    .dataframe tbody tr th {\n",
       "        vertical-align: top;\n",
       "    }\n",
       "\n",
       "    .dataframe thead th {\n",
       "        text-align: right;\n",
       "    }\n",
       "</style>\n",
       "<table border=\"1\" class=\"dataframe\">\n",
       "  <thead>\n",
       "    <tr style=\"text-align: right;\">\n",
       "      <th></th>\n",
       "      <th>0</th>\n",
       "      <th>1</th>\n",
       "      <th>2</th>\n",
       "      <th>3</th>\n",
       "      <th>4</th>\n",
       "      <th>5</th>\n",
       "      <th>6</th>\n",
       "    </tr>\n",
       "  </thead>\n",
       "  <tbody>\n",
       "    <tr>\n",
       "      <th>0</th>\n",
       "      <td>Green Eye Shadow</td>\n",
       "      <td>Earring</td>\n",
       "      <td>Blonde Bob</td>\n",
       "      <td>NaN</td>\n",
       "      <td>NaN</td>\n",
       "      <td>NaN</td>\n",
       "      <td>NaN</td>\n",
       "    </tr>\n",
       "    <tr>\n",
       "      <th>1</th>\n",
       "      <td>Smile</td>\n",
       "      <td>Mohawk</td>\n",
       "      <td>NaN</td>\n",
       "      <td>NaN</td>\n",
       "      <td>NaN</td>\n",
       "      <td>NaN</td>\n",
       "      <td>NaN</td>\n",
       "    </tr>\n",
       "    <tr>\n",
       "      <th>2</th>\n",
       "      <td>Do-rag</td>\n",
       "      <td>NaN</td>\n",
       "      <td>NaN</td>\n",
       "      <td>NaN</td>\n",
       "      <td>NaN</td>\n",
       "      <td>NaN</td>\n",
       "      <td>NaN</td>\n",
       "    </tr>\n",
       "    <tr>\n",
       "      <th>3</th>\n",
       "      <td>Big Shades</td>\n",
       "      <td>Crazy Hair</td>\n",
       "      <td>NaN</td>\n",
       "      <td>NaN</td>\n",
       "      <td>NaN</td>\n",
       "      <td>NaN</td>\n",
       "      <td>NaN</td>\n",
       "    </tr>\n",
       "    <tr>\n",
       "      <th>4</th>\n",
       "      <td>Cigarette</td>\n",
       "      <td>Peak Spike</td>\n",
       "      <td>Earring</td>\n",
       "      <td>Horned Rim Glasses</td>\n",
       "      <td>Normal Beard</td>\n",
       "      <td>NaN</td>\n",
       "      <td>NaN</td>\n",
       "    </tr>\n",
       "    <tr>\n",
       "      <th>...</th>\n",
       "      <td>...</td>\n",
       "      <td>...</td>\n",
       "      <td>...</td>\n",
       "      <td>...</td>\n",
       "      <td>...</td>\n",
       "      <td>...</td>\n",
       "      <td>...</td>\n",
       "    </tr>\n",
       "    <tr>\n",
       "      <th>140282</th>\n",
       "      <td>Clown Nose</td>\n",
       "      <td>Top Hat</td>\n",
       "      <td>NaN</td>\n",
       "      <td>NaN</td>\n",
       "      <td>NaN</td>\n",
       "      <td>NaN</td>\n",
       "      <td>NaN</td>\n",
       "    </tr>\n",
       "    <tr>\n",
       "      <th>140283</th>\n",
       "      <td>Eye Mask</td>\n",
       "      <td>Headband</td>\n",
       "      <td>Big Beard</td>\n",
       "      <td>NaN</td>\n",
       "      <td>NaN</td>\n",
       "      <td>NaN</td>\n",
       "      <td>NaN</td>\n",
       "    </tr>\n",
       "    <tr>\n",
       "      <th>140284</th>\n",
       "      <td>Eye Mask</td>\n",
       "      <td>Cap Forward</td>\n",
       "      <td>Earring</td>\n",
       "      <td>NaN</td>\n",
       "      <td>NaN</td>\n",
       "      <td>NaN</td>\n",
       "      <td>NaN</td>\n",
       "    </tr>\n",
       "    <tr>\n",
       "      <th>140285</th>\n",
       "      <td>Black Lipstick</td>\n",
       "      <td>Mohawk Thin</td>\n",
       "      <td>Eye Patch</td>\n",
       "      <td>Earring</td>\n",
       "      <td>Cigarette</td>\n",
       "      <td>NaN</td>\n",
       "      <td>NaN</td>\n",
       "    </tr>\n",
       "    <tr>\n",
       "      <th>140286</th>\n",
       "      <td>Black Lipstick</td>\n",
       "      <td>Mohawk Thin</td>\n",
       "      <td>Eye Patch</td>\n",
       "      <td>Earring</td>\n",
       "      <td>Cigarette</td>\n",
       "      <td>NaN</td>\n",
       "      <td>NaN</td>\n",
       "    </tr>\n",
       "  </tbody>\n",
       "</table>\n",
       "<p>140287 rows × 7 columns</p>\n",
       "</div>"
      ],
      "text/plain": [
       "                       0            1           2                   3  \\\n",
       "0       Green Eye Shadow      Earring  Blonde Bob                 NaN   \n",
       "1                  Smile       Mohawk         NaN                 NaN   \n",
       "2                 Do-rag          NaN         NaN                 NaN   \n",
       "3             Big Shades   Crazy Hair         NaN                 NaN   \n",
       "4              Cigarette   Peak Spike     Earring  Horned Rim Glasses   \n",
       "...                  ...          ...         ...                 ...   \n",
       "140282        Clown Nose      Top Hat         NaN                 NaN   \n",
       "140283          Eye Mask     Headband   Big Beard                 NaN   \n",
       "140284          Eye Mask  Cap Forward     Earring                 NaN   \n",
       "140285    Black Lipstick  Mohawk Thin   Eye Patch             Earring   \n",
       "140286    Black Lipstick  Mohawk Thin   Eye Patch             Earring   \n",
       "\n",
       "                   4    5    6  \n",
       "0                NaN  NaN  NaN  \n",
       "1                NaN  NaN  NaN  \n",
       "2                NaN  NaN  NaN  \n",
       "3                NaN  NaN  NaN  \n",
       "4       Normal Beard  NaN  NaN  \n",
       "...              ...  ...  ...  \n",
       "140282           NaN  NaN  NaN  \n",
       "140283           NaN  NaN  NaN  \n",
       "140284           NaN  NaN  NaN  \n",
       "140285     Cigarette  NaN  NaN  \n",
       "140286     Cigarette  NaN  NaN  \n",
       "\n",
       "[140287 rows x 7 columns]"
      ]
     },
     "execution_count": 92,
     "metadata": {},
     "output_type": "execute_result"
    }
   ],
   "source": [
    "punks2"
   ]
  },
  {
   "cell_type": "code",
   "execution_count": 93,
   "id": "d0dc9af8",
   "metadata": {},
   "outputs": [
    {
     "data": {
      "text/html": [
       "<div>\n",
       "<style scoped>\n",
       "    .dataframe tbody tr th:only-of-type {\n",
       "        vertical-align: middle;\n",
       "    }\n",
       "\n",
       "    .dataframe tbody tr th {\n",
       "        vertical-align: top;\n",
       "    }\n",
       "\n",
       "    .dataframe thead th {\n",
       "        text-align: right;\n",
       "    }\n",
       "</style>\n",
       "<table border=\"1\" class=\"dataframe\">\n",
       "  <thead>\n",
       "    <tr style=\"text-align: right;\">\n",
       "      <th></th>\n",
       "      <th>txn_type</th>\n",
       "      <th>date</th>\n",
       "      <th>eth</th>\n",
       "      <th>punk_id</th>\n",
       "      <th>type</th>\n",
       "      <th>accessories</th>\n",
       "      <th>Rank</th>\n",
       "      <th>num_attributes</th>\n",
       "      <th>Open</th>\n",
       "      <th>High</th>\n",
       "      <th>...</th>\n",
       "      <th>Close</th>\n",
       "      <th>Adj Close</th>\n",
       "      <th>Volume</th>\n",
       "      <th>0</th>\n",
       "      <th>1</th>\n",
       "      <th>2</th>\n",
       "      <th>3</th>\n",
       "      <th>4</th>\n",
       "      <th>5</th>\n",
       "      <th>6</th>\n",
       "    </tr>\n",
       "  </thead>\n",
       "  <tbody>\n",
       "    <tr>\n",
       "      <th>0</th>\n",
       "      <td>Bid Withdrawn</td>\n",
       "      <td>2021-09-04</td>\n",
       "      <td>321.0</td>\n",
       "      <td>0</td>\n",
       "      <td>Female</td>\n",
       "      <td>[Green Eye Shadow, Earring, Blonde Bob]</td>\n",
       "      <td>4005</td>\n",
       "      <td>3</td>\n",
       "      <td>3937.910156</td>\n",
       "      <td>3969.448730</td>\n",
       "      <td>...</td>\n",
       "      <td>3887.828369</td>\n",
       "      <td>3887.828369</td>\n",
       "      <td>20806963328</td>\n",
       "      <td>Green Eye Shadow</td>\n",
       "      <td>Earring</td>\n",
       "      <td>Blonde Bob</td>\n",
       "      <td>NaN</td>\n",
       "      <td>NaN</td>\n",
       "      <td>NaN</td>\n",
       "      <td>NaN</td>\n",
       "    </tr>\n",
       "    <tr>\n",
       "      <th>1</th>\n",
       "      <td>Bid Withdrawn</td>\n",
       "      <td>2021-09-04</td>\n",
       "      <td>198.0</td>\n",
       "      <td>1</td>\n",
       "      <td>Male</td>\n",
       "      <td>[Smile, Mohawk]</td>\n",
       "      <td>5066</td>\n",
       "      <td>2</td>\n",
       "      <td>3937.910156</td>\n",
       "      <td>3969.448730</td>\n",
       "      <td>...</td>\n",
       "      <td>3887.828369</td>\n",
       "      <td>3887.828369</td>\n",
       "      <td>20806963328</td>\n",
       "      <td>Smile</td>\n",
       "      <td>Mohawk</td>\n",
       "      <td>NaN</td>\n",
       "      <td>NaN</td>\n",
       "      <td>NaN</td>\n",
       "      <td>NaN</td>\n",
       "      <td>NaN</td>\n",
       "    </tr>\n",
       "    <tr>\n",
       "      <th>2</th>\n",
       "      <td>Bid</td>\n",
       "      <td>2021-09-04</td>\n",
       "      <td>1.0</td>\n",
       "      <td>6</td>\n",
       "      <td>Male</td>\n",
       "      <td>[Do-rag]</td>\n",
       "      <td>4485</td>\n",
       "      <td>1</td>\n",
       "      <td>3937.910156</td>\n",
       "      <td>3969.448730</td>\n",
       "      <td>...</td>\n",
       "      <td>3887.828369</td>\n",
       "      <td>3887.828369</td>\n",
       "      <td>20806963328</td>\n",
       "      <td>Do-rag</td>\n",
       "      <td>NaN</td>\n",
       "      <td>NaN</td>\n",
       "      <td>NaN</td>\n",
       "      <td>NaN</td>\n",
       "      <td>NaN</td>\n",
       "      <td>NaN</td>\n",
       "    </tr>\n",
       "    <tr>\n",
       "      <th>3</th>\n",
       "      <td>Bid</td>\n",
       "      <td>2021-09-04</td>\n",
       "      <td>0.5</td>\n",
       "      <td>28</td>\n",
       "      <td>Male</td>\n",
       "      <td>[Big Shades, Crazy Hair]</td>\n",
       "      <td>5306</td>\n",
       "      <td>2</td>\n",
       "      <td>3937.910156</td>\n",
       "      <td>3969.448730</td>\n",
       "      <td>...</td>\n",
       "      <td>3887.828369</td>\n",
       "      <td>3887.828369</td>\n",
       "      <td>20806963328</td>\n",
       "      <td>Big Shades</td>\n",
       "      <td>Crazy Hair</td>\n",
       "      <td>NaN</td>\n",
       "      <td>NaN</td>\n",
       "      <td>NaN</td>\n",
       "      <td>NaN</td>\n",
       "      <td>NaN</td>\n",
       "    </tr>\n",
       "    <tr>\n",
       "      <th>4</th>\n",
       "      <td>Bid</td>\n",
       "      <td>2021-09-04</td>\n",
       "      <td>0.5</td>\n",
       "      <td>35</td>\n",
       "      <td>Male</td>\n",
       "      <td>[Cigarette, Peak Spike, Earring, Horned Rim Gl...</td>\n",
       "      <td>9464</td>\n",
       "      <td>5</td>\n",
       "      <td>3937.910156</td>\n",
       "      <td>3969.448730</td>\n",
       "      <td>...</td>\n",
       "      <td>3887.828369</td>\n",
       "      <td>3887.828369</td>\n",
       "      <td>20806963328</td>\n",
       "      <td>Cigarette</td>\n",
       "      <td>Peak Spike</td>\n",
       "      <td>Earring</td>\n",
       "      <td>Horned Rim Glasses</td>\n",
       "      <td>Normal Beard</td>\n",
       "      <td>NaN</td>\n",
       "      <td>NaN</td>\n",
       "    </tr>\n",
       "    <tr>\n",
       "      <th>...</th>\n",
       "      <td>...</td>\n",
       "      <td>...</td>\n",
       "      <td>...</td>\n",
       "      <td>...</td>\n",
       "      <td>...</td>\n",
       "      <td>...</td>\n",
       "      <td>...</td>\n",
       "      <td>...</td>\n",
       "      <td>...</td>\n",
       "      <td>...</td>\n",
       "      <td>...</td>\n",
       "      <td>...</td>\n",
       "      <td>...</td>\n",
       "      <td>...</td>\n",
       "      <td>...</td>\n",
       "      <td>...</td>\n",
       "      <td>...</td>\n",
       "      <td>...</td>\n",
       "      <td>...</td>\n",
       "      <td>...</td>\n",
       "      <td>...</td>\n",
       "    </tr>\n",
       "    <tr>\n",
       "      <th>140282</th>\n",
       "      <td>Offered</td>\n",
       "      <td>2019-02-07</td>\n",
       "      <td>5.0</td>\n",
       "      <td>9530</td>\n",
       "      <td>Male</td>\n",
       "      <td>[Clown Nose, Top Hat]</td>\n",
       "      <td>2035</td>\n",
       "      <td>2</td>\n",
       "      <td>104.835777</td>\n",
       "      <td>106.058876</td>\n",
       "      <td>...</td>\n",
       "      <td>104.535301</td>\n",
       "      <td>104.535301</td>\n",
       "      <td>2326764622</td>\n",
       "      <td>Clown Nose</td>\n",
       "      <td>Top Hat</td>\n",
       "      <td>NaN</td>\n",
       "      <td>NaN</td>\n",
       "      <td>NaN</td>\n",
       "      <td>NaN</td>\n",
       "      <td>NaN</td>\n",
       "    </tr>\n",
       "    <tr>\n",
       "      <th>140283</th>\n",
       "      <td>Transfer</td>\n",
       "      <td>2020-03-28</td>\n",
       "      <td>NaN</td>\n",
       "      <td>9561</td>\n",
       "      <td>Male</td>\n",
       "      <td>[Eye Mask, Headband, Big Beard]</td>\n",
       "      <td>5768</td>\n",
       "      <td>3</td>\n",
       "      <td>134.032745</td>\n",
       "      <td>134.032745</td>\n",
       "      <td>...</td>\n",
       "      <td>130.986496</td>\n",
       "      <td>130.986496</td>\n",
       "      <td>12162403960</td>\n",
       "      <td>Eye Mask</td>\n",
       "      <td>Headband</td>\n",
       "      <td>Big Beard</td>\n",
       "      <td>NaN</td>\n",
       "      <td>NaN</td>\n",
       "      <td>NaN</td>\n",
       "      <td>NaN</td>\n",
       "    </tr>\n",
       "    <tr>\n",
       "      <th>140284</th>\n",
       "      <td>Sold</td>\n",
       "      <td>2020-04-01</td>\n",
       "      <td>0.6</td>\n",
       "      <td>9697</td>\n",
       "      <td>Male</td>\n",
       "      <td>[Eye Mask, Cap Forward, Earring]</td>\n",
       "      <td>2665</td>\n",
       "      <td>3</td>\n",
       "      <td>133.612320</td>\n",
       "      <td>135.634552</td>\n",
       "      <td>...</td>\n",
       "      <td>135.634552</td>\n",
       "      <td>135.634552</td>\n",
       "      <td>12456564435</td>\n",
       "      <td>Eye Mask</td>\n",
       "      <td>Cap Forward</td>\n",
       "      <td>Earring</td>\n",
       "      <td>NaN</td>\n",
       "      <td>NaN</td>\n",
       "      <td>NaN</td>\n",
       "      <td>NaN</td>\n",
       "    </tr>\n",
       "    <tr>\n",
       "      <th>140285</th>\n",
       "      <td>Sold</td>\n",
       "      <td>2019-08-31</td>\n",
       "      <td>0.5</td>\n",
       "      <td>9943</td>\n",
       "      <td>Female</td>\n",
       "      <td>[Black Lipstick, Mohawk Thin, Eye Patch, Earri...</td>\n",
       "      <td>9127</td>\n",
       "      <td>5</td>\n",
       "      <td>168.887894</td>\n",
       "      <td>174.323975</td>\n",
       "      <td>...</td>\n",
       "      <td>172.469788</td>\n",
       "      <td>172.469788</td>\n",
       "      <td>5830212249</td>\n",
       "      <td>Black Lipstick</td>\n",
       "      <td>Mohawk Thin</td>\n",
       "      <td>Eye Patch</td>\n",
       "      <td>Earring</td>\n",
       "      <td>Cigarette</td>\n",
       "      <td>NaN</td>\n",
       "      <td>NaN</td>\n",
       "    </tr>\n",
       "    <tr>\n",
       "      <th>140286</th>\n",
       "      <td>Offered</td>\n",
       "      <td>2019-08-31</td>\n",
       "      <td>0.5</td>\n",
       "      <td>9943</td>\n",
       "      <td>Female</td>\n",
       "      <td>[Black Lipstick, Mohawk Thin, Eye Patch, Earri...</td>\n",
       "      <td>9127</td>\n",
       "      <td>5</td>\n",
       "      <td>168.887894</td>\n",
       "      <td>174.323975</td>\n",
       "      <td>...</td>\n",
       "      <td>172.469788</td>\n",
       "      <td>172.469788</td>\n",
       "      <td>5830212249</td>\n",
       "      <td>Black Lipstick</td>\n",
       "      <td>Mohawk Thin</td>\n",
       "      <td>Eye Patch</td>\n",
       "      <td>Earring</td>\n",
       "      <td>Cigarette</td>\n",
       "      <td>NaN</td>\n",
       "      <td>NaN</td>\n",
       "    </tr>\n",
       "  </tbody>\n",
       "</table>\n",
       "<p>140287 rows × 21 columns</p>\n",
       "</div>"
      ],
      "text/plain": [
       "             txn_type       date    eth  punk_id    type  \\\n",
       "0       Bid Withdrawn 2021-09-04  321.0        0  Female   \n",
       "1       Bid Withdrawn 2021-09-04  198.0        1    Male   \n",
       "2                 Bid 2021-09-04    1.0        6    Male   \n",
       "3                 Bid 2021-09-04    0.5       28    Male   \n",
       "4                 Bid 2021-09-04    0.5       35    Male   \n",
       "...               ...        ...    ...      ...     ...   \n",
       "140282        Offered 2019-02-07    5.0     9530    Male   \n",
       "140283       Transfer 2020-03-28    NaN     9561    Male   \n",
       "140284           Sold 2020-04-01    0.6     9697    Male   \n",
       "140285           Sold 2019-08-31    0.5     9943  Female   \n",
       "140286        Offered 2019-08-31    0.5     9943  Female   \n",
       "\n",
       "                                              accessories  Rank  \\\n",
       "0                 [Green Eye Shadow, Earring, Blonde Bob]  4005   \n",
       "1                                         [Smile, Mohawk]  5066   \n",
       "2                                                [Do-rag]  4485   \n",
       "3                                [Big Shades, Crazy Hair]  5306   \n",
       "4       [Cigarette, Peak Spike, Earring, Horned Rim Gl...  9464   \n",
       "...                                                   ...   ...   \n",
       "140282                              [Clown Nose, Top Hat]  2035   \n",
       "140283                    [Eye Mask, Headband, Big Beard]  5768   \n",
       "140284                   [Eye Mask, Cap Forward, Earring]  2665   \n",
       "140285  [Black Lipstick, Mohawk Thin, Eye Patch, Earri...  9127   \n",
       "140286  [Black Lipstick, Mohawk Thin, Eye Patch, Earri...  9127   \n",
       "\n",
       "        num_attributes         Open         High  ...        Close  \\\n",
       "0                    3  3937.910156  3969.448730  ...  3887.828369   \n",
       "1                    2  3937.910156  3969.448730  ...  3887.828369   \n",
       "2                    1  3937.910156  3969.448730  ...  3887.828369   \n",
       "3                    2  3937.910156  3969.448730  ...  3887.828369   \n",
       "4                    5  3937.910156  3969.448730  ...  3887.828369   \n",
       "...                ...          ...          ...  ...          ...   \n",
       "140282               2   104.835777   106.058876  ...   104.535301   \n",
       "140283               3   134.032745   134.032745  ...   130.986496   \n",
       "140284               3   133.612320   135.634552  ...   135.634552   \n",
       "140285               5   168.887894   174.323975  ...   172.469788   \n",
       "140286               5   168.887894   174.323975  ...   172.469788   \n",
       "\n",
       "          Adj Close       Volume                 0            1           2  \\\n",
       "0       3887.828369  20806963328  Green Eye Shadow      Earring  Blonde Bob   \n",
       "1       3887.828369  20806963328             Smile       Mohawk         NaN   \n",
       "2       3887.828369  20806963328            Do-rag          NaN         NaN   \n",
       "3       3887.828369  20806963328        Big Shades   Crazy Hair         NaN   \n",
       "4       3887.828369  20806963328         Cigarette   Peak Spike     Earring   \n",
       "...             ...          ...               ...          ...         ...   \n",
       "140282   104.535301   2326764622        Clown Nose      Top Hat         NaN   \n",
       "140283   130.986496  12162403960          Eye Mask     Headband   Big Beard   \n",
       "140284   135.634552  12456564435          Eye Mask  Cap Forward     Earring   \n",
       "140285   172.469788   5830212249    Black Lipstick  Mohawk Thin   Eye Patch   \n",
       "140286   172.469788   5830212249    Black Lipstick  Mohawk Thin   Eye Patch   \n",
       "\n",
       "                         3             4    5    6  \n",
       "0                      NaN           NaN  NaN  NaN  \n",
       "1                      NaN           NaN  NaN  NaN  \n",
       "2                      NaN           NaN  NaN  NaN  \n",
       "3                      NaN           NaN  NaN  NaN  \n",
       "4       Horned Rim Glasses  Normal Beard  NaN  NaN  \n",
       "...                    ...           ...  ...  ...  \n",
       "140282                 NaN           NaN  NaN  NaN  \n",
       "140283                 NaN           NaN  NaN  NaN  \n",
       "140284                 NaN           NaN  NaN  NaN  \n",
       "140285             Earring     Cigarette  NaN  NaN  \n",
       "140286             Earring     Cigarette  NaN  NaN  \n",
       "\n",
       "[140287 rows x 21 columns]"
      ]
     },
     "execution_count": 93,
     "metadata": {},
     "output_type": "execute_result"
    }
   ],
   "source": [
    "punks3 = pd.concat([punks1[:], punks2[:]], axis=1)\n",
    "punks3"
   ]
  },
  {
   "cell_type": "code",
   "execution_count": 94,
   "id": "01683800",
   "metadata": {},
   "outputs": [
    {
     "data": {
      "text/html": [
       "<div>\n",
       "<style scoped>\n",
       "    .dataframe tbody tr th:only-of-type {\n",
       "        vertical-align: middle;\n",
       "    }\n",
       "\n",
       "    .dataframe tbody tr th {\n",
       "        vertical-align: top;\n",
       "    }\n",
       "\n",
       "    .dataframe thead th {\n",
       "        text-align: right;\n",
       "    }\n",
       "</style>\n",
       "<table border=\"1\" class=\"dataframe\">\n",
       "  <thead>\n",
       "    <tr style=\"text-align: right;\">\n",
       "      <th></th>\n",
       "      <th>txn_type</th>\n",
       "      <th>date</th>\n",
       "      <th>eth</th>\n",
       "      <th>punk_id</th>\n",
       "      <th>type</th>\n",
       "      <th>accessories</th>\n",
       "      <th>Rank</th>\n",
       "      <th>num_attributes</th>\n",
       "      <th>Open</th>\n",
       "      <th>High</th>\n",
       "      <th>...</th>\n",
       "      <th>Close</th>\n",
       "      <th>Adj Close</th>\n",
       "      <th>Volume</th>\n",
       "      <th>0</th>\n",
       "      <th>1</th>\n",
       "      <th>2</th>\n",
       "      <th>3</th>\n",
       "      <th>4</th>\n",
       "      <th>5</th>\n",
       "      <th>6</th>\n",
       "    </tr>\n",
       "  </thead>\n",
       "  <tbody>\n",
       "    <tr>\n",
       "      <th>0</th>\n",
       "      <td>Bid Withdrawn</td>\n",
       "      <td>2021-09-04</td>\n",
       "      <td>321.0</td>\n",
       "      <td>0</td>\n",
       "      <td>Female</td>\n",
       "      <td>[Green Eye Shadow, Earring, Blonde Bob]</td>\n",
       "      <td>4005</td>\n",
       "      <td>3</td>\n",
       "      <td>3937.910156</td>\n",
       "      <td>3969.448730</td>\n",
       "      <td>...</td>\n",
       "      <td>3887.828369</td>\n",
       "      <td>3887.828369</td>\n",
       "      <td>20806963328</td>\n",
       "      <td>Green Eye Shadow</td>\n",
       "      <td>Earring</td>\n",
       "      <td>Blonde Bob</td>\n",
       "      <td>0</td>\n",
       "      <td>0</td>\n",
       "      <td>0</td>\n",
       "      <td>0</td>\n",
       "    </tr>\n",
       "    <tr>\n",
       "      <th>1</th>\n",
       "      <td>Bid Withdrawn</td>\n",
       "      <td>2021-09-04</td>\n",
       "      <td>198.0</td>\n",
       "      <td>1</td>\n",
       "      <td>Male</td>\n",
       "      <td>[Smile, Mohawk]</td>\n",
       "      <td>5066</td>\n",
       "      <td>2</td>\n",
       "      <td>3937.910156</td>\n",
       "      <td>3969.448730</td>\n",
       "      <td>...</td>\n",
       "      <td>3887.828369</td>\n",
       "      <td>3887.828369</td>\n",
       "      <td>20806963328</td>\n",
       "      <td>Smile</td>\n",
       "      <td>Mohawk</td>\n",
       "      <td>0</td>\n",
       "      <td>0</td>\n",
       "      <td>0</td>\n",
       "      <td>0</td>\n",
       "      <td>0</td>\n",
       "    </tr>\n",
       "    <tr>\n",
       "      <th>2</th>\n",
       "      <td>Bid</td>\n",
       "      <td>2021-09-04</td>\n",
       "      <td>1.0</td>\n",
       "      <td>6</td>\n",
       "      <td>Male</td>\n",
       "      <td>[Do-rag]</td>\n",
       "      <td>4485</td>\n",
       "      <td>1</td>\n",
       "      <td>3937.910156</td>\n",
       "      <td>3969.448730</td>\n",
       "      <td>...</td>\n",
       "      <td>3887.828369</td>\n",
       "      <td>3887.828369</td>\n",
       "      <td>20806963328</td>\n",
       "      <td>Do-rag</td>\n",
       "      <td>0</td>\n",
       "      <td>0</td>\n",
       "      <td>0</td>\n",
       "      <td>0</td>\n",
       "      <td>0</td>\n",
       "      <td>0</td>\n",
       "    </tr>\n",
       "    <tr>\n",
       "      <th>3</th>\n",
       "      <td>Bid</td>\n",
       "      <td>2021-09-04</td>\n",
       "      <td>0.5</td>\n",
       "      <td>28</td>\n",
       "      <td>Male</td>\n",
       "      <td>[Big Shades, Crazy Hair]</td>\n",
       "      <td>5306</td>\n",
       "      <td>2</td>\n",
       "      <td>3937.910156</td>\n",
       "      <td>3969.448730</td>\n",
       "      <td>...</td>\n",
       "      <td>3887.828369</td>\n",
       "      <td>3887.828369</td>\n",
       "      <td>20806963328</td>\n",
       "      <td>Big Shades</td>\n",
       "      <td>Crazy Hair</td>\n",
       "      <td>0</td>\n",
       "      <td>0</td>\n",
       "      <td>0</td>\n",
       "      <td>0</td>\n",
       "      <td>0</td>\n",
       "    </tr>\n",
       "    <tr>\n",
       "      <th>4</th>\n",
       "      <td>Bid</td>\n",
       "      <td>2021-09-04</td>\n",
       "      <td>0.5</td>\n",
       "      <td>35</td>\n",
       "      <td>Male</td>\n",
       "      <td>[Cigarette, Peak Spike, Earring, Horned Rim Gl...</td>\n",
       "      <td>9464</td>\n",
       "      <td>5</td>\n",
       "      <td>3937.910156</td>\n",
       "      <td>3969.448730</td>\n",
       "      <td>...</td>\n",
       "      <td>3887.828369</td>\n",
       "      <td>3887.828369</td>\n",
       "      <td>20806963328</td>\n",
       "      <td>Cigarette</td>\n",
       "      <td>Peak Spike</td>\n",
       "      <td>Earring</td>\n",
       "      <td>Horned Rim Glasses</td>\n",
       "      <td>Normal Beard</td>\n",
       "      <td>0</td>\n",
       "      <td>0</td>\n",
       "    </tr>\n",
       "    <tr>\n",
       "      <th>...</th>\n",
       "      <td>...</td>\n",
       "      <td>...</td>\n",
       "      <td>...</td>\n",
       "      <td>...</td>\n",
       "      <td>...</td>\n",
       "      <td>...</td>\n",
       "      <td>...</td>\n",
       "      <td>...</td>\n",
       "      <td>...</td>\n",
       "      <td>...</td>\n",
       "      <td>...</td>\n",
       "      <td>...</td>\n",
       "      <td>...</td>\n",
       "      <td>...</td>\n",
       "      <td>...</td>\n",
       "      <td>...</td>\n",
       "      <td>...</td>\n",
       "      <td>...</td>\n",
       "      <td>...</td>\n",
       "      <td>...</td>\n",
       "      <td>...</td>\n",
       "    </tr>\n",
       "    <tr>\n",
       "      <th>140282</th>\n",
       "      <td>Offered</td>\n",
       "      <td>2019-02-07</td>\n",
       "      <td>5.0</td>\n",
       "      <td>9530</td>\n",
       "      <td>Male</td>\n",
       "      <td>[Clown Nose, Top Hat]</td>\n",
       "      <td>2035</td>\n",
       "      <td>2</td>\n",
       "      <td>104.835777</td>\n",
       "      <td>106.058876</td>\n",
       "      <td>...</td>\n",
       "      <td>104.535301</td>\n",
       "      <td>104.535301</td>\n",
       "      <td>2326764622</td>\n",
       "      <td>Clown Nose</td>\n",
       "      <td>Top Hat</td>\n",
       "      <td>0</td>\n",
       "      <td>0</td>\n",
       "      <td>0</td>\n",
       "      <td>0</td>\n",
       "      <td>0</td>\n",
       "    </tr>\n",
       "    <tr>\n",
       "      <th>140283</th>\n",
       "      <td>Transfer</td>\n",
       "      <td>2020-03-28</td>\n",
       "      <td>0.0</td>\n",
       "      <td>9561</td>\n",
       "      <td>Male</td>\n",
       "      <td>[Eye Mask, Headband, Big Beard]</td>\n",
       "      <td>5768</td>\n",
       "      <td>3</td>\n",
       "      <td>134.032745</td>\n",
       "      <td>134.032745</td>\n",
       "      <td>...</td>\n",
       "      <td>130.986496</td>\n",
       "      <td>130.986496</td>\n",
       "      <td>12162403960</td>\n",
       "      <td>Eye Mask</td>\n",
       "      <td>Headband</td>\n",
       "      <td>Big Beard</td>\n",
       "      <td>0</td>\n",
       "      <td>0</td>\n",
       "      <td>0</td>\n",
       "      <td>0</td>\n",
       "    </tr>\n",
       "    <tr>\n",
       "      <th>140284</th>\n",
       "      <td>Sold</td>\n",
       "      <td>2020-04-01</td>\n",
       "      <td>0.6</td>\n",
       "      <td>9697</td>\n",
       "      <td>Male</td>\n",
       "      <td>[Eye Mask, Cap Forward, Earring]</td>\n",
       "      <td>2665</td>\n",
       "      <td>3</td>\n",
       "      <td>133.612320</td>\n",
       "      <td>135.634552</td>\n",
       "      <td>...</td>\n",
       "      <td>135.634552</td>\n",
       "      <td>135.634552</td>\n",
       "      <td>12456564435</td>\n",
       "      <td>Eye Mask</td>\n",
       "      <td>Cap Forward</td>\n",
       "      <td>Earring</td>\n",
       "      <td>0</td>\n",
       "      <td>0</td>\n",
       "      <td>0</td>\n",
       "      <td>0</td>\n",
       "    </tr>\n",
       "    <tr>\n",
       "      <th>140285</th>\n",
       "      <td>Sold</td>\n",
       "      <td>2019-08-31</td>\n",
       "      <td>0.5</td>\n",
       "      <td>9943</td>\n",
       "      <td>Female</td>\n",
       "      <td>[Black Lipstick, Mohawk Thin, Eye Patch, Earri...</td>\n",
       "      <td>9127</td>\n",
       "      <td>5</td>\n",
       "      <td>168.887894</td>\n",
       "      <td>174.323975</td>\n",
       "      <td>...</td>\n",
       "      <td>172.469788</td>\n",
       "      <td>172.469788</td>\n",
       "      <td>5830212249</td>\n",
       "      <td>Black Lipstick</td>\n",
       "      <td>Mohawk Thin</td>\n",
       "      <td>Eye Patch</td>\n",
       "      <td>Earring</td>\n",
       "      <td>Cigarette</td>\n",
       "      <td>0</td>\n",
       "      <td>0</td>\n",
       "    </tr>\n",
       "    <tr>\n",
       "      <th>140286</th>\n",
       "      <td>Offered</td>\n",
       "      <td>2019-08-31</td>\n",
       "      <td>0.5</td>\n",
       "      <td>9943</td>\n",
       "      <td>Female</td>\n",
       "      <td>[Black Lipstick, Mohawk Thin, Eye Patch, Earri...</td>\n",
       "      <td>9127</td>\n",
       "      <td>5</td>\n",
       "      <td>168.887894</td>\n",
       "      <td>174.323975</td>\n",
       "      <td>...</td>\n",
       "      <td>172.469788</td>\n",
       "      <td>172.469788</td>\n",
       "      <td>5830212249</td>\n",
       "      <td>Black Lipstick</td>\n",
       "      <td>Mohawk Thin</td>\n",
       "      <td>Eye Patch</td>\n",
       "      <td>Earring</td>\n",
       "      <td>Cigarette</td>\n",
       "      <td>0</td>\n",
       "      <td>0</td>\n",
       "    </tr>\n",
       "  </tbody>\n",
       "</table>\n",
       "<p>140287 rows × 21 columns</p>\n",
       "</div>"
      ],
      "text/plain": [
       "             txn_type       date    eth  punk_id    type  \\\n",
       "0       Bid Withdrawn 2021-09-04  321.0        0  Female   \n",
       "1       Bid Withdrawn 2021-09-04  198.0        1    Male   \n",
       "2                 Bid 2021-09-04    1.0        6    Male   \n",
       "3                 Bid 2021-09-04    0.5       28    Male   \n",
       "4                 Bid 2021-09-04    0.5       35    Male   \n",
       "...               ...        ...    ...      ...     ...   \n",
       "140282        Offered 2019-02-07    5.0     9530    Male   \n",
       "140283       Transfer 2020-03-28    0.0     9561    Male   \n",
       "140284           Sold 2020-04-01    0.6     9697    Male   \n",
       "140285           Sold 2019-08-31    0.5     9943  Female   \n",
       "140286        Offered 2019-08-31    0.5     9943  Female   \n",
       "\n",
       "                                              accessories  Rank  \\\n",
       "0                 [Green Eye Shadow, Earring, Blonde Bob]  4005   \n",
       "1                                         [Smile, Mohawk]  5066   \n",
       "2                                                [Do-rag]  4485   \n",
       "3                                [Big Shades, Crazy Hair]  5306   \n",
       "4       [Cigarette, Peak Spike, Earring, Horned Rim Gl...  9464   \n",
       "...                                                   ...   ...   \n",
       "140282                              [Clown Nose, Top Hat]  2035   \n",
       "140283                    [Eye Mask, Headband, Big Beard]  5768   \n",
       "140284                   [Eye Mask, Cap Forward, Earring]  2665   \n",
       "140285  [Black Lipstick, Mohawk Thin, Eye Patch, Earri...  9127   \n",
       "140286  [Black Lipstick, Mohawk Thin, Eye Patch, Earri...  9127   \n",
       "\n",
       "        num_attributes         Open         High  ...        Close  \\\n",
       "0                    3  3937.910156  3969.448730  ...  3887.828369   \n",
       "1                    2  3937.910156  3969.448730  ...  3887.828369   \n",
       "2                    1  3937.910156  3969.448730  ...  3887.828369   \n",
       "3                    2  3937.910156  3969.448730  ...  3887.828369   \n",
       "4                    5  3937.910156  3969.448730  ...  3887.828369   \n",
       "...                ...          ...          ...  ...          ...   \n",
       "140282               2   104.835777   106.058876  ...   104.535301   \n",
       "140283               3   134.032745   134.032745  ...   130.986496   \n",
       "140284               3   133.612320   135.634552  ...   135.634552   \n",
       "140285               5   168.887894   174.323975  ...   172.469788   \n",
       "140286               5   168.887894   174.323975  ...   172.469788   \n",
       "\n",
       "          Adj Close       Volume                 0            1           2  \\\n",
       "0       3887.828369  20806963328  Green Eye Shadow      Earring  Blonde Bob   \n",
       "1       3887.828369  20806963328             Smile       Mohawk           0   \n",
       "2       3887.828369  20806963328            Do-rag            0           0   \n",
       "3       3887.828369  20806963328        Big Shades   Crazy Hair           0   \n",
       "4       3887.828369  20806963328         Cigarette   Peak Spike     Earring   \n",
       "...             ...          ...               ...          ...         ...   \n",
       "140282   104.535301   2326764622        Clown Nose      Top Hat           0   \n",
       "140283   130.986496  12162403960          Eye Mask     Headband   Big Beard   \n",
       "140284   135.634552  12456564435          Eye Mask  Cap Forward     Earring   \n",
       "140285   172.469788   5830212249    Black Lipstick  Mohawk Thin   Eye Patch   \n",
       "140286   172.469788   5830212249    Black Lipstick  Mohawk Thin   Eye Patch   \n",
       "\n",
       "                         3             4  5  6  \n",
       "0                        0             0  0  0  \n",
       "1                        0             0  0  0  \n",
       "2                        0             0  0  0  \n",
       "3                        0             0  0  0  \n",
       "4       Horned Rim Glasses  Normal Beard  0  0  \n",
       "...                    ...           ... .. ..  \n",
       "140282                   0             0  0  0  \n",
       "140283                   0             0  0  0  \n",
       "140284                   0             0  0  0  \n",
       "140285             Earring     Cigarette  0  0  \n",
       "140286             Earring     Cigarette  0  0  \n",
       "\n",
       "[140287 rows x 21 columns]"
      ]
     },
     "execution_count": 94,
     "metadata": {},
     "output_type": "execute_result"
    }
   ],
   "source": [
    "punks3 = punks3.fillna(0)\n",
    "punks3"
   ]
  },
  {
   "cell_type": "code",
   "execution_count": 96,
   "id": "b0e5a44d",
   "metadata": {},
   "outputs": [
    {
     "data": {
      "text/html": [
       "<div>\n",
       "<style scoped>\n",
       "    .dataframe tbody tr th:only-of-type {\n",
       "        vertical-align: middle;\n",
       "    }\n",
       "\n",
       "    .dataframe tbody tr th {\n",
       "        vertical-align: top;\n",
       "    }\n",
       "\n",
       "    .dataframe thead th {\n",
       "        text-align: right;\n",
       "    }\n",
       "</style>\n",
       "<table border=\"1\" class=\"dataframe\">\n",
       "  <thead>\n",
       "    <tr style=\"text-align: right;\">\n",
       "      <th></th>\n",
       "      <th>txn_type</th>\n",
       "      <th>date</th>\n",
       "      <th>eth</th>\n",
       "      <th>punk_id</th>\n",
       "      <th>type</th>\n",
       "      <th>accessories</th>\n",
       "      <th>Rank</th>\n",
       "      <th>num_attributes</th>\n",
       "      <th>Open</th>\n",
       "      <th>High</th>\n",
       "      <th>...</th>\n",
       "      <th>Close</th>\n",
       "      <th>Adj Close</th>\n",
       "      <th>Volume</th>\n",
       "      <th>0</th>\n",
       "      <th>1</th>\n",
       "      <th>2</th>\n",
       "      <th>3</th>\n",
       "      <th>4</th>\n",
       "      <th>5</th>\n",
       "      <th>6</th>\n",
       "    </tr>\n",
       "  </thead>\n",
       "  <tbody>\n",
       "    <tr>\n",
       "      <th>6</th>\n",
       "      <td>Sold</td>\n",
       "      <td>2021-09-04</td>\n",
       "      <td>97.25</td>\n",
       "      <td>618</td>\n",
       "      <td>Female</td>\n",
       "      <td>[Clown Eyes Green, Wild Hair]</td>\n",
       "      <td>4632</td>\n",
       "      <td>2</td>\n",
       "      <td>3937.910156</td>\n",
       "      <td>3969.448730</td>\n",
       "      <td>...</td>\n",
       "      <td>3887.828369</td>\n",
       "      <td>3887.828369</td>\n",
       "      <td>20806963328</td>\n",
       "      <td>Clown Eyes Green</td>\n",
       "      <td>Wild Hair</td>\n",
       "      <td>0</td>\n",
       "      <td>0</td>\n",
       "      <td>0</td>\n",
       "      <td>0</td>\n",
       "      <td>0</td>\n",
       "    </tr>\n",
       "    <tr>\n",
       "      <th>12</th>\n",
       "      <td>Sold</td>\n",
       "      <td>2021-09-04</td>\n",
       "      <td>98.00</td>\n",
       "      <td>1186</td>\n",
       "      <td>Female</td>\n",
       "      <td>[Black Lipstick, Bandana, Purple Eye Shadow, E...</td>\n",
       "      <td>6436</td>\n",
       "      <td>4</td>\n",
       "      <td>3937.910156</td>\n",
       "      <td>3969.448730</td>\n",
       "      <td>...</td>\n",
       "      <td>3887.828369</td>\n",
       "      <td>3887.828369</td>\n",
       "      <td>20806963328</td>\n",
       "      <td>Black Lipstick</td>\n",
       "      <td>Bandana</td>\n",
       "      <td>Purple Eye Shadow</td>\n",
       "      <td>Earring</td>\n",
       "      <td>0</td>\n",
       "      <td>0</td>\n",
       "      <td>0</td>\n",
       "    </tr>\n",
       "    <tr>\n",
       "      <th>18</th>\n",
       "      <td>Sold</td>\n",
       "      <td>2021-09-04</td>\n",
       "      <td>105.00</td>\n",
       "      <td>1316</td>\n",
       "      <td>Male</td>\n",
       "      <td>[Frumpy Hair, Front Beard Dark]</td>\n",
       "      <td>7545</td>\n",
       "      <td>2</td>\n",
       "      <td>3937.910156</td>\n",
       "      <td>3969.448730</td>\n",
       "      <td>...</td>\n",
       "      <td>3887.828369</td>\n",
       "      <td>3887.828369</td>\n",
       "      <td>20806963328</td>\n",
       "      <td>Frumpy Hair</td>\n",
       "      <td>Front Beard Dark</td>\n",
       "      <td>0</td>\n",
       "      <td>0</td>\n",
       "      <td>0</td>\n",
       "      <td>0</td>\n",
       "      <td>0</td>\n",
       "    </tr>\n",
       "    <tr>\n",
       "      <th>29</th>\n",
       "      <td>Sold</td>\n",
       "      <td>2021-09-04</td>\n",
       "      <td>100.00</td>\n",
       "      <td>1633</td>\n",
       "      <td>Male</td>\n",
       "      <td>[Cigarette, Bandana, Mole]</td>\n",
       "      <td>9464</td>\n",
       "      <td>3</td>\n",
       "      <td>3937.910156</td>\n",
       "      <td>3969.448730</td>\n",
       "      <td>...</td>\n",
       "      <td>3887.828369</td>\n",
       "      <td>3887.828369</td>\n",
       "      <td>20806963328</td>\n",
       "      <td>Cigarette</td>\n",
       "      <td>Bandana</td>\n",
       "      <td>Mole</td>\n",
       "      <td>0</td>\n",
       "      <td>0</td>\n",
       "      <td>0</td>\n",
       "      <td>0</td>\n",
       "    </tr>\n",
       "    <tr>\n",
       "      <th>30</th>\n",
       "      <td>Sold</td>\n",
       "      <td>2021-09-04</td>\n",
       "      <td>104.99</td>\n",
       "      <td>1711</td>\n",
       "      <td>Female</td>\n",
       "      <td>[Eye Mask, Straight Hair Dark]</td>\n",
       "      <td>451</td>\n",
       "      <td>2</td>\n",
       "      <td>3937.910156</td>\n",
       "      <td>3969.448730</td>\n",
       "      <td>...</td>\n",
       "      <td>3887.828369</td>\n",
       "      <td>3887.828369</td>\n",
       "      <td>20806963328</td>\n",
       "      <td>Eye Mask</td>\n",
       "      <td>Straight Hair Dark</td>\n",
       "      <td>0</td>\n",
       "      <td>0</td>\n",
       "      <td>0</td>\n",
       "      <td>0</td>\n",
       "      <td>0</td>\n",
       "    </tr>\n",
       "    <tr>\n",
       "      <th>...</th>\n",
       "      <td>...</td>\n",
       "      <td>...</td>\n",
       "      <td>...</td>\n",
       "      <td>...</td>\n",
       "      <td>...</td>\n",
       "      <td>...</td>\n",
       "      <td>...</td>\n",
       "      <td>...</td>\n",
       "      <td>...</td>\n",
       "      <td>...</td>\n",
       "      <td>...</td>\n",
       "      <td>...</td>\n",
       "      <td>...</td>\n",
       "      <td>...</td>\n",
       "      <td>...</td>\n",
       "      <td>...</td>\n",
       "      <td>...</td>\n",
       "      <td>...</td>\n",
       "      <td>...</td>\n",
       "      <td>...</td>\n",
       "      <td>...</td>\n",
       "    </tr>\n",
       "    <tr>\n",
       "      <th>140256</th>\n",
       "      <td>Sold</td>\n",
       "      <td>2020-06-26</td>\n",
       "      <td>0.79</td>\n",
       "      <td>8666</td>\n",
       "      <td>Male</td>\n",
       "      <td>[Peak Spike, Earring, Eye Patch]</td>\n",
       "      <td>8466</td>\n",
       "      <td>3</td>\n",
       "      <td>232.877487</td>\n",
       "      <td>233.901932</td>\n",
       "      <td>...</td>\n",
       "      <td>229.668045</td>\n",
       "      <td>229.668045</td>\n",
       "      <td>7187490226</td>\n",
       "      <td>Peak Spike</td>\n",
       "      <td>Earring</td>\n",
       "      <td>Eye Patch</td>\n",
       "      <td>0</td>\n",
       "      <td>0</td>\n",
       "      <td>0</td>\n",
       "      <td>0</td>\n",
       "    </tr>\n",
       "    <tr>\n",
       "      <th>140274</th>\n",
       "      <td>Sold</td>\n",
       "      <td>2019-01-18</td>\n",
       "      <td>0.35</td>\n",
       "      <td>8395</td>\n",
       "      <td>Male</td>\n",
       "      <td>[Silver Chain, Shaved Head, Big Beard]</td>\n",
       "      <td>2565</td>\n",
       "      <td>3</td>\n",
       "      <td>123.654655</td>\n",
       "      <td>123.841690</td>\n",
       "      <td>...</td>\n",
       "      <td>121.010262</td>\n",
       "      <td>121.010262</td>\n",
       "      <td>2305389800</td>\n",
       "      <td>Silver Chain</td>\n",
       "      <td>Shaved Head</td>\n",
       "      <td>Big Beard</td>\n",
       "      <td>0</td>\n",
       "      <td>0</td>\n",
       "      <td>0</td>\n",
       "      <td>0</td>\n",
       "    </tr>\n",
       "    <tr>\n",
       "      <th>140276</th>\n",
       "      <td>Sold</td>\n",
       "      <td>2019-01-18</td>\n",
       "      <td>0.30</td>\n",
       "      <td>9453</td>\n",
       "      <td>Male</td>\n",
       "      <td>[Cigarette, Cap, Mustache]</td>\n",
       "      <td>9464</td>\n",
       "      <td>3</td>\n",
       "      <td>123.654655</td>\n",
       "      <td>123.841690</td>\n",
       "      <td>...</td>\n",
       "      <td>121.010262</td>\n",
       "      <td>121.010262</td>\n",
       "      <td>2305389800</td>\n",
       "      <td>Cigarette</td>\n",
       "      <td>Cap</td>\n",
       "      <td>Mustache</td>\n",
       "      <td>0</td>\n",
       "      <td>0</td>\n",
       "      <td>0</td>\n",
       "      <td>0</td>\n",
       "    </tr>\n",
       "    <tr>\n",
       "      <th>140284</th>\n",
       "      <td>Sold</td>\n",
       "      <td>2020-04-01</td>\n",
       "      <td>0.60</td>\n",
       "      <td>9697</td>\n",
       "      <td>Male</td>\n",
       "      <td>[Eye Mask, Cap Forward, Earring]</td>\n",
       "      <td>2665</td>\n",
       "      <td>3</td>\n",
       "      <td>133.612320</td>\n",
       "      <td>135.634552</td>\n",
       "      <td>...</td>\n",
       "      <td>135.634552</td>\n",
       "      <td>135.634552</td>\n",
       "      <td>12456564435</td>\n",
       "      <td>Eye Mask</td>\n",
       "      <td>Cap Forward</td>\n",
       "      <td>Earring</td>\n",
       "      <td>0</td>\n",
       "      <td>0</td>\n",
       "      <td>0</td>\n",
       "      <td>0</td>\n",
       "    </tr>\n",
       "    <tr>\n",
       "      <th>140285</th>\n",
       "      <td>Sold</td>\n",
       "      <td>2019-08-31</td>\n",
       "      <td>0.50</td>\n",
       "      <td>9943</td>\n",
       "      <td>Female</td>\n",
       "      <td>[Black Lipstick, Mohawk Thin, Eye Patch, Earri...</td>\n",
       "      <td>9127</td>\n",
       "      <td>5</td>\n",
       "      <td>168.887894</td>\n",
       "      <td>174.323975</td>\n",
       "      <td>...</td>\n",
       "      <td>172.469788</td>\n",
       "      <td>172.469788</td>\n",
       "      <td>5830212249</td>\n",
       "      <td>Black Lipstick</td>\n",
       "      <td>Mohawk Thin</td>\n",
       "      <td>Eye Patch</td>\n",
       "      <td>Earring</td>\n",
       "      <td>Cigarette</td>\n",
       "      <td>0</td>\n",
       "      <td>0</td>\n",
       "    </tr>\n",
       "  </tbody>\n",
       "</table>\n",
       "<p>16794 rows × 21 columns</p>\n",
       "</div>"
      ],
      "text/plain": [
       "       txn_type       date     eth  punk_id    type  \\\n",
       "6          Sold 2021-09-04   97.25      618  Female   \n",
       "12         Sold 2021-09-04   98.00     1186  Female   \n",
       "18         Sold 2021-09-04  105.00     1316    Male   \n",
       "29         Sold 2021-09-04  100.00     1633    Male   \n",
       "30         Sold 2021-09-04  104.99     1711  Female   \n",
       "...         ...        ...     ...      ...     ...   \n",
       "140256     Sold 2020-06-26    0.79     8666    Male   \n",
       "140274     Sold 2019-01-18    0.35     8395    Male   \n",
       "140276     Sold 2019-01-18    0.30     9453    Male   \n",
       "140284     Sold 2020-04-01    0.60     9697    Male   \n",
       "140285     Sold 2019-08-31    0.50     9943  Female   \n",
       "\n",
       "                                              accessories  Rank  \\\n",
       "6                           [Clown Eyes Green, Wild Hair]  4632   \n",
       "12      [Black Lipstick, Bandana, Purple Eye Shadow, E...  6436   \n",
       "18                        [Frumpy Hair, Front Beard Dark]  7545   \n",
       "29                             [Cigarette, Bandana, Mole]  9464   \n",
       "30                         [Eye Mask, Straight Hair Dark]   451   \n",
       "...                                                   ...   ...   \n",
       "140256                   [Peak Spike, Earring, Eye Patch]  8466   \n",
       "140274             [Silver Chain, Shaved Head, Big Beard]  2565   \n",
       "140276                         [Cigarette, Cap, Mustache]  9464   \n",
       "140284                   [Eye Mask, Cap Forward, Earring]  2665   \n",
       "140285  [Black Lipstick, Mohawk Thin, Eye Patch, Earri...  9127   \n",
       "\n",
       "        num_attributes         Open         High  ...        Close  \\\n",
       "6                    2  3937.910156  3969.448730  ...  3887.828369   \n",
       "12                   4  3937.910156  3969.448730  ...  3887.828369   \n",
       "18                   2  3937.910156  3969.448730  ...  3887.828369   \n",
       "29                   3  3937.910156  3969.448730  ...  3887.828369   \n",
       "30                   2  3937.910156  3969.448730  ...  3887.828369   \n",
       "...                ...          ...          ...  ...          ...   \n",
       "140256               3   232.877487   233.901932  ...   229.668045   \n",
       "140274               3   123.654655   123.841690  ...   121.010262   \n",
       "140276               3   123.654655   123.841690  ...   121.010262   \n",
       "140284               3   133.612320   135.634552  ...   135.634552   \n",
       "140285               5   168.887894   174.323975  ...   172.469788   \n",
       "\n",
       "          Adj Close       Volume                 0                   1  \\\n",
       "6       3887.828369  20806963328  Clown Eyes Green           Wild Hair   \n",
       "12      3887.828369  20806963328    Black Lipstick             Bandana   \n",
       "18      3887.828369  20806963328       Frumpy Hair    Front Beard Dark   \n",
       "29      3887.828369  20806963328         Cigarette             Bandana   \n",
       "30      3887.828369  20806963328          Eye Mask  Straight Hair Dark   \n",
       "...             ...          ...               ...                 ...   \n",
       "140256   229.668045   7187490226        Peak Spike             Earring   \n",
       "140274   121.010262   2305389800      Silver Chain         Shaved Head   \n",
       "140276   121.010262   2305389800         Cigarette                 Cap   \n",
       "140284   135.634552  12456564435          Eye Mask         Cap Forward   \n",
       "140285   172.469788   5830212249    Black Lipstick         Mohawk Thin   \n",
       "\n",
       "                        2        3          4  5  6  \n",
       "6                       0        0          0  0  0  \n",
       "12      Purple Eye Shadow  Earring          0  0  0  \n",
       "18                      0        0          0  0  0  \n",
       "29                   Mole        0          0  0  0  \n",
       "30                      0        0          0  0  0  \n",
       "...                   ...      ...        ... .. ..  \n",
       "140256          Eye Patch        0          0  0  0  \n",
       "140274          Big Beard        0          0  0  0  \n",
       "140276           Mustache        0          0  0  0  \n",
       "140284            Earring        0          0  0  0  \n",
       "140285          Eye Patch  Earring  Cigarette  0  0  \n",
       "\n",
       "[16794 rows x 21 columns]"
      ]
     },
     "execution_count": 96,
     "metadata": {},
     "output_type": "execute_result"
    }
   ],
   "source": [
    "# We leave only the type sold\n",
    "sold2 = punks3[punks3.txn_type == \"Sold\"]\n",
    "sold2"
   ]
  },
  {
   "cell_type": "code",
   "execution_count": 97,
   "id": "42ff66a6",
   "metadata": {},
   "outputs": [],
   "source": [
    "total2=sold2.drop(['date','txn_type','accessories'], axis =1)"
   ]
  },
  {
   "cell_type": "code",
   "execution_count": 98,
   "id": "322d73ed",
   "metadata": {},
   "outputs": [],
   "source": [
    "total2 = pd.get_dummies(total2, drop_first = True)"
   ]
  },
  {
   "cell_type": "code",
   "execution_count": 106,
   "id": "48d1286d",
   "metadata": {},
   "outputs": [
    {
     "data": {
      "text/html": [
       "<div>\n",
       "<style scoped>\n",
       "    .dataframe tbody tr th:only-of-type {\n",
       "        vertical-align: middle;\n",
       "    }\n",
       "\n",
       "    .dataframe tbody tr th {\n",
       "        vertical-align: top;\n",
       "    }\n",
       "\n",
       "    .dataframe thead th {\n",
       "        text-align: right;\n",
       "    }\n",
       "</style>\n",
       "<table border=\"1\" class=\"dataframe\">\n",
       "  <thead>\n",
       "    <tr style=\"text-align: right;\">\n",
       "      <th></th>\n",
       "      <th>eth</th>\n",
       "      <th>punk_id</th>\n",
       "      <th>Rank</th>\n",
       "      <th>num_attributes</th>\n",
       "      <th>Open</th>\n",
       "      <th>High</th>\n",
       "      <th>Low</th>\n",
       "      <th>Close</th>\n",
       "      <th>Adj Close</th>\n",
       "      <th>Volume</th>\n",
       "      <th>...</th>\n",
       "      <th>4_Small Shades</th>\n",
       "      <th>4_Smile</th>\n",
       "      <th>4_Top Hat</th>\n",
       "      <th>4_VR</th>\n",
       "      <th>5_Big Beard</th>\n",
       "      <th>5_Cigarette</th>\n",
       "      <th>5_Earring</th>\n",
       "      <th>5_Small Shades</th>\n",
       "      <th>5_Smile</th>\n",
       "      <th>6_Mole</th>\n",
       "    </tr>\n",
       "  </thead>\n",
       "  <tbody>\n",
       "    <tr>\n",
       "      <th>6</th>\n",
       "      <td>97.25</td>\n",
       "      <td>618</td>\n",
       "      <td>4632</td>\n",
       "      <td>2</td>\n",
       "      <td>3937.910156</td>\n",
       "      <td>3969.448730</td>\n",
       "      <td>3837.931152</td>\n",
       "      <td>3887.828369</td>\n",
       "      <td>3887.828369</td>\n",
       "      <td>20806963328</td>\n",
       "      <td>...</td>\n",
       "      <td>0</td>\n",
       "      <td>0</td>\n",
       "      <td>0</td>\n",
       "      <td>0</td>\n",
       "      <td>0</td>\n",
       "      <td>0</td>\n",
       "      <td>0</td>\n",
       "      <td>0</td>\n",
       "      <td>0</td>\n",
       "      <td>0</td>\n",
       "    </tr>\n",
       "    <tr>\n",
       "      <th>12</th>\n",
       "      <td>98.00</td>\n",
       "      <td>1186</td>\n",
       "      <td>6436</td>\n",
       "      <td>4</td>\n",
       "      <td>3937.910156</td>\n",
       "      <td>3969.448730</td>\n",
       "      <td>3837.931152</td>\n",
       "      <td>3887.828369</td>\n",
       "      <td>3887.828369</td>\n",
       "      <td>20806963328</td>\n",
       "      <td>...</td>\n",
       "      <td>0</td>\n",
       "      <td>0</td>\n",
       "      <td>0</td>\n",
       "      <td>0</td>\n",
       "      <td>0</td>\n",
       "      <td>0</td>\n",
       "      <td>0</td>\n",
       "      <td>0</td>\n",
       "      <td>0</td>\n",
       "      <td>0</td>\n",
       "    </tr>\n",
       "    <tr>\n",
       "      <th>18</th>\n",
       "      <td>105.00</td>\n",
       "      <td>1316</td>\n",
       "      <td>7545</td>\n",
       "      <td>2</td>\n",
       "      <td>3937.910156</td>\n",
       "      <td>3969.448730</td>\n",
       "      <td>3837.931152</td>\n",
       "      <td>3887.828369</td>\n",
       "      <td>3887.828369</td>\n",
       "      <td>20806963328</td>\n",
       "      <td>...</td>\n",
       "      <td>0</td>\n",
       "      <td>0</td>\n",
       "      <td>0</td>\n",
       "      <td>0</td>\n",
       "      <td>0</td>\n",
       "      <td>0</td>\n",
       "      <td>0</td>\n",
       "      <td>0</td>\n",
       "      <td>0</td>\n",
       "      <td>0</td>\n",
       "    </tr>\n",
       "    <tr>\n",
       "      <th>29</th>\n",
       "      <td>100.00</td>\n",
       "      <td>1633</td>\n",
       "      <td>9464</td>\n",
       "      <td>3</td>\n",
       "      <td>3937.910156</td>\n",
       "      <td>3969.448730</td>\n",
       "      <td>3837.931152</td>\n",
       "      <td>3887.828369</td>\n",
       "      <td>3887.828369</td>\n",
       "      <td>20806963328</td>\n",
       "      <td>...</td>\n",
       "      <td>0</td>\n",
       "      <td>0</td>\n",
       "      <td>0</td>\n",
       "      <td>0</td>\n",
       "      <td>0</td>\n",
       "      <td>0</td>\n",
       "      <td>0</td>\n",
       "      <td>0</td>\n",
       "      <td>0</td>\n",
       "      <td>0</td>\n",
       "    </tr>\n",
       "    <tr>\n",
       "      <th>30</th>\n",
       "      <td>104.99</td>\n",
       "      <td>1711</td>\n",
       "      <td>451</td>\n",
       "      <td>2</td>\n",
       "      <td>3937.910156</td>\n",
       "      <td>3969.448730</td>\n",
       "      <td>3837.931152</td>\n",
       "      <td>3887.828369</td>\n",
       "      <td>3887.828369</td>\n",
       "      <td>20806963328</td>\n",
       "      <td>...</td>\n",
       "      <td>0</td>\n",
       "      <td>0</td>\n",
       "      <td>0</td>\n",
       "      <td>0</td>\n",
       "      <td>0</td>\n",
       "      <td>0</td>\n",
       "      <td>0</td>\n",
       "      <td>0</td>\n",
       "      <td>0</td>\n",
       "      <td>0</td>\n",
       "    </tr>\n",
       "    <tr>\n",
       "      <th>...</th>\n",
       "      <td>...</td>\n",
       "      <td>...</td>\n",
       "      <td>...</td>\n",
       "      <td>...</td>\n",
       "      <td>...</td>\n",
       "      <td>...</td>\n",
       "      <td>...</td>\n",
       "      <td>...</td>\n",
       "      <td>...</td>\n",
       "      <td>...</td>\n",
       "      <td>...</td>\n",
       "      <td>...</td>\n",
       "      <td>...</td>\n",
       "      <td>...</td>\n",
       "      <td>...</td>\n",
       "      <td>...</td>\n",
       "      <td>...</td>\n",
       "      <td>...</td>\n",
       "      <td>...</td>\n",
       "      <td>...</td>\n",
       "      <td>...</td>\n",
       "    </tr>\n",
       "    <tr>\n",
       "      <th>140256</th>\n",
       "      <td>0.79</td>\n",
       "      <td>8666</td>\n",
       "      <td>8466</td>\n",
       "      <td>3</td>\n",
       "      <td>232.877487</td>\n",
       "      <td>233.901932</td>\n",
       "      <td>229.259460</td>\n",
       "      <td>229.668045</td>\n",
       "      <td>229.668045</td>\n",
       "      <td>7187490226</td>\n",
       "      <td>...</td>\n",
       "      <td>0</td>\n",
       "      <td>0</td>\n",
       "      <td>0</td>\n",
       "      <td>0</td>\n",
       "      <td>0</td>\n",
       "      <td>0</td>\n",
       "      <td>0</td>\n",
       "      <td>0</td>\n",
       "      <td>0</td>\n",
       "      <td>0</td>\n",
       "    </tr>\n",
       "    <tr>\n",
       "      <th>140274</th>\n",
       "      <td>0.35</td>\n",
       "      <td>8395</td>\n",
       "      <td>2565</td>\n",
       "      <td>3</td>\n",
       "      <td>123.654655</td>\n",
       "      <td>123.841690</td>\n",
       "      <td>120.241898</td>\n",
       "      <td>121.010262</td>\n",
       "      <td>121.010262</td>\n",
       "      <td>2305389800</td>\n",
       "      <td>...</td>\n",
       "      <td>0</td>\n",
       "      <td>0</td>\n",
       "      <td>0</td>\n",
       "      <td>0</td>\n",
       "      <td>0</td>\n",
       "      <td>0</td>\n",
       "      <td>0</td>\n",
       "      <td>0</td>\n",
       "      <td>0</td>\n",
       "      <td>0</td>\n",
       "    </tr>\n",
       "    <tr>\n",
       "      <th>140276</th>\n",
       "      <td>0.30</td>\n",
       "      <td>9453</td>\n",
       "      <td>9464</td>\n",
       "      <td>3</td>\n",
       "      <td>123.654655</td>\n",
       "      <td>123.841690</td>\n",
       "      <td>120.241898</td>\n",
       "      <td>121.010262</td>\n",
       "      <td>121.010262</td>\n",
       "      <td>2305389800</td>\n",
       "      <td>...</td>\n",
       "      <td>0</td>\n",
       "      <td>0</td>\n",
       "      <td>0</td>\n",
       "      <td>0</td>\n",
       "      <td>0</td>\n",
       "      <td>0</td>\n",
       "      <td>0</td>\n",
       "      <td>0</td>\n",
       "      <td>0</td>\n",
       "      <td>0</td>\n",
       "    </tr>\n",
       "    <tr>\n",
       "      <th>140284</th>\n",
       "      <td>0.60</td>\n",
       "      <td>9697</td>\n",
       "      <td>2665</td>\n",
       "      <td>3</td>\n",
       "      <td>133.612320</td>\n",
       "      <td>135.634552</td>\n",
       "      <td>129.730942</td>\n",
       "      <td>135.634552</td>\n",
       "      <td>135.634552</td>\n",
       "      <td>12456564435</td>\n",
       "      <td>...</td>\n",
       "      <td>0</td>\n",
       "      <td>0</td>\n",
       "      <td>0</td>\n",
       "      <td>0</td>\n",
       "      <td>0</td>\n",
       "      <td>0</td>\n",
       "      <td>0</td>\n",
       "      <td>0</td>\n",
       "      <td>0</td>\n",
       "      <td>0</td>\n",
       "    </tr>\n",
       "    <tr>\n",
       "      <th>140285</th>\n",
       "      <td>0.50</td>\n",
       "      <td>9943</td>\n",
       "      <td>9127</td>\n",
       "      <td>5</td>\n",
       "      <td>168.887894</td>\n",
       "      <td>174.323975</td>\n",
       "      <td>167.802582</td>\n",
       "      <td>172.469788</td>\n",
       "      <td>172.469788</td>\n",
       "      <td>5830212249</td>\n",
       "      <td>...</td>\n",
       "      <td>0</td>\n",
       "      <td>0</td>\n",
       "      <td>0</td>\n",
       "      <td>0</td>\n",
       "      <td>0</td>\n",
       "      <td>0</td>\n",
       "      <td>0</td>\n",
       "      <td>0</td>\n",
       "      <td>0</td>\n",
       "      <td>0</td>\n",
       "    </tr>\n",
       "  </tbody>\n",
       "</table>\n",
       "<p>16794 rows × 353 columns</p>\n",
       "</div>"
      ],
      "text/plain": [
       "           eth  punk_id  Rank  num_attributes         Open         High  \\\n",
       "6        97.25      618  4632               2  3937.910156  3969.448730   \n",
       "12       98.00     1186  6436               4  3937.910156  3969.448730   \n",
       "18      105.00     1316  7545               2  3937.910156  3969.448730   \n",
       "29      100.00     1633  9464               3  3937.910156  3969.448730   \n",
       "30      104.99     1711   451               2  3937.910156  3969.448730   \n",
       "...        ...      ...   ...             ...          ...          ...   \n",
       "140256    0.79     8666  8466               3   232.877487   233.901932   \n",
       "140274    0.35     8395  2565               3   123.654655   123.841690   \n",
       "140276    0.30     9453  9464               3   123.654655   123.841690   \n",
       "140284    0.60     9697  2665               3   133.612320   135.634552   \n",
       "140285    0.50     9943  9127               5   168.887894   174.323975   \n",
       "\n",
       "                Low        Close    Adj Close       Volume  ...  \\\n",
       "6       3837.931152  3887.828369  3887.828369  20806963328  ...   \n",
       "12      3837.931152  3887.828369  3887.828369  20806963328  ...   \n",
       "18      3837.931152  3887.828369  3887.828369  20806963328  ...   \n",
       "29      3837.931152  3887.828369  3887.828369  20806963328  ...   \n",
       "30      3837.931152  3887.828369  3887.828369  20806963328  ...   \n",
       "...             ...          ...          ...          ...  ...   \n",
       "140256   229.259460   229.668045   229.668045   7187490226  ...   \n",
       "140274   120.241898   121.010262   121.010262   2305389800  ...   \n",
       "140276   120.241898   121.010262   121.010262   2305389800  ...   \n",
       "140284   129.730942   135.634552   135.634552  12456564435  ...   \n",
       "140285   167.802582   172.469788   172.469788   5830212249  ...   \n",
       "\n",
       "        4_Small Shades  4_Smile  4_Top Hat  4_VR  5_Big Beard  5_Cigarette  \\\n",
       "6                    0        0          0     0            0            0   \n",
       "12                   0        0          0     0            0            0   \n",
       "18                   0        0          0     0            0            0   \n",
       "29                   0        0          0     0            0            0   \n",
       "30                   0        0          0     0            0            0   \n",
       "...                ...      ...        ...   ...          ...          ...   \n",
       "140256               0        0          0     0            0            0   \n",
       "140274               0        0          0     0            0            0   \n",
       "140276               0        0          0     0            0            0   \n",
       "140284               0        0          0     0            0            0   \n",
       "140285               0        0          0     0            0            0   \n",
       "\n",
       "        5_Earring  5_Small Shades  5_Smile  6_Mole  \n",
       "6               0               0        0       0  \n",
       "12              0               0        0       0  \n",
       "18              0               0        0       0  \n",
       "29              0               0        0       0  \n",
       "30              0               0        0       0  \n",
       "...           ...             ...      ...     ...  \n",
       "140256          0               0        0       0  \n",
       "140274          0               0        0       0  \n",
       "140276          0               0        0       0  \n",
       "140284          0               0        0       0  \n",
       "140285          0               0        0       0  \n",
       "\n",
       "[16794 rows x 353 columns]"
      ]
     },
     "execution_count": 106,
     "metadata": {},
     "output_type": "execute_result"
    }
   ],
   "source": [
    "total2"
   ]
  },
  {
   "cell_type": "code",
   "execution_count": 99,
   "id": "d1eadd18",
   "metadata": {},
   "outputs": [],
   "source": [
    "X = total.drop('eth',axis=1).values\n",
    "Y = total['eth']"
   ]
  },
  {
   "cell_type": "code",
   "execution_count": 100,
   "id": "a19538b6",
   "metadata": {},
   "outputs": [],
   "source": [
    "X_train, X_test, y_train, y_test = train_test_split(X, Y, test_size=0.30, random_state=42)"
   ]
  },
  {
   "cell_type": "code",
   "execution_count": 101,
   "id": "2f30be8a",
   "metadata": {},
   "outputs": [],
   "source": [
    "models = [('Support Vector', SVR()),\n",
    "         ('Decision Tree', DecisionTreeRegressor()),\n",
    "         ('KNN', KNeighborsRegressor())]\n",
    "scores = []"
   ]
  },
  {
   "cell_type": "code",
   "execution_count": 102,
   "id": "0e410191",
   "metadata": {},
   "outputs": [],
   "source": [
    "for name, model in models:\n",
    "    model.fit(X_train, y_train)\n",
    "    \n",
    "    prediction = model.predict(X_test)"
   ]
  },
  {
   "cell_type": "code",
   "execution_count": 103,
   "id": "4e5d58cb",
   "metadata": {},
   "outputs": [
    {
     "name": "stdout",
     "output_type": "stream",
     "text": [
      "MAE 13.55273586028974\n",
      "MSE 4417.06966237428\n",
      "RMSE 66.46103867962252\n",
      "R2 score 0.33749563802397975\n"
     ]
    }
   ],
   "source": [
    "print('MAE', metrics.mean_absolute_error(y_test, prediction))\n",
    "print('MSE', metrics.mean_squared_error(y_test, prediction,squared = True))\n",
    "print('RMSE', metrics.mean_squared_error(y_test, prediction,squared = False))\n",
    "print('R2 score', metrics.r2_score(y_test, prediction))"
   ]
  },
  {
   "cell_type": "code",
   "execution_count": 104,
   "id": "fe49c2c4",
   "metadata": {},
   "outputs": [],
   "source": [
    "ensemble = VotingRegressor(estimators=models)\n",
    "ensemble.fit(X_train, y_train)\n",
    "prediction = ensemble.predict(X_test)"
   ]
  },
  {
   "cell_type": "code",
   "execution_count": 105,
   "id": "18ad9396",
   "metadata": {},
   "outputs": [
    {
     "name": "stdout",
     "output_type": "stream",
     "text": [
      "MAE 12.975729632554888\n",
      "MSE 2610.4689617333156\n",
      "RMSE 51.092748621828086\n",
      "R2 score 0.6084628031377446\n"
     ]
    }
   ],
   "source": [
    "print('MAE', metrics.mean_absolute_error(y_test, prediction))\n",
    "print('MSE', metrics.mean_squared_error(y_test, prediction,squared = True))\n",
    "print('RMSE', metrics.mean_squared_error(y_test, prediction,squared = False))\n",
    "print('R2 score', metrics.r2_score(y_test, prediction))"
   ]
  },
  {
   "cell_type": "code",
   "execution_count": null,
   "id": "a6955ec4",
   "metadata": {},
   "outputs": [],
   "source": [
    "#Found on the Internet https://github.com/EpistasisLab/tpot"
   ]
  },
  {
   "cell_type": "code",
   "execution_count": 110,
   "id": "a8e4ba0a",
   "metadata": {},
   "outputs": [
    {
     "name": "stderr",
     "output_type": "stream",
     "text": [
      "C:\\Users\\vkaleev\\Anaconda3\\lib\\site-packages\\tpot\\builtins\\__init__.py:36: UserWarning:\n",
      "\n",
      "Warning: optional dependency `torch` is not available. - skipping import of NN models.\n",
      "\n"
     ]
    }
   ],
   "source": [
    "from tpot import TPOTRegressor"
   ]
  },
  {
   "cell_type": "code",
   "execution_count": 111,
   "id": "b270c177",
   "metadata": {},
   "outputs": [
    {
     "data": {
      "application/vnd.jupyter.widget-view+json": {
       "model_id": "",
       "version_major": 2,
       "version_minor": 0
      },
      "text/plain": [
       "Optimization Progress:   0%|          | 0/300 [00:00<?, ?pipeline/s]"
      ]
     },
     "metadata": {},
     "output_type": "display_data"
    },
    {
     "name": "stdout",
     "output_type": "stream",
     "text": [
      "\n",
      "Generation 1 - Current best internal CV score: -1887.5421592600294\n",
      "\n",
      "Generation 2 - Current best internal CV score: -1887.5421592600294\n",
      "\n",
      "Generation 3 - Current best internal CV score: -1887.5421592600294\n",
      "\n",
      "Generation 4 - Current best internal CV score: -1887.5421592600294\n",
      "\n",
      "Generation 5 - Current best internal CV score: -1887.5421592600294\n",
      "\n",
      "Best pipeline: XGBRegressor(input_matrix, learning_rate=1.0, max_depth=2, min_child_weight=3, n_estimators=100, n_jobs=1, objective=reg:squarederror, subsample=0.9500000000000001, verbosity=0)\n",
      "-1217.8703608528142\n"
     ]
    }
   ],
   "source": [
    "tpot = TPOTRegressor(generations=5, population_size=50, verbosity=2, random_state=42)\n",
    "tpot.fit(X_train, y_train)\n",
    "print(tpot.score(X_test, y_test))"
   ]
  },
  {
   "cell_type": "code",
   "execution_count": 129,
   "id": "4b24d4cd",
   "metadata": {},
   "outputs": [],
   "source": [
    "# We will use XGBRegressor https://www.datatechnotes.com/2019/06/regression-example-with-xgbregressor-in.html"
   ]
  },
  {
   "cell_type": "code",
   "execution_count": 116,
   "id": "51a1df72",
   "metadata": {},
   "outputs": [],
   "source": [
    "import xgboost as xgb\n",
    "from sklearn.model_selection import cross_val_score, KFold\n",
    "from sklearn.metrics import mean_squared_error\n",
    "import matplotlib.pyplot as plt "
   ]
  },
  {
   "cell_type": "code",
   "execution_count": 120,
   "id": "bf4680cb",
   "metadata": {
    "scrolled": true
   },
   "outputs": [
    {
     "name": "stdout",
     "output_type": "stream",
     "text": [
      "XGBRegressor(base_score=None, booster=None, callbacks=None,\n",
      "             colsample_bylevel=None, colsample_bynode=None,\n",
      "             colsample_bytree=None, early_stopping_rounds=None,\n",
      "             enable_categorical=False, eval_metric=None, gamma=None,\n",
      "             gpu_id=None, grow_policy=None, importance_type=None,\n",
      "             interaction_constraints=None, learning_rate=1.0, max_bin=None,\n",
      "             max_cat_to_onehot=None, max_delta_step=None, max_depth=2,\n",
      "             max_leaves=None, min_child_weight=3, missing=nan,\n",
      "             monotone_constraints=None, n_estimators=100, n_jobs=1,\n",
      "             num_parallel_tree=None, predictor=None, random_state=None,\n",
      "             reg_alpha=None, reg_lambda=None, ...)\n"
     ]
    }
   ],
   "source": [
    "xgbr = xgb.XGBRegressor(learning_rate=1.0, max_depth=2, min_child_weight=3, n_estimators=100, n_jobs=1, objective='reg:squarederror', subsample=0.9500000000000001, verbosity=0) \n",
    "print(xgbr)"
   ]
  },
  {
   "cell_type": "code",
   "execution_count": 123,
   "id": "c936ed34",
   "metadata": {},
   "outputs": [
    {
     "data": {
      "text/plain": [
       "XGBRegressor(base_score=0.5, booster='gbtree', callbacks=None,\n",
       "             colsample_bylevel=1, colsample_bynode=1, colsample_bytree=1,\n",
       "             early_stopping_rounds=None, enable_categorical=False,\n",
       "             eval_metric=None, gamma=0, gpu_id=-1, grow_policy='depthwise',\n",
       "             importance_type=None, interaction_constraints='',\n",
       "             learning_rate=1.0, max_bin=256, max_cat_to_onehot=4,\n",
       "             max_delta_step=0, max_depth=2, max_leaves=0, min_child_weight=3,\n",
       "             missing=nan, monotone_constraints='()', n_estimators=100, n_jobs=1,\n",
       "             num_parallel_tree=1, predictor='auto', random_state=0, reg_alpha=0,\n",
       "             reg_lambda=1, ...)"
      ]
     },
     "execution_count": 123,
     "metadata": {},
     "output_type": "execute_result"
    }
   ],
   "source": [
    "xgbr.fit(X_train, y_train)"
   ]
  },
  {
   "cell_type": "code",
   "execution_count": 124,
   "id": "8204e313",
   "metadata": {},
   "outputs": [
    {
     "name": "stdout",
     "output_type": "stream",
     "text": [
      "Training score:  0.903697545587346\n"
     ]
    }
   ],
   "source": [
    "score = xgbr.score(X_train, y_train)  \n",
    "print(\"Training score: \", score)"
   ]
  },
  {
   "cell_type": "code",
   "execution_count": 126,
   "id": "a7705f15",
   "metadata": {},
   "outputs": [
    {
     "name": "stdout",
     "output_type": "stream",
     "text": [
      "Mean cross-validation score: 0.90\n"
     ]
    }
   ],
   "source": [
    "cores = cross_val_score(xgbr, X_train, y_train,cv=10)\n",
    "print(\"Mean cross-validation score: %.2f\" % score.mean())"
   ]
  },
  {
   "cell_type": "code",
   "execution_count": 130,
   "id": "8d4f4a72",
   "metadata": {},
   "outputs": [
    {
     "name": "stdout",
     "output_type": "stream",
     "text": [
      "K-fold CV average score: 0.55\n"
     ]
    }
   ],
   "source": [
    "kfold = KFold(n_splits=10, shuffle=True)\n",
    "kf_cv_scores = cross_val_score(xgbr, X_train, y_train, cv=kfold )\n",
    "print(\"K-fold CV average score: %.2f\" % kf_cv_scores.mean())"
   ]
  },
  {
   "cell_type": "code",
   "execution_count": 131,
   "id": "b33a1acd",
   "metadata": {},
   "outputs": [],
   "source": [
    "prediction = xgbr.predict(X_test)"
   ]
  },
  {
   "cell_type": "code",
   "execution_count": 132,
   "id": "818f59c4",
   "metadata": {},
   "outputs": [
    {
     "name": "stdout",
     "output_type": "stream",
     "text": [
      "MAE 11.627193339944334\n",
      "MSE 2055.8220224807424\n",
      "RMSE 45.34117358958348\n",
      "R2 score 0.6916528011904269\n"
     ]
    }
   ],
   "source": [
    "print('MAE', metrics.mean_absolute_error(y_test, prediction))\n",
    "print('MSE', metrics.mean_squared_error(y_test, prediction,squared = True))\n",
    "print('RMSE', metrics.mean_squared_error(y_test, prediction,squared = False))\n",
    "print('R2 score', metrics.r2_score(y_test, prediction))"
   ]
  },
  {
   "cell_type": "code",
   "execution_count": 133,
   "id": "25ee210c",
   "metadata": {},
   "outputs": [
    {
     "data": {
      "image/png": "[encoded data removed]",
      "text/plain": [
       "<Figure size 432x288 with 1 Axes>"
      ]
     },
     "metadata": {
      "needs_background": "light"
     },
     "output_type": "display_data"
    }
   ],
   "source": [
    "x_ax = range(len(y_test))\n",
    "plt.plot(x_ax, y_test, label=\"original\")\n",
    "plt.plot(x_ax, prediction, label=\"predicted\")\n",
    "plt.title(\"Test and predicted data\")\n",
    "plt.legend()\n",
    "plt.show()"
   ]
  },
  {
   "cell_type": "code",
   "execution_count": null,
   "id": "16ef5340",
   "metadata": {},
   "outputs": [],
   "source": []
  }
 ],
 "metadata": {
  "kernelspec": {
   "display_name": "Python 3",
   "language": "python",
   "name": "python3"
  },
  "language_info": {
   "codemirror_mode": {
    "name": "ipython",
    "version": 3
   },
   "file_extension": ".py",
   "mimetype": "text/x-python",
   "name": "python",
   "nbconvert_exporter": "python",
   "pygments_lexer": "ipython3",
   "version": "3.8.8"
  }
 },
 "nbformat": 4,
 "nbformat_minor": 5
}
